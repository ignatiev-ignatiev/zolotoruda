{
 "cells": [
  {
   "cell_type": "markdown",
   "metadata": {
    "toc": true
   },
   "source": [
    "<h1>Содержание<span class=\"tocSkip\"></span></h1>\n",
    "<div class=\"toc\"><ul class=\"toc-item\"><li><span><a href=\"#Подготовка-данных\" data-toc-modified-id=\"Подготовка-данных-1\"><span class=\"toc-item-num\">1&nbsp;&nbsp;</span>Подготовка данных</a></span></li><li><span><a href=\"#Анализ-данных\" data-toc-modified-id=\"Анализ-данных-2\"><span class=\"toc-item-num\">2&nbsp;&nbsp;</span>Анализ данных</a></span></li><li><span><a href=\"#Модель\" data-toc-modified-id=\"Модель-3\"><span class=\"toc-item-num\">3&nbsp;&nbsp;</span>Модель</a></span></li><li><span><a href=\"#Чек-лист-готовности-проекта\" data-toc-modified-id=\"Чек-лист-готовности-проекта-4\"><span class=\"toc-item-num\">4&nbsp;&nbsp;</span>Чек-лист готовности проекта</a></span></li></ul></div>"
   ]
  },
  {
   "cell_type": "markdown",
   "metadata": {},
   "source": [
    "# Восстановление золота из руды"
   ]
  },
  {
   "cell_type": "markdown",
   "metadata": {},
   "source": [
    "Подготовьте прототип модели машинного обучения для «Цифры». Компания разрабатывает решения для эффективной работы промышленных предприятий.\n",
    "\n",
    "Модель должна предсказать коэффициент восстановления золота из золотосодержащей руды. Используйте данные с параметрами добычи и очистки. \n",
    "\n",
    "Модель поможет оптимизировать производство, чтобы не запускать предприятие с убыточными характеристиками.\n",
    "\n",
    "Вам нужно:\n",
    "\n",
    "1. Подготовить данные;\n",
    "2. Провести исследовательский анализ данных;\n",
    "3. Построить и обучить модель.\n",
    "\n",
    "Чтобы выполнить проект, обращайтесь к библиотекам *pandas*, *matplotlib* и *sklearn.* Вам поможет их документация."
   ]
  },
  {
   "cell_type": "markdown",
   "metadata": {},
   "source": [
    "## Подготовка данных"
   ]
  },
  {
   "cell_type": "code",
   "execution_count": 1,
   "metadata": {},
   "outputs": [],
   "source": [
    "import pandas as pd\n",
    "import numpy as np\n",
    "import matplotlib.pyplot as plt\n",
    "import seaborn as sns\n",
    "\n",
    "from sklearn.metrics import mean_absolute_error, make_scorer\n",
    "from sklearn.pipeline import  make_pipeline\n",
    "from sklearn.impute import KNNImputer\n",
    "from sklearn.ensemble import RandomForestRegressor\n",
    "from sklearn.preprocessing import StandardScaler\n",
    "from sklearn.model_selection import cross_val_score\n",
    "from sklearn.model_selection import GridSearchCV\n",
    "from sklearn.preprocessing import PolynomialFeatures\n",
    "from sklearn.linear_model import LinearRegression\n",
    "from sklearn.tree import DecisionTreeRegressor\n",
    "from sklearn.metrics import make_scorer\n",
    "from sklearn.dummy import DummyRegressor"
   ]
  },
  {
   "cell_type": "code",
   "execution_count": 2,
   "metadata": {},
   "outputs": [],
   "source": [
    "data_train = pd.read_csv('/datasets/gold_industry_train.csv')\n",
    "data_test = pd.read_csv('/datasets/gold_industry_test.csv')\n",
    "data_full = pd.read_csv('/datasets/gold_industry_full.csv')"
   ]
  },
  {
   "cell_type": "code",
   "execution_count": 146,
   "metadata": {},
   "outputs": [],
   "source": [
    "def display_data_summary(data):\n",
    "    # Вывод первых 5 строк данных\n",
    "    display(\"Первые 5 строк данных:\")\n",
    "    display(data.head())\n",
    "    display()\n",
    "    # Вывод общей информации о данных\n",
    "    display(\"Информация о данных:\")\n",
    "    data.info()\n",
    "    display()\n",
    "    # Вывод основной статистической информации о данных\n",
    "    display(\"Основная статистическая информация:\")\n",
    "    display(data.describe())\n",
    "    display(\"Количество дубликатов:\")\n",
    "    display(data.duplicated().sum())"
   ]
  },
  {
   "cell_type": "code",
   "execution_count": 147,
   "metadata": {},
   "outputs": [
    {
     "data": {
      "text/plain": [
       "'Первые 5 строк данных:'"
      ]
     },
     "metadata": {},
     "output_type": "display_data"
    },
    {
     "data": {
      "text/html": [
       "<div>\n",
       "<style scoped>\n",
       "    .dataframe tbody tr th:only-of-type {\n",
       "        vertical-align: middle;\n",
       "    }\n",
       "\n",
       "    .dataframe tbody tr th {\n",
       "        vertical-align: top;\n",
       "    }\n",
       "\n",
       "    .dataframe thead th {\n",
       "        text-align: right;\n",
       "    }\n",
       "</style>\n",
       "<table border=\"1\" class=\"dataframe\">\n",
       "  <thead>\n",
       "    <tr style=\"text-align: right;\">\n",
       "      <th></th>\n",
       "      <th>date</th>\n",
       "      <th>rougher.input.feed_au</th>\n",
       "      <th>rougher.input.feed_ag</th>\n",
       "      <th>rougher.input.feed_pb</th>\n",
       "      <th>rougher.input.feed_sol</th>\n",
       "      <th>rougher.input.feed_rate</th>\n",
       "      <th>rougher.input.feed_size</th>\n",
       "      <th>rougher.input.floatbank10_sulfate</th>\n",
       "      <th>rougher.input.floatbank10_xanthate</th>\n",
       "      <th>rougher.state.floatbank10_a_air</th>\n",
       "      <th>...</th>\n",
       "      <th>secondary_cleaner.state.floatbank4_b_air</th>\n",
       "      <th>secondary_cleaner.state.floatbank4_b_level</th>\n",
       "      <th>secondary_cleaner.state.floatbank5_a_air</th>\n",
       "      <th>secondary_cleaner.state.floatbank5_a_level</th>\n",
       "      <th>secondary_cleaner.state.floatbank5_b_air</th>\n",
       "      <th>secondary_cleaner.state.floatbank5_b_level</th>\n",
       "      <th>secondary_cleaner.state.floatbank6_a_air</th>\n",
       "      <th>secondary_cleaner.state.floatbank6_a_level</th>\n",
       "      <th>final.output.recovery</th>\n",
       "      <th>rougher.output.recovery</th>\n",
       "    </tr>\n",
       "  </thead>\n",
       "  <tbody>\n",
       "    <tr>\n",
       "      <th>0</th>\n",
       "      <td>2017-12-09 14:59:59</td>\n",
       "      <td>4.365491</td>\n",
       "      <td>6.158718</td>\n",
       "      <td>3.875727</td>\n",
       "      <td>39.135119</td>\n",
       "      <td>555.820208</td>\n",
       "      <td>94.544358</td>\n",
       "      <td>6.146982</td>\n",
       "      <td>9.308612</td>\n",
       "      <td>1196.238112</td>\n",
       "      <td>...</td>\n",
       "      <td>20.020205</td>\n",
       "      <td>-500.220296</td>\n",
       "      <td>17.963512</td>\n",
       "      <td>-499.939490</td>\n",
       "      <td>12.990306</td>\n",
       "      <td>-500.080993</td>\n",
       "      <td>19.990336</td>\n",
       "      <td>-499.191575</td>\n",
       "      <td>70.281454</td>\n",
       "      <td>89.514960</td>\n",
       "    </tr>\n",
       "    <tr>\n",
       "      <th>1</th>\n",
       "      <td>2017-12-09 15:59:59</td>\n",
       "      <td>4.362781</td>\n",
       "      <td>6.048130</td>\n",
       "      <td>3.902537</td>\n",
       "      <td>39.713906</td>\n",
       "      <td>544.731687</td>\n",
       "      <td>123.742430</td>\n",
       "      <td>6.210119</td>\n",
       "      <td>9.297709</td>\n",
       "      <td>1201.904177</td>\n",
       "      <td>...</td>\n",
       "      <td>20.054122</td>\n",
       "      <td>-500.314711</td>\n",
       "      <td>17.979515</td>\n",
       "      <td>-499.272871</td>\n",
       "      <td>12.992404</td>\n",
       "      <td>-499.976268</td>\n",
       "      <td>20.013986</td>\n",
       "      <td>-500.625471</td>\n",
       "      <td>65.523246</td>\n",
       "      <td>89.858126</td>\n",
       "    </tr>\n",
       "    <tr>\n",
       "      <th>2</th>\n",
       "      <td>2017-12-09 16:59:59</td>\n",
       "      <td>5.081681</td>\n",
       "      <td>6.082745</td>\n",
       "      <td>4.564078</td>\n",
       "      <td>37.208683</td>\n",
       "      <td>558.155110</td>\n",
       "      <td>82.610855</td>\n",
       "      <td>7.363824</td>\n",
       "      <td>9.003562</td>\n",
       "      <td>1200.826926</td>\n",
       "      <td>...</td>\n",
       "      <td>20.029144</td>\n",
       "      <td>-500.000662</td>\n",
       "      <td>18.012723</td>\n",
       "      <td>-500.024764</td>\n",
       "      <td>13.016445</td>\n",
       "      <td>-500.058432</td>\n",
       "      <td>19.973767</td>\n",
       "      <td>-501.394155</td>\n",
       "      <td>74.817644</td>\n",
       "      <td>91.816623</td>\n",
       "    </tr>\n",
       "    <tr>\n",
       "      <th>3</th>\n",
       "      <td>2017-12-09 17:59:59</td>\n",
       "      <td>5.145949</td>\n",
       "      <td>6.084374</td>\n",
       "      <td>4.768124</td>\n",
       "      <td>36.808874</td>\n",
       "      <td>539.713765</td>\n",
       "      <td>77.984784</td>\n",
       "      <td>6.927072</td>\n",
       "      <td>8.955597</td>\n",
       "      <td>1199.292489</td>\n",
       "      <td>...</td>\n",
       "      <td>19.977466</td>\n",
       "      <td>-500.159903</td>\n",
       "      <td>17.980463</td>\n",
       "      <td>-500.504602</td>\n",
       "      <td>12.949071</td>\n",
       "      <td>-500.009937</td>\n",
       "      <td>20.010332</td>\n",
       "      <td>-508.337973</td>\n",
       "      <td>63.082720</td>\n",
       "      <td>88.478959</td>\n",
       "    </tr>\n",
       "    <tr>\n",
       "      <th>4</th>\n",
       "      <td>2017-12-09 18:59:59</td>\n",
       "      <td>5.735249</td>\n",
       "      <td>6.165220</td>\n",
       "      <td>4.512346</td>\n",
       "      <td>37.810642</td>\n",
       "      <td>558.713584</td>\n",
       "      <td>86.434874</td>\n",
       "      <td>7.823471</td>\n",
       "      <td>7.490356</td>\n",
       "      <td>1198.005449</td>\n",
       "      <td>...</td>\n",
       "      <td>20.023735</td>\n",
       "      <td>-499.713680</td>\n",
       "      <td>17.990955</td>\n",
       "      <td>-500.334769</td>\n",
       "      <td>13.007523</td>\n",
       "      <td>-499.968459</td>\n",
       "      <td>19.995999</td>\n",
       "      <td>-499.788805</td>\n",
       "      <td>74.463380</td>\n",
       "      <td>89.230316</td>\n",
       "    </tr>\n",
       "  </tbody>\n",
       "</table>\n",
       "<p>5 rows × 55 columns</p>\n",
       "</div>"
      ],
      "text/plain": [
       "                  date  rougher.input.feed_au  rougher.input.feed_ag  \\\n",
       "0  2017-12-09 14:59:59               4.365491               6.158718   \n",
       "1  2017-12-09 15:59:59               4.362781               6.048130   \n",
       "2  2017-12-09 16:59:59               5.081681               6.082745   \n",
       "3  2017-12-09 17:59:59               5.145949               6.084374   \n",
       "4  2017-12-09 18:59:59               5.735249               6.165220   \n",
       "\n",
       "   rougher.input.feed_pb  rougher.input.feed_sol  rougher.input.feed_rate  \\\n",
       "0               3.875727               39.135119               555.820208   \n",
       "1               3.902537               39.713906               544.731687   \n",
       "2               4.564078               37.208683               558.155110   \n",
       "3               4.768124               36.808874               539.713765   \n",
       "4               4.512346               37.810642               558.713584   \n",
       "\n",
       "   rougher.input.feed_size  rougher.input.floatbank10_sulfate  \\\n",
       "0                94.544358                           6.146982   \n",
       "1               123.742430                           6.210119   \n",
       "2                82.610855                           7.363824   \n",
       "3                77.984784                           6.927072   \n",
       "4                86.434874                           7.823471   \n",
       "\n",
       "   rougher.input.floatbank10_xanthate  rougher.state.floatbank10_a_air  ...  \\\n",
       "0                            9.308612                      1196.238112  ...   \n",
       "1                            9.297709                      1201.904177  ...   \n",
       "2                            9.003562                      1200.826926  ...   \n",
       "3                            8.955597                      1199.292489  ...   \n",
       "4                            7.490356                      1198.005449  ...   \n",
       "\n",
       "   secondary_cleaner.state.floatbank4_b_air  \\\n",
       "0                                 20.020205   \n",
       "1                                 20.054122   \n",
       "2                                 20.029144   \n",
       "3                                 19.977466   \n",
       "4                                 20.023735   \n",
       "\n",
       "   secondary_cleaner.state.floatbank4_b_level  \\\n",
       "0                                 -500.220296   \n",
       "1                                 -500.314711   \n",
       "2                                 -500.000662   \n",
       "3                                 -500.159903   \n",
       "4                                 -499.713680   \n",
       "\n",
       "   secondary_cleaner.state.floatbank5_a_air  \\\n",
       "0                                 17.963512   \n",
       "1                                 17.979515   \n",
       "2                                 18.012723   \n",
       "3                                 17.980463   \n",
       "4                                 17.990955   \n",
       "\n",
       "   secondary_cleaner.state.floatbank5_a_level  \\\n",
       "0                                 -499.939490   \n",
       "1                                 -499.272871   \n",
       "2                                 -500.024764   \n",
       "3                                 -500.504602   \n",
       "4                                 -500.334769   \n",
       "\n",
       "   secondary_cleaner.state.floatbank5_b_air  \\\n",
       "0                                 12.990306   \n",
       "1                                 12.992404   \n",
       "2                                 13.016445   \n",
       "3                                 12.949071   \n",
       "4                                 13.007523   \n",
       "\n",
       "   secondary_cleaner.state.floatbank5_b_level  \\\n",
       "0                                 -500.080993   \n",
       "1                                 -499.976268   \n",
       "2                                 -500.058432   \n",
       "3                                 -500.009937   \n",
       "4                                 -499.968459   \n",
       "\n",
       "   secondary_cleaner.state.floatbank6_a_air  \\\n",
       "0                                 19.990336   \n",
       "1                                 20.013986   \n",
       "2                                 19.973767   \n",
       "3                                 20.010332   \n",
       "4                                 19.995999   \n",
       "\n",
       "   secondary_cleaner.state.floatbank6_a_level  final.output.recovery  \\\n",
       "0                                 -499.191575              70.281454   \n",
       "1                                 -500.625471              65.523246   \n",
       "2                                 -501.394155              74.817644   \n",
       "3                                 -508.337973              63.082720   \n",
       "4                                 -499.788805              74.463380   \n",
       "\n",
       "   rougher.output.recovery  \n",
       "0                89.514960  \n",
       "1                89.858126  \n",
       "2                91.816623  \n",
       "3                88.478959  \n",
       "4                89.230316  \n",
       "\n",
       "[5 rows x 55 columns]"
      ]
     },
     "metadata": {},
     "output_type": "display_data"
    },
    {
     "data": {
      "text/plain": [
       "'Информация о данных:'"
      ]
     },
     "metadata": {},
     "output_type": "display_data"
    },
    {
     "name": "stdout",
     "output_type": "stream",
     "text": [
      "<class 'pandas.core.frame.DataFrame'>\n",
      "Int64Index: 4860 entries, 0 to 4859\n",
      "Data columns (total 55 columns):\n",
      " #   Column                                      Non-Null Count  Dtype  \n",
      "---  ------                                      --------------  -----  \n",
      " 0   date                                        4860 non-null   object \n",
      " 1   rougher.input.feed_au                       4860 non-null   float64\n",
      " 2   rougher.input.feed_ag                       4860 non-null   float64\n",
      " 3   rougher.input.feed_pb                       4860 non-null   float64\n",
      " 4   rougher.input.feed_sol                      4860 non-null   float64\n",
      " 5   rougher.input.feed_rate                     4860 non-null   float64\n",
      " 6   rougher.input.feed_size                     4860 non-null   float64\n",
      " 7   rougher.input.floatbank10_sulfate           4860 non-null   float64\n",
      " 8   rougher.input.floatbank10_xanthate          4860 non-null   float64\n",
      " 9   rougher.state.floatbank10_a_air             4860 non-null   float64\n",
      " 10  rougher.state.floatbank10_a_level           4860 non-null   float64\n",
      " 11  rougher.state.floatbank10_b_air             4860 non-null   float64\n",
      " 12  rougher.state.floatbank10_b_level           4860 non-null   float64\n",
      " 13  rougher.state.floatbank10_c_air             4860 non-null   float64\n",
      " 14  rougher.state.floatbank10_c_level           4860 non-null   float64\n",
      " 15  rougher.state.floatbank10_d_air             4860 non-null   float64\n",
      " 16  rougher.state.floatbank10_d_level           4860 non-null   float64\n",
      " 17  rougher.state.floatbank10_e_air             4860 non-null   float64\n",
      " 18  rougher.state.floatbank10_e_level           4860 non-null   float64\n",
      " 19  rougher.state.floatbank10_f_air             4860 non-null   float64\n",
      " 20  rougher.state.floatbank10_f_level           4860 non-null   float64\n",
      " 21  rougher.input.floatbank11_sulfate           4860 non-null   float64\n",
      " 22  rougher.input.floatbank11_xanthate          4860 non-null   float64\n",
      " 23  primary_cleaner.input.sulfate               4860 non-null   float64\n",
      " 24  primary_cleaner.input.depressant            4860 non-null   float64\n",
      " 25  primary_cleaner.input.feed_size             4860 non-null   float64\n",
      " 26  primary_cleaner.input.xanthate              4860 non-null   float64\n",
      " 27  primary_cleaner.state.floatbank8_a_air      4860 non-null   float64\n",
      " 28  primary_cleaner.state.floatbank8_a_level    4860 non-null   float64\n",
      " 29  primary_cleaner.state.floatbank8_b_air      4860 non-null   float64\n",
      " 30  primary_cleaner.state.floatbank8_b_level    4860 non-null   float64\n",
      " 31  primary_cleaner.state.floatbank8_c_air      4860 non-null   float64\n",
      " 32  primary_cleaner.state.floatbank8_c_level    4860 non-null   float64\n",
      " 33  primary_cleaner.state.floatbank8_d_air      4860 non-null   float64\n",
      " 34  primary_cleaner.state.floatbank8_d_level    4860 non-null   float64\n",
      " 35  secondary_cleaner.state.floatbank2_a_air    4860 non-null   float64\n",
      " 36  secondary_cleaner.state.floatbank2_a_level  4860 non-null   float64\n",
      " 37  secondary_cleaner.state.floatbank2_b_air    4860 non-null   float64\n",
      " 38  secondary_cleaner.state.floatbank2_b_level  4860 non-null   float64\n",
      " 39  secondary_cleaner.state.floatbank3_a_air    4860 non-null   float64\n",
      " 40  secondary_cleaner.state.floatbank3_a_level  4860 non-null   float64\n",
      " 41  secondary_cleaner.state.floatbank3_b_air    4860 non-null   float64\n",
      " 42  secondary_cleaner.state.floatbank3_b_level  4860 non-null   float64\n",
      " 43  secondary_cleaner.state.floatbank4_a_air    4860 non-null   float64\n",
      " 44  secondary_cleaner.state.floatbank4_a_level  4860 non-null   float64\n",
      " 45  secondary_cleaner.state.floatbank4_b_air    4860 non-null   float64\n",
      " 46  secondary_cleaner.state.floatbank4_b_level  4860 non-null   float64\n",
      " 47  secondary_cleaner.state.floatbank5_a_air    4860 non-null   float64\n",
      " 48  secondary_cleaner.state.floatbank5_a_level  4860 non-null   float64\n",
      " 49  secondary_cleaner.state.floatbank5_b_air    4860 non-null   float64\n",
      " 50  secondary_cleaner.state.floatbank5_b_level  4860 non-null   float64\n",
      " 51  secondary_cleaner.state.floatbank6_a_air    4860 non-null   float64\n",
      " 52  secondary_cleaner.state.floatbank6_a_level  4860 non-null   float64\n",
      " 53  final.output.recovery                       4860 non-null   float64\n",
      " 54  rougher.output.recovery                     4860 non-null   float64\n",
      "dtypes: float64(54), object(1)\n",
      "memory usage: 2.1+ MB\n"
     ]
    },
    {
     "data": {
      "text/plain": [
       "'Основная статистическая информация:'"
      ]
     },
     "metadata": {},
     "output_type": "display_data"
    },
    {
     "data": {
      "text/html": [
       "<div>\n",
       "<style scoped>\n",
       "    .dataframe tbody tr th:only-of-type {\n",
       "        vertical-align: middle;\n",
       "    }\n",
       "\n",
       "    .dataframe tbody tr th {\n",
       "        vertical-align: top;\n",
       "    }\n",
       "\n",
       "    .dataframe thead th {\n",
       "        text-align: right;\n",
       "    }\n",
       "</style>\n",
       "<table border=\"1\" class=\"dataframe\">\n",
       "  <thead>\n",
       "    <tr style=\"text-align: right;\">\n",
       "      <th></th>\n",
       "      <th>rougher.input.feed_au</th>\n",
       "      <th>rougher.input.feed_ag</th>\n",
       "      <th>rougher.input.feed_pb</th>\n",
       "      <th>rougher.input.feed_sol</th>\n",
       "      <th>rougher.input.feed_rate</th>\n",
       "      <th>rougher.input.feed_size</th>\n",
       "      <th>rougher.input.floatbank10_sulfate</th>\n",
       "      <th>rougher.input.floatbank10_xanthate</th>\n",
       "      <th>rougher.state.floatbank10_a_air</th>\n",
       "      <th>rougher.state.floatbank10_a_level</th>\n",
       "      <th>...</th>\n",
       "      <th>secondary_cleaner.state.floatbank4_b_air</th>\n",
       "      <th>secondary_cleaner.state.floatbank4_b_level</th>\n",
       "      <th>secondary_cleaner.state.floatbank5_a_air</th>\n",
       "      <th>secondary_cleaner.state.floatbank5_a_level</th>\n",
       "      <th>secondary_cleaner.state.floatbank5_b_air</th>\n",
       "      <th>secondary_cleaner.state.floatbank5_b_level</th>\n",
       "      <th>secondary_cleaner.state.floatbank6_a_air</th>\n",
       "      <th>secondary_cleaner.state.floatbank6_a_level</th>\n",
       "      <th>final.output.recovery</th>\n",
       "      <th>rougher.output.recovery</th>\n",
       "    </tr>\n",
       "  </thead>\n",
       "  <tbody>\n",
       "    <tr>\n",
       "      <th>count</th>\n",
       "      <td>4860.000000</td>\n",
       "      <td>4860.000000</td>\n",
       "      <td>4860.000000</td>\n",
       "      <td>4860.000000</td>\n",
       "      <td>4860.000000</td>\n",
       "      <td>4860.000000</td>\n",
       "      <td>4860.000000</td>\n",
       "      <td>4860.000000</td>\n",
       "      <td>4860.000000</td>\n",
       "      <td>4860.000000</td>\n",
       "      <td>...</td>\n",
       "      <td>4.860000e+03</td>\n",
       "      <td>4860.000000</td>\n",
       "      <td>4860.000000</td>\n",
       "      <td>4860.000000</td>\n",
       "      <td>4860.000000</td>\n",
       "      <td>4860.000000</td>\n",
       "      <td>4860.000000</td>\n",
       "      <td>4860.000000</td>\n",
       "      <td>4860.000000</td>\n",
       "      <td>4860.000000</td>\n",
       "    </tr>\n",
       "    <tr>\n",
       "      <th>mean</th>\n",
       "      <td>8.005584</td>\n",
       "      <td>8.547348</td>\n",
       "      <td>3.561784</td>\n",
       "      <td>37.069792</td>\n",
       "      <td>490.309284</td>\n",
       "      <td>59.136150</td>\n",
       "      <td>12.057597</td>\n",
       "      <td>6.101661</td>\n",
       "      <td>1108.613929</td>\n",
       "      <td>-368.367214</td>\n",
       "      <td>...</td>\n",
       "      <td>1.556951e+01</td>\n",
       "      <td>-464.194020</td>\n",
       "      <td>16.592772</td>\n",
       "      <td>-490.814830</td>\n",
       "      <td>12.944947</td>\n",
       "      <td>-489.585724</td>\n",
       "      <td>19.052445</td>\n",
       "      <td>-504.698207</td>\n",
       "      <td>67.923574</td>\n",
       "      <td>85.750584</td>\n",
       "    </tr>\n",
       "    <tr>\n",
       "      <th>std</th>\n",
       "      <td>1.993590</td>\n",
       "      <td>1.958601</td>\n",
       "      <td>1.054072</td>\n",
       "      <td>4.951534</td>\n",
       "      <td>94.390944</td>\n",
       "      <td>19.512497</td>\n",
       "      <td>3.409122</td>\n",
       "      <td>1.042937</td>\n",
       "      <td>156.484531</td>\n",
       "      <td>91.166106</td>\n",
       "      <td>...</td>\n",
       "      <td>4.927123e+00</td>\n",
       "      <td>65.711575</td>\n",
       "      <td>5.724469</td>\n",
       "      <td>32.255136</td>\n",
       "      <td>5.533068</td>\n",
       "      <td>37.081098</td>\n",
       "      <td>5.549336</td>\n",
       "      <td>38.709553</td>\n",
       "      <td>8.414134</td>\n",
       "      <td>6.648023</td>\n",
       "    </tr>\n",
       "    <tr>\n",
       "      <th>min</th>\n",
       "      <td>0.010000</td>\n",
       "      <td>0.010000</td>\n",
       "      <td>0.010000</td>\n",
       "      <td>0.010000</td>\n",
       "      <td>0.012786</td>\n",
       "      <td>0.046369</td>\n",
       "      <td>0.018907</td>\n",
       "      <td>0.015783</td>\n",
       "      <td>300.792494</td>\n",
       "      <td>-600.568138</td>\n",
       "      <td>...</td>\n",
       "      <td>2.489718e-17</td>\n",
       "      <td>-799.860767</td>\n",
       "      <td>-0.371498</td>\n",
       "      <td>-797.142475</td>\n",
       "      <td>1.358469</td>\n",
       "      <td>-800.006180</td>\n",
       "      <td>0.160386</td>\n",
       "      <td>-809.734800</td>\n",
       "      <td>5.586496</td>\n",
       "      <td>18.491446</td>\n",
       "    </tr>\n",
       "    <tr>\n",
       "      <th>25%</th>\n",
       "      <td>6.574363</td>\n",
       "      <td>6.975898</td>\n",
       "      <td>2.889751</td>\n",
       "      <td>34.499634</td>\n",
       "      <td>434.099695</td>\n",
       "      <td>47.610795</td>\n",
       "      <td>9.891306</td>\n",
       "      <td>5.499815</td>\n",
       "      <td>999.716280</td>\n",
       "      <td>-499.732114</td>\n",
       "      <td>...</td>\n",
       "      <td>1.202130e+01</td>\n",
       "      <td>-500.196647</td>\n",
       "      <td>11.073147</td>\n",
       "      <td>-500.483408</td>\n",
       "      <td>9.011798</td>\n",
       "      <td>-500.129853</td>\n",
       "      <td>14.963797</td>\n",
       "      <td>-500.670150</td>\n",
       "      <td>63.939233</td>\n",
       "      <td>82.354512</td>\n",
       "    </tr>\n",
       "    <tr>\n",
       "      <th>50%</th>\n",
       "      <td>7.812923</td>\n",
       "      <td>8.179714</td>\n",
       "      <td>3.534772</td>\n",
       "      <td>37.477270</td>\n",
       "      <td>502.118742</td>\n",
       "      <td>55.461058</td>\n",
       "      <td>11.997874</td>\n",
       "      <td>6.099860</td>\n",
       "      <td>1001.415225</td>\n",
       "      <td>-300.181407</td>\n",
       "      <td>...</td>\n",
       "      <td>1.501236e+01</td>\n",
       "      <td>-499.541765</td>\n",
       "      <td>16.630479</td>\n",
       "      <td>-499.872663</td>\n",
       "      <td>11.999357</td>\n",
       "      <td>-499.955378</td>\n",
       "      <td>19.959824</td>\n",
       "      <td>-500.033782</td>\n",
       "      <td>68.744713</td>\n",
       "      <td>86.839027</td>\n",
       "    </tr>\n",
       "    <tr>\n",
       "      <th>75%</th>\n",
       "      <td>9.556589</td>\n",
       "      <td>10.084339</td>\n",
       "      <td>4.193098</td>\n",
       "      <td>40.450375</td>\n",
       "      <td>555.642707</td>\n",
       "      <td>66.538910</td>\n",
       "      <td>14.496080</td>\n",
       "      <td>6.802227</td>\n",
       "      <td>1202.826771</td>\n",
       "      <td>-299.961632</td>\n",
       "      <td>...</td>\n",
       "      <td>1.999938e+01</td>\n",
       "      <td>-400.302337</td>\n",
       "      <td>19.983130</td>\n",
       "      <td>-498.852661</td>\n",
       "      <td>15.003970</td>\n",
       "      <td>-499.643878</td>\n",
       "      <td>24.974535</td>\n",
       "      <td>-499.460505</td>\n",
       "      <td>73.037434</td>\n",
       "      <td>90.145117</td>\n",
       "    </tr>\n",
       "    <tr>\n",
       "      <th>max</th>\n",
       "      <td>13.417156</td>\n",
       "      <td>14.533698</td>\n",
       "      <td>7.142594</td>\n",
       "      <td>53.477742</td>\n",
       "      <td>702.523396</td>\n",
       "      <td>363.989699</td>\n",
       "      <td>30.010759</td>\n",
       "      <td>9.396928</td>\n",
       "      <td>1521.980372</td>\n",
       "      <td>-281.039299</td>\n",
       "      <td>...</td>\n",
       "      <td>2.398898e+01</td>\n",
       "      <td>-114.250832</td>\n",
       "      <td>33.215996</td>\n",
       "      <td>-288.963521</td>\n",
       "      <td>24.177106</td>\n",
       "      <td>-141.934397</td>\n",
       "      <td>32.028529</td>\n",
       "      <td>-104.427459</td>\n",
       "      <td>100.000000</td>\n",
       "      <td>100.000000</td>\n",
       "    </tr>\n",
       "  </tbody>\n",
       "</table>\n",
       "<p>8 rows × 54 columns</p>\n",
       "</div>"
      ],
      "text/plain": [
       "       rougher.input.feed_au  rougher.input.feed_ag  rougher.input.feed_pb  \\\n",
       "count            4860.000000            4860.000000            4860.000000   \n",
       "mean                8.005584               8.547348               3.561784   \n",
       "std                 1.993590               1.958601               1.054072   \n",
       "min                 0.010000               0.010000               0.010000   \n",
       "25%                 6.574363               6.975898               2.889751   \n",
       "50%                 7.812923               8.179714               3.534772   \n",
       "75%                 9.556589              10.084339               4.193098   \n",
       "max                13.417156              14.533698               7.142594   \n",
       "\n",
       "       rougher.input.feed_sol  rougher.input.feed_rate  \\\n",
       "count             4860.000000              4860.000000   \n",
       "mean                37.069792               490.309284   \n",
       "std                  4.951534                94.390944   \n",
       "min                  0.010000                 0.012786   \n",
       "25%                 34.499634               434.099695   \n",
       "50%                 37.477270               502.118742   \n",
       "75%                 40.450375               555.642707   \n",
       "max                 53.477742               702.523396   \n",
       "\n",
       "       rougher.input.feed_size  rougher.input.floatbank10_sulfate  \\\n",
       "count              4860.000000                        4860.000000   \n",
       "mean                 59.136150                          12.057597   \n",
       "std                  19.512497                           3.409122   \n",
       "min                   0.046369                           0.018907   \n",
       "25%                  47.610795                           9.891306   \n",
       "50%                  55.461058                          11.997874   \n",
       "75%                  66.538910                          14.496080   \n",
       "max                 363.989699                          30.010759   \n",
       "\n",
       "       rougher.input.floatbank10_xanthate  rougher.state.floatbank10_a_air  \\\n",
       "count                         4860.000000                      4860.000000   \n",
       "mean                             6.101661                      1108.613929   \n",
       "std                              1.042937                       156.484531   \n",
       "min                              0.015783                       300.792494   \n",
       "25%                              5.499815                       999.716280   \n",
       "50%                              6.099860                      1001.415225   \n",
       "75%                              6.802227                      1202.826771   \n",
       "max                              9.396928                      1521.980372   \n",
       "\n",
       "       rougher.state.floatbank10_a_level  ...  \\\n",
       "count                        4860.000000  ...   \n",
       "mean                         -368.367214  ...   \n",
       "std                            91.166106  ...   \n",
       "min                          -600.568138  ...   \n",
       "25%                          -499.732114  ...   \n",
       "50%                          -300.181407  ...   \n",
       "75%                          -299.961632  ...   \n",
       "max                          -281.039299  ...   \n",
       "\n",
       "       secondary_cleaner.state.floatbank4_b_air  \\\n",
       "count                              4.860000e+03   \n",
       "mean                               1.556951e+01   \n",
       "std                                4.927123e+00   \n",
       "min                                2.489718e-17   \n",
       "25%                                1.202130e+01   \n",
       "50%                                1.501236e+01   \n",
       "75%                                1.999938e+01   \n",
       "max                                2.398898e+01   \n",
       "\n",
       "       secondary_cleaner.state.floatbank4_b_level  \\\n",
       "count                                 4860.000000   \n",
       "mean                                  -464.194020   \n",
       "std                                     65.711575   \n",
       "min                                   -799.860767   \n",
       "25%                                   -500.196647   \n",
       "50%                                   -499.541765   \n",
       "75%                                   -400.302337   \n",
       "max                                   -114.250832   \n",
       "\n",
       "       secondary_cleaner.state.floatbank5_a_air  \\\n",
       "count                               4860.000000   \n",
       "mean                                  16.592772   \n",
       "std                                    5.724469   \n",
       "min                                   -0.371498   \n",
       "25%                                   11.073147   \n",
       "50%                                   16.630479   \n",
       "75%                                   19.983130   \n",
       "max                                   33.215996   \n",
       "\n",
       "       secondary_cleaner.state.floatbank5_a_level  \\\n",
       "count                                 4860.000000   \n",
       "mean                                  -490.814830   \n",
       "std                                     32.255136   \n",
       "min                                   -797.142475   \n",
       "25%                                   -500.483408   \n",
       "50%                                   -499.872663   \n",
       "75%                                   -498.852661   \n",
       "max                                   -288.963521   \n",
       "\n",
       "       secondary_cleaner.state.floatbank5_b_air  \\\n",
       "count                               4860.000000   \n",
       "mean                                  12.944947   \n",
       "std                                    5.533068   \n",
       "min                                    1.358469   \n",
       "25%                                    9.011798   \n",
       "50%                                   11.999357   \n",
       "75%                                   15.003970   \n",
       "max                                   24.177106   \n",
       "\n",
       "       secondary_cleaner.state.floatbank5_b_level  \\\n",
       "count                                 4860.000000   \n",
       "mean                                  -489.585724   \n",
       "std                                     37.081098   \n",
       "min                                   -800.006180   \n",
       "25%                                   -500.129853   \n",
       "50%                                   -499.955378   \n",
       "75%                                   -499.643878   \n",
       "max                                   -141.934397   \n",
       "\n",
       "       secondary_cleaner.state.floatbank6_a_air  \\\n",
       "count                               4860.000000   \n",
       "mean                                  19.052445   \n",
       "std                                    5.549336   \n",
       "min                                    0.160386   \n",
       "25%                                   14.963797   \n",
       "50%                                   19.959824   \n",
       "75%                                   24.974535   \n",
       "max                                   32.028529   \n",
       "\n",
       "       secondary_cleaner.state.floatbank6_a_level  final.output.recovery  \\\n",
       "count                                 4860.000000            4860.000000   \n",
       "mean                                  -504.698207              67.923574   \n",
       "std                                     38.709553               8.414134   \n",
       "min                                   -809.734800               5.586496   \n",
       "25%                                   -500.670150              63.939233   \n",
       "50%                                   -500.033782              68.744713   \n",
       "75%                                   -499.460505              73.037434   \n",
       "max                                   -104.427459             100.000000   \n",
       "\n",
       "       rougher.output.recovery  \n",
       "count              4860.000000  \n",
       "mean                 85.750584  \n",
       "std                   6.648023  \n",
       "min                  18.491446  \n",
       "25%                  82.354512  \n",
       "50%                  86.839027  \n",
       "75%                  90.145117  \n",
       "max                 100.000000  \n",
       "\n",
       "[8 rows x 54 columns]"
      ]
     },
     "metadata": {},
     "output_type": "display_data"
    },
    {
     "data": {
      "text/plain": [
       "'Количество дубликатов:'"
      ]
     },
     "metadata": {},
     "output_type": "display_data"
    },
    {
     "data": {
      "text/plain": [
       "0"
      ]
     },
     "metadata": {},
     "output_type": "display_data"
    }
   ],
   "source": [
    "display_data_summary(data_test)"
   ]
  },
  {
   "cell_type": "code",
   "execution_count": 5,
   "metadata": {},
   "outputs": [
    {
     "data": {
      "text/plain": [
       "'Первые 5 строк данных:'"
      ]
     },
     "metadata": {},
     "output_type": "display_data"
    },
    {
     "data": {
      "text/html": [
       "<div>\n",
       "<style scoped>\n",
       "    .dataframe tbody tr th:only-of-type {\n",
       "        vertical-align: middle;\n",
       "    }\n",
       "\n",
       "    .dataframe tbody tr th {\n",
       "        vertical-align: top;\n",
       "    }\n",
       "\n",
       "    .dataframe thead th {\n",
       "        text-align: right;\n",
       "    }\n",
       "</style>\n",
       "<table border=\"1\" class=\"dataframe\">\n",
       "  <thead>\n",
       "    <tr style=\"text-align: right;\">\n",
       "      <th></th>\n",
       "      <th>date</th>\n",
       "      <th>rougher.input.feed_au</th>\n",
       "      <th>rougher.input.feed_ag</th>\n",
       "      <th>rougher.input.feed_pb</th>\n",
       "      <th>rougher.input.feed_sol</th>\n",
       "      <th>rougher.input.feed_rate</th>\n",
       "      <th>rougher.input.feed_size</th>\n",
       "      <th>rougher.input.floatbank10_sulfate</th>\n",
       "      <th>rougher.input.floatbank10_xanthate</th>\n",
       "      <th>rougher.state.floatbank10_a_air</th>\n",
       "      <th>...</th>\n",
       "      <th>secondary_cleaner.output.tail_sol</th>\n",
       "      <th>final.output.concentrate_au</th>\n",
       "      <th>final.output.concentrate_ag</th>\n",
       "      <th>final.output.concentrate_pb</th>\n",
       "      <th>final.output.concentrate_sol</th>\n",
       "      <th>final.output.recovery</th>\n",
       "      <th>final.output.tail_au</th>\n",
       "      <th>final.output.tail_ag</th>\n",
       "      <th>final.output.tail_pb</th>\n",
       "      <th>final.output.tail_sol</th>\n",
       "    </tr>\n",
       "  </thead>\n",
       "  <tbody>\n",
       "    <tr>\n",
       "      <th>0</th>\n",
       "      <td>2016-01-15 00:00:00</td>\n",
       "      <td>6.486150</td>\n",
       "      <td>6.100378</td>\n",
       "      <td>2.284912</td>\n",
       "      <td>36.808594</td>\n",
       "      <td>523.546326</td>\n",
       "      <td>55.486599</td>\n",
       "      <td>11.986616</td>\n",
       "      <td>6.007990</td>\n",
       "      <td>999.706909</td>\n",
       "      <td>...</td>\n",
       "      <td>8.764648</td>\n",
       "      <td>42.192020</td>\n",
       "      <td>6.055403</td>\n",
       "      <td>9.889648</td>\n",
       "      <td>5.507324</td>\n",
       "      <td>70.541216</td>\n",
       "      <td>2.143149</td>\n",
       "      <td>10.411962</td>\n",
       "      <td>0.895447</td>\n",
       "      <td>16.904297</td>\n",
       "    </tr>\n",
       "    <tr>\n",
       "      <th>1</th>\n",
       "      <td>2016-01-15 01:00:00</td>\n",
       "      <td>6.478583</td>\n",
       "      <td>6.161113</td>\n",
       "      <td>2.266033</td>\n",
       "      <td>35.753385</td>\n",
       "      <td>525.290581</td>\n",
       "      <td>57.278666</td>\n",
       "      <td>11.971193</td>\n",
       "      <td>6.005766</td>\n",
       "      <td>1000.286398</td>\n",
       "      <td>...</td>\n",
       "      <td>9.001494</td>\n",
       "      <td>42.701629</td>\n",
       "      <td>6.029369</td>\n",
       "      <td>9.968944</td>\n",
       "      <td>5.257781</td>\n",
       "      <td>69.266198</td>\n",
       "      <td>2.224930</td>\n",
       "      <td>10.462676</td>\n",
       "      <td>0.927452</td>\n",
       "      <td>16.634514</td>\n",
       "    </tr>\n",
       "    <tr>\n",
       "      <th>2</th>\n",
       "      <td>2016-01-15 02:00:00</td>\n",
       "      <td>6.362222</td>\n",
       "      <td>6.116455</td>\n",
       "      <td>2.159622</td>\n",
       "      <td>35.971630</td>\n",
       "      <td>530.026610</td>\n",
       "      <td>57.510649</td>\n",
       "      <td>11.920603</td>\n",
       "      <td>6.197377</td>\n",
       "      <td>999.719565</td>\n",
       "      <td>...</td>\n",
       "      <td>8.842896</td>\n",
       "      <td>42.657501</td>\n",
       "      <td>6.055926</td>\n",
       "      <td>10.213995</td>\n",
       "      <td>5.383759</td>\n",
       "      <td>68.116445</td>\n",
       "      <td>2.257889</td>\n",
       "      <td>10.507046</td>\n",
       "      <td>0.953716</td>\n",
       "      <td>16.208849</td>\n",
       "    </tr>\n",
       "    <tr>\n",
       "      <th>3</th>\n",
       "      <td>2016-01-15 03:00:00</td>\n",
       "      <td>6.118189</td>\n",
       "      <td>6.043309</td>\n",
       "      <td>2.037807</td>\n",
       "      <td>36.862241</td>\n",
       "      <td>542.590390</td>\n",
       "      <td>57.792734</td>\n",
       "      <td>11.630094</td>\n",
       "      <td>6.203177</td>\n",
       "      <td>999.814770</td>\n",
       "      <td>...</td>\n",
       "      <td>9.122857</td>\n",
       "      <td>42.689819</td>\n",
       "      <td>6.047977</td>\n",
       "      <td>9.977019</td>\n",
       "      <td>4.858634</td>\n",
       "      <td>68.347543</td>\n",
       "      <td>2.146849</td>\n",
       "      <td>10.422762</td>\n",
       "      <td>0.883763</td>\n",
       "      <td>16.532835</td>\n",
       "    </tr>\n",
       "    <tr>\n",
       "      <th>4</th>\n",
       "      <td>2016-01-15 04:00:00</td>\n",
       "      <td>5.663707</td>\n",
       "      <td>6.060915</td>\n",
       "      <td>1.786875</td>\n",
       "      <td>34.347666</td>\n",
       "      <td>540.531893</td>\n",
       "      <td>56.047189</td>\n",
       "      <td>10.957755</td>\n",
       "      <td>6.198826</td>\n",
       "      <td>999.678690</td>\n",
       "      <td>...</td>\n",
       "      <td>8.871028</td>\n",
       "      <td>42.774141</td>\n",
       "      <td>6.148599</td>\n",
       "      <td>10.142511</td>\n",
       "      <td>4.939416</td>\n",
       "      <td>66.927016</td>\n",
       "      <td>2.055292</td>\n",
       "      <td>10.360302</td>\n",
       "      <td>0.792826</td>\n",
       "      <td>16.525686</td>\n",
       "    </tr>\n",
       "  </tbody>\n",
       "</table>\n",
       "<p>5 rows × 87 columns</p>\n",
       "</div>"
      ],
      "text/plain": [
       "                  date  rougher.input.feed_au  rougher.input.feed_ag  \\\n",
       "0  2016-01-15 00:00:00               6.486150               6.100378   \n",
       "1  2016-01-15 01:00:00               6.478583               6.161113   \n",
       "2  2016-01-15 02:00:00               6.362222               6.116455   \n",
       "3  2016-01-15 03:00:00               6.118189               6.043309   \n",
       "4  2016-01-15 04:00:00               5.663707               6.060915   \n",
       "\n",
       "   rougher.input.feed_pb  rougher.input.feed_sol  rougher.input.feed_rate  \\\n",
       "0               2.284912               36.808594               523.546326   \n",
       "1               2.266033               35.753385               525.290581   \n",
       "2               2.159622               35.971630               530.026610   \n",
       "3               2.037807               36.862241               542.590390   \n",
       "4               1.786875               34.347666               540.531893   \n",
       "\n",
       "   rougher.input.feed_size  rougher.input.floatbank10_sulfate  \\\n",
       "0                55.486599                          11.986616   \n",
       "1                57.278666                          11.971193   \n",
       "2                57.510649                          11.920603   \n",
       "3                57.792734                          11.630094   \n",
       "4                56.047189                          10.957755   \n",
       "\n",
       "   rougher.input.floatbank10_xanthate  rougher.state.floatbank10_a_air  ...  \\\n",
       "0                            6.007990                       999.706909  ...   \n",
       "1                            6.005766                      1000.286398  ...   \n",
       "2                            6.197377                       999.719565  ...   \n",
       "3                            6.203177                       999.814770  ...   \n",
       "4                            6.198826                       999.678690  ...   \n",
       "\n",
       "   secondary_cleaner.output.tail_sol  final.output.concentrate_au  \\\n",
       "0                           8.764648                    42.192020   \n",
       "1                           9.001494                    42.701629   \n",
       "2                           8.842896                    42.657501   \n",
       "3                           9.122857                    42.689819   \n",
       "4                           8.871028                    42.774141   \n",
       "\n",
       "   final.output.concentrate_ag  final.output.concentrate_pb  \\\n",
       "0                     6.055403                     9.889648   \n",
       "1                     6.029369                     9.968944   \n",
       "2                     6.055926                    10.213995   \n",
       "3                     6.047977                     9.977019   \n",
       "4                     6.148599                    10.142511   \n",
       "\n",
       "   final.output.concentrate_sol  final.output.recovery  final.output.tail_au  \\\n",
       "0                      5.507324              70.541216              2.143149   \n",
       "1                      5.257781              69.266198              2.224930   \n",
       "2                      5.383759              68.116445              2.257889   \n",
       "3                      4.858634              68.347543              2.146849   \n",
       "4                      4.939416              66.927016              2.055292   \n",
       "\n",
       "   final.output.tail_ag  final.output.tail_pb  final.output.tail_sol  \n",
       "0             10.411962              0.895447              16.904297  \n",
       "1             10.462676              0.927452              16.634514  \n",
       "2             10.507046              0.953716              16.208849  \n",
       "3             10.422762              0.883763              16.532835  \n",
       "4             10.360302              0.792826              16.525686  \n",
       "\n",
       "[5 rows x 87 columns]"
      ]
     },
     "metadata": {},
     "output_type": "display_data"
    },
    {
     "data": {
      "text/plain": [
       "'Информация о данных:'"
      ]
     },
     "metadata": {},
     "output_type": "display_data"
    },
    {
     "name": "stdout",
     "output_type": "stream",
     "text": [
      "<class 'pandas.core.frame.DataFrame'>\n",
      "RangeIndex: 14579 entries, 0 to 14578\n",
      "Data columns (total 87 columns):\n",
      " #   Column                                              Non-Null Count  Dtype  \n",
      "---  ------                                              --------------  -----  \n",
      " 0   date                                                14579 non-null  object \n",
      " 1   rougher.input.feed_au                               14579 non-null  float64\n",
      " 2   rougher.input.feed_ag                               14579 non-null  float64\n",
      " 3   rougher.input.feed_pb                               14507 non-null  float64\n",
      " 4   rougher.input.feed_sol                              14502 non-null  float64\n",
      " 5   rougher.input.feed_rate                             14572 non-null  float64\n",
      " 6   rougher.input.feed_size                             14478 non-null  float64\n",
      " 7   rougher.input.floatbank10_sulfate                   14548 non-null  float64\n",
      " 8   rougher.input.floatbank10_xanthate                  14572 non-null  float64\n",
      " 9   rougher.state.floatbank10_a_air                     14579 non-null  float64\n",
      " 10  rougher.state.floatbank10_a_level                   14579 non-null  float64\n",
      " 11  rougher.state.floatbank10_b_air                     14579 non-null  float64\n",
      " 12  rougher.state.floatbank10_b_level                   14579 non-null  float64\n",
      " 13  rougher.state.floatbank10_c_air                     14579 non-null  float64\n",
      " 14  rougher.state.floatbank10_c_level                   14579 non-null  float64\n",
      " 15  rougher.state.floatbank10_d_air                     14579 non-null  float64\n",
      " 16  rougher.state.floatbank10_d_level                   14579 non-null  float64\n",
      " 17  rougher.state.floatbank10_e_air                     14150 non-null  float64\n",
      " 18  rougher.state.floatbank10_e_level                   14579 non-null  float64\n",
      " 19  rougher.state.floatbank10_f_air                     14579 non-null  float64\n",
      " 20  rougher.state.floatbank10_f_level                   14579 non-null  float64\n",
      " 21  rougher.input.floatbank11_sulfate                   14543 non-null  float64\n",
      " 22  rougher.input.floatbank11_xanthate                  14172 non-null  float64\n",
      " 23  rougher.calculation.sulfate_to_au_concentrate       14578 non-null  float64\n",
      " 24  rougher.calculation.floatbank10_sulfate_to_au_feed  14578 non-null  float64\n",
      " 25  rougher.calculation.floatbank11_sulfate_to_au_feed  14578 non-null  float64\n",
      " 26  rougher.calculation.au_pb_ratio                     14579 non-null  float64\n",
      " 27  rougher.output.concentrate_au                       14579 non-null  float64\n",
      " 28  rougher.output.concentrate_ag                       14579 non-null  float64\n",
      " 29  rougher.output.concentrate_pb                       14579 non-null  float64\n",
      " 30  rougher.output.concentrate_sol                      14561 non-null  float64\n",
      " 31  rougher.output.recovery                             14579 non-null  float64\n",
      " 32  rougher.output.tail_au                              14579 non-null  float64\n",
      " 33  rougher.output.tail_ag                              14578 non-null  float64\n",
      " 34  rougher.output.tail_pb                              14579 non-null  float64\n",
      " 35  rougher.output.tail_sol                             14579 non-null  float64\n",
      " 36  primary_cleaner.input.sulfate                       14556 non-null  float64\n",
      " 37  primary_cleaner.input.depressant                    14551 non-null  float64\n",
      " 38  primary_cleaner.input.feed_size                     14579 non-null  float64\n",
      " 39  primary_cleaner.input.xanthate                      14518 non-null  float64\n",
      " 40  primary_cleaner.state.floatbank8_a_air              14576 non-null  float64\n",
      " 41  primary_cleaner.state.floatbank8_a_level            14579 non-null  float64\n",
      " 42  primary_cleaner.state.floatbank8_b_air              14576 non-null  float64\n",
      " 43  primary_cleaner.state.floatbank8_b_level            14579 non-null  float64\n",
      " 44  primary_cleaner.state.floatbank8_c_air              14579 non-null  float64\n",
      " 45  primary_cleaner.state.floatbank8_c_level            14579 non-null  float64\n",
      " 46  primary_cleaner.state.floatbank8_d_air              14578 non-null  float64\n",
      " 47  primary_cleaner.state.floatbank8_d_level            14579 non-null  float64\n",
      " 48  primary_cleaner.output.concentrate_au               14579 non-null  float64\n",
      " 49  primary_cleaner.output.concentrate_ag               14579 non-null  float64\n",
      " 50  primary_cleaner.output.concentrate_pb               14491 non-null  float64\n",
      " 51  primary_cleaner.output.concentrate_sol              14314 non-null  float64\n",
      " 52  primary_cleaner.output.tail_au                      14579 non-null  float64\n",
      " 53  primary_cleaner.output.tail_ag                      14575 non-null  float64\n",
      " 54  primary_cleaner.output.tail_pb                      14573 non-null  float64\n",
      " 55  primary_cleaner.output.tail_sol                     14534 non-null  float64\n",
      " 56  secondary_cleaner.state.floatbank2_a_air            14485 non-null  float64\n",
      " 57  secondary_cleaner.state.floatbank2_a_level          14579 non-null  float64\n",
      " 58  secondary_cleaner.state.floatbank2_b_air            14557 non-null  float64\n",
      " 59  secondary_cleaner.state.floatbank2_b_level          14579 non-null  float64\n",
      " 60  secondary_cleaner.state.floatbank3_a_air            14567 non-null  float64\n",
      " 61  secondary_cleaner.state.floatbank3_a_level          14579 non-null  float64\n",
      " 62  secondary_cleaner.state.floatbank3_b_air            14579 non-null  float64\n",
      " 63  secondary_cleaner.state.floatbank3_b_level          14579 non-null  float64\n",
      " 64  secondary_cleaner.state.floatbank4_a_air            14574 non-null  float64\n",
      " 65  secondary_cleaner.state.floatbank4_a_level          14579 non-null  float64\n",
      " 66  secondary_cleaner.state.floatbank4_b_air            14579 non-null  float64\n",
      " 67  secondary_cleaner.state.floatbank4_b_level          14579 non-null  float64\n",
      " 68  secondary_cleaner.state.floatbank5_a_air            14579 non-null  float64\n",
      " 69  secondary_cleaner.state.floatbank5_a_level          14579 non-null  float64\n",
      " 70  secondary_cleaner.state.floatbank5_b_air            14579 non-null  float64\n",
      " 71  secondary_cleaner.state.floatbank5_b_level          14579 non-null  float64\n",
      " 72  secondary_cleaner.state.floatbank6_a_air            14578 non-null  float64\n",
      " 73  secondary_cleaner.state.floatbank6_a_level          14579 non-null  float64\n",
      " 74  secondary_cleaner.output.tail_au                    14579 non-null  float64\n",
      " 75  secondary_cleaner.output.tail_ag                    14578 non-null  float64\n",
      " 76  secondary_cleaner.output.tail_pb                    14575 non-null  float64\n",
      " 77  secondary_cleaner.output.tail_sol                   13659 non-null  float64\n",
      " 78  final.output.concentrate_au                         14579 non-null  float64\n",
      " 79  final.output.concentrate_ag                         14578 non-null  float64\n",
      " 80  final.output.concentrate_pb                         14578 non-null  float64\n",
      " 81  final.output.concentrate_sol                        14387 non-null  float64\n",
      " 82  final.output.recovery                               14579 non-null  float64\n",
      " 83  final.output.tail_au                                14579 non-null  float64\n",
      " 84  final.output.tail_ag                                14578 non-null  float64\n",
      " 85  final.output.tail_pb                                14504 non-null  float64\n",
      " 86  final.output.tail_sol                               14574 non-null  float64\n",
      "dtypes: float64(86), object(1)\n",
      "memory usage: 9.7+ MB\n"
     ]
    },
    {
     "data": {
      "text/plain": [
       "None"
      ]
     },
     "metadata": {},
     "output_type": "display_data"
    },
    {
     "data": {
      "text/plain": [
       "'Основная статистическая информация:'"
      ]
     },
     "metadata": {},
     "output_type": "display_data"
    },
    {
     "data": {
      "text/html": [
       "<div>\n",
       "<style scoped>\n",
       "    .dataframe tbody tr th:only-of-type {\n",
       "        vertical-align: middle;\n",
       "    }\n",
       "\n",
       "    .dataframe tbody tr th {\n",
       "        vertical-align: top;\n",
       "    }\n",
       "\n",
       "    .dataframe thead th {\n",
       "        text-align: right;\n",
       "    }\n",
       "</style>\n",
       "<table border=\"1\" class=\"dataframe\">\n",
       "  <thead>\n",
       "    <tr style=\"text-align: right;\">\n",
       "      <th></th>\n",
       "      <th>rougher.input.feed_au</th>\n",
       "      <th>rougher.input.feed_ag</th>\n",
       "      <th>rougher.input.feed_pb</th>\n",
       "      <th>rougher.input.feed_sol</th>\n",
       "      <th>rougher.input.feed_rate</th>\n",
       "      <th>rougher.input.feed_size</th>\n",
       "      <th>rougher.input.floatbank10_sulfate</th>\n",
       "      <th>rougher.input.floatbank10_xanthate</th>\n",
       "      <th>rougher.state.floatbank10_a_air</th>\n",
       "      <th>rougher.state.floatbank10_a_level</th>\n",
       "      <th>...</th>\n",
       "      <th>secondary_cleaner.output.tail_sol</th>\n",
       "      <th>final.output.concentrate_au</th>\n",
       "      <th>final.output.concentrate_ag</th>\n",
       "      <th>final.output.concentrate_pb</th>\n",
       "      <th>final.output.concentrate_sol</th>\n",
       "      <th>final.output.recovery</th>\n",
       "      <th>final.output.tail_au</th>\n",
       "      <th>final.output.tail_ag</th>\n",
       "      <th>final.output.tail_pb</th>\n",
       "      <th>final.output.tail_sol</th>\n",
       "    </tr>\n",
       "  </thead>\n",
       "  <tbody>\n",
       "    <tr>\n",
       "      <th>count</th>\n",
       "      <td>14579.000000</td>\n",
       "      <td>14579.000000</td>\n",
       "      <td>14507.000000</td>\n",
       "      <td>14502.000000</td>\n",
       "      <td>14572.000000</td>\n",
       "      <td>14478.000000</td>\n",
       "      <td>14548.000000</td>\n",
       "      <td>14572.000000</td>\n",
       "      <td>14579.000000</td>\n",
       "      <td>14579.000000</td>\n",
       "      <td>...</td>\n",
       "      <td>13659.000000</td>\n",
       "      <td>14579.000000</td>\n",
       "      <td>14578.000000</td>\n",
       "      <td>14578.000000</td>\n",
       "      <td>14387.000000</td>\n",
       "      <td>14579.000000</td>\n",
       "      <td>14579.000000</td>\n",
       "      <td>14578.000000</td>\n",
       "      <td>14504.000000</td>\n",
       "      <td>14574.000000</td>\n",
       "    </tr>\n",
       "    <tr>\n",
       "      <th>mean</th>\n",
       "      <td>8.352941</td>\n",
       "      <td>8.877460</td>\n",
       "      <td>3.604221</td>\n",
       "      <td>36.561420</td>\n",
       "      <td>474.332784</td>\n",
       "      <td>58.922712</td>\n",
       "      <td>12.427399</td>\n",
       "      <td>5.994854</td>\n",
       "      <td>1104.208278</td>\n",
       "      <td>-379.367166</td>\n",
       "      <td>...</td>\n",
       "      <td>7.111347</td>\n",
       "      <td>43.979499</td>\n",
       "      <td>5.192145</td>\n",
       "      <td>9.923809</td>\n",
       "      <td>9.566676</td>\n",
       "      <td>66.759066</td>\n",
       "      <td>3.087939</td>\n",
       "      <td>9.731972</td>\n",
       "      <td>2.719985</td>\n",
       "      <td>10.612745</td>\n",
       "    </tr>\n",
       "    <tr>\n",
       "      <th>std</th>\n",
       "      <td>1.934376</td>\n",
       "      <td>1.922536</td>\n",
       "      <td>1.056063</td>\n",
       "      <td>5.209823</td>\n",
       "      <td>108.503552</td>\n",
       "      <td>22.407410</td>\n",
       "      <td>3.428939</td>\n",
       "      <td>1.152873</td>\n",
       "      <td>162.235606</td>\n",
       "      <td>94.652311</td>\n",
       "      <td>...</td>\n",
       "      <td>3.909951</td>\n",
       "      <td>5.471437</td>\n",
       "      <td>1.388014</td>\n",
       "      <td>1.706976</td>\n",
       "      <td>2.805654</td>\n",
       "      <td>10.619709</td>\n",
       "      <td>0.915187</td>\n",
       "      <td>2.358143</td>\n",
       "      <td>0.958929</td>\n",
       "      <td>2.871075</td>\n",
       "    </tr>\n",
       "    <tr>\n",
       "      <th>min</th>\n",
       "      <td>0.010000</td>\n",
       "      <td>0.010000</td>\n",
       "      <td>0.010000</td>\n",
       "      <td>0.010000</td>\n",
       "      <td>0.002986</td>\n",
       "      <td>0.049194</td>\n",
       "      <td>0.001083</td>\n",
       "      <td>0.000568</td>\n",
       "      <td>-0.042069</td>\n",
       "      <td>-657.949759</td>\n",
       "      <td>...</td>\n",
       "      <td>0.000000</td>\n",
       "      <td>0.000000</td>\n",
       "      <td>0.000000</td>\n",
       "      <td>0.000000</td>\n",
       "      <td>0.000000</td>\n",
       "      <td>0.000000</td>\n",
       "      <td>0.000000</td>\n",
       "      <td>0.000000</td>\n",
       "      <td>0.000000</td>\n",
       "      <td>0.000000</td>\n",
       "    </tr>\n",
       "    <tr>\n",
       "      <th>25%</th>\n",
       "      <td>6.932996</td>\n",
       "      <td>7.341922</td>\n",
       "      <td>2.880490</td>\n",
       "      <td>34.093951</td>\n",
       "      <td>411.048483</td>\n",
       "      <td>47.278490</td>\n",
       "      <td>10.002832</td>\n",
       "      <td>5.304167</td>\n",
       "      <td>999.644856</td>\n",
       "      <td>-499.861797</td>\n",
       "      <td>...</td>\n",
       "      <td>3.784897</td>\n",
       "      <td>43.345906</td>\n",
       "      <td>4.283347</td>\n",
       "      <td>9.103183</td>\n",
       "      <td>7.860030</td>\n",
       "      <td>63.114596</td>\n",
       "      <td>2.505287</td>\n",
       "      <td>8.088928</td>\n",
       "      <td>2.036512</td>\n",
       "      <td>9.013412</td>\n",
       "    </tr>\n",
       "    <tr>\n",
       "      <th>50%</th>\n",
       "      <td>8.225284</td>\n",
       "      <td>8.715859</td>\n",
       "      <td>3.532399</td>\n",
       "      <td>37.097511</td>\n",
       "      <td>498.187968</td>\n",
       "      <td>54.361187</td>\n",
       "      <td>12.003320</td>\n",
       "      <td>6.003053</td>\n",
       "      <td>1000.982624</td>\n",
       "      <td>-300.314199</td>\n",
       "      <td>...</td>\n",
       "      <td>7.629968</td>\n",
       "      <td>44.975014</td>\n",
       "      <td>5.118647</td>\n",
       "      <td>10.046455</td>\n",
       "      <td>9.301970</td>\n",
       "      <td>67.962788</td>\n",
       "      <td>3.029238</td>\n",
       "      <td>9.818512</td>\n",
       "      <td>2.774847</td>\n",
       "      <td>10.670515</td>\n",
       "    </tr>\n",
       "    <tr>\n",
       "      <th>75%</th>\n",
       "      <td>9.832210</td>\n",
       "      <td>10.255843</td>\n",
       "      <td>4.257282</td>\n",
       "      <td>39.899799</td>\n",
       "      <td>549.586552</td>\n",
       "      <td>64.464926</td>\n",
       "      <td>14.929903</td>\n",
       "      <td>6.796632</td>\n",
       "      <td>1292.663971</td>\n",
       "      <td>-299.989315</td>\n",
       "      <td>...</td>\n",
       "      <td>10.367050</td>\n",
       "      <td>46.275153</td>\n",
       "      <td>5.925380</td>\n",
       "      <td>10.981203</td>\n",
       "      <td>11.001573</td>\n",
       "      <td>72.598187</td>\n",
       "      <td>3.614098</td>\n",
       "      <td>11.169187</td>\n",
       "      <td>3.353845</td>\n",
       "      <td>12.130827</td>\n",
       "    </tr>\n",
       "    <tr>\n",
       "      <th>max</th>\n",
       "      <td>13.731330</td>\n",
       "      <td>14.596026</td>\n",
       "      <td>7.052325</td>\n",
       "      <td>53.475325</td>\n",
       "      <td>717.508837</td>\n",
       "      <td>484.967466</td>\n",
       "      <td>36.118275</td>\n",
       "      <td>9.703448</td>\n",
       "      <td>1512.299531</td>\n",
       "      <td>-273.776101</td>\n",
       "      <td>...</td>\n",
       "      <td>26.000772</td>\n",
       "      <td>52.756638</td>\n",
       "      <td>16.001945</td>\n",
       "      <td>16.705297</td>\n",
       "      <td>19.423912</td>\n",
       "      <td>100.000000</td>\n",
       "      <td>8.245022</td>\n",
       "      <td>19.552149</td>\n",
       "      <td>5.804178</td>\n",
       "      <td>22.317730</td>\n",
       "    </tr>\n",
       "  </tbody>\n",
       "</table>\n",
       "<p>8 rows × 86 columns</p>\n",
       "</div>"
      ],
      "text/plain": [
       "       rougher.input.feed_au  rougher.input.feed_ag  rougher.input.feed_pb  \\\n",
       "count           14579.000000           14579.000000           14507.000000   \n",
       "mean                8.352941               8.877460               3.604221   \n",
       "std                 1.934376               1.922536               1.056063   \n",
       "min                 0.010000               0.010000               0.010000   \n",
       "25%                 6.932996               7.341922               2.880490   \n",
       "50%                 8.225284               8.715859               3.532399   \n",
       "75%                 9.832210              10.255843               4.257282   \n",
       "max                13.731330              14.596026               7.052325   \n",
       "\n",
       "       rougher.input.feed_sol  rougher.input.feed_rate  \\\n",
       "count            14502.000000             14572.000000   \n",
       "mean                36.561420               474.332784   \n",
       "std                  5.209823               108.503552   \n",
       "min                  0.010000                 0.002986   \n",
       "25%                 34.093951               411.048483   \n",
       "50%                 37.097511               498.187968   \n",
       "75%                 39.899799               549.586552   \n",
       "max                 53.475325               717.508837   \n",
       "\n",
       "       rougher.input.feed_size  rougher.input.floatbank10_sulfate  \\\n",
       "count             14478.000000                       14548.000000   \n",
       "mean                 58.922712                          12.427399   \n",
       "std                  22.407410                           3.428939   \n",
       "min                   0.049194                           0.001083   \n",
       "25%                  47.278490                          10.002832   \n",
       "50%                  54.361187                          12.003320   \n",
       "75%                  64.464926                          14.929903   \n",
       "max                 484.967466                          36.118275   \n",
       "\n",
       "       rougher.input.floatbank10_xanthate  rougher.state.floatbank10_a_air  \\\n",
       "count                        14572.000000                     14579.000000   \n",
       "mean                             5.994854                      1104.208278   \n",
       "std                              1.152873                       162.235606   \n",
       "min                              0.000568                        -0.042069   \n",
       "25%                              5.304167                       999.644856   \n",
       "50%                              6.003053                      1000.982624   \n",
       "75%                              6.796632                      1292.663971   \n",
       "max                              9.703448                      1512.299531   \n",
       "\n",
       "       rougher.state.floatbank10_a_level  ...  \\\n",
       "count                       14579.000000  ...   \n",
       "mean                         -379.367166  ...   \n",
       "std                            94.652311  ...   \n",
       "min                          -657.949759  ...   \n",
       "25%                          -499.861797  ...   \n",
       "50%                          -300.314199  ...   \n",
       "75%                          -299.989315  ...   \n",
       "max                          -273.776101  ...   \n",
       "\n",
       "       secondary_cleaner.output.tail_sol  final.output.concentrate_au  \\\n",
       "count                       13659.000000                 14579.000000   \n",
       "mean                            7.111347                    43.979499   \n",
       "std                             3.909951                     5.471437   \n",
       "min                             0.000000                     0.000000   \n",
       "25%                             3.784897                    43.345906   \n",
       "50%                             7.629968                    44.975014   \n",
       "75%                            10.367050                    46.275153   \n",
       "max                            26.000772                    52.756638   \n",
       "\n",
       "       final.output.concentrate_ag  final.output.concentrate_pb  \\\n",
       "count                 14578.000000                 14578.000000   \n",
       "mean                      5.192145                     9.923809   \n",
       "std                       1.388014                     1.706976   \n",
       "min                       0.000000                     0.000000   \n",
       "25%                       4.283347                     9.103183   \n",
       "50%                       5.118647                    10.046455   \n",
       "75%                       5.925380                    10.981203   \n",
       "max                      16.001945                    16.705297   \n",
       "\n",
       "       final.output.concentrate_sol  final.output.recovery  \\\n",
       "count                  14387.000000           14579.000000   \n",
       "mean                       9.566676              66.759066   \n",
       "std                        2.805654              10.619709   \n",
       "min                        0.000000               0.000000   \n",
       "25%                        7.860030              63.114596   \n",
       "50%                        9.301970              67.962788   \n",
       "75%                       11.001573              72.598187   \n",
       "max                       19.423912             100.000000   \n",
       "\n",
       "       final.output.tail_au  final.output.tail_ag  final.output.tail_pb  \\\n",
       "count          14579.000000          14578.000000          14504.000000   \n",
       "mean               3.087939              9.731972              2.719985   \n",
       "std                0.915187              2.358143              0.958929   \n",
       "min                0.000000              0.000000              0.000000   \n",
       "25%                2.505287              8.088928              2.036512   \n",
       "50%                3.029238              9.818512              2.774847   \n",
       "75%                3.614098             11.169187              3.353845   \n",
       "max                8.245022             19.552149              5.804178   \n",
       "\n",
       "       final.output.tail_sol  \n",
       "count           14574.000000  \n",
       "mean               10.612745  \n",
       "std                 2.871075  \n",
       "min                 0.000000  \n",
       "25%                 9.013412  \n",
       "50%                10.670515  \n",
       "75%                12.130827  \n",
       "max                22.317730  \n",
       "\n",
       "[8 rows x 86 columns]"
      ]
     },
     "metadata": {},
     "output_type": "display_data"
    },
    {
     "data": {
      "text/plain": [
       "'Количество дубликатов:'"
      ]
     },
     "metadata": {},
     "output_type": "display_data"
    },
    {
     "data": {
      "text/plain": [
       "0"
      ]
     },
     "metadata": {},
     "output_type": "display_data"
    }
   ],
   "source": [
    "display_data_summary(data_train)"
   ]
  },
  {
   "cell_type": "code",
   "execution_count": 6,
   "metadata": {
    "scrolled": true
   },
   "outputs": [
    {
     "data": {
      "text/plain": [
       "'Первые 5 строк данных:'"
      ]
     },
     "metadata": {},
     "output_type": "display_data"
    },
    {
     "data": {
      "text/html": [
       "<div>\n",
       "<style scoped>\n",
       "    .dataframe tbody tr th:only-of-type {\n",
       "        vertical-align: middle;\n",
       "    }\n",
       "\n",
       "    .dataframe tbody tr th {\n",
       "        vertical-align: top;\n",
       "    }\n",
       "\n",
       "    .dataframe thead th {\n",
       "        text-align: right;\n",
       "    }\n",
       "</style>\n",
       "<table border=\"1\" class=\"dataframe\">\n",
       "  <thead>\n",
       "    <tr style=\"text-align: right;\">\n",
       "      <th></th>\n",
       "      <th>date</th>\n",
       "      <th>rougher.input.feed_au</th>\n",
       "      <th>rougher.input.feed_ag</th>\n",
       "      <th>rougher.input.feed_pb</th>\n",
       "      <th>rougher.input.feed_sol</th>\n",
       "      <th>rougher.input.feed_rate</th>\n",
       "      <th>rougher.input.feed_size</th>\n",
       "      <th>rougher.input.floatbank10_sulfate</th>\n",
       "      <th>rougher.input.floatbank10_xanthate</th>\n",
       "      <th>rougher.state.floatbank10_a_air</th>\n",
       "      <th>...</th>\n",
       "      <th>secondary_cleaner.output.tail_sol</th>\n",
       "      <th>final.output.concentrate_au</th>\n",
       "      <th>final.output.concentrate_ag</th>\n",
       "      <th>final.output.concentrate_pb</th>\n",
       "      <th>final.output.concentrate_sol</th>\n",
       "      <th>final.output.recovery</th>\n",
       "      <th>final.output.tail_au</th>\n",
       "      <th>final.output.tail_ag</th>\n",
       "      <th>final.output.tail_pb</th>\n",
       "      <th>final.output.tail_sol</th>\n",
       "    </tr>\n",
       "  </thead>\n",
       "  <tbody>\n",
       "    <tr>\n",
       "      <th>0</th>\n",
       "      <td>2016-01-15 00:00:00</td>\n",
       "      <td>6.486150</td>\n",
       "      <td>6.100378</td>\n",
       "      <td>2.284912</td>\n",
       "      <td>36.808594</td>\n",
       "      <td>523.546326</td>\n",
       "      <td>55.486599</td>\n",
       "      <td>11.986616</td>\n",
       "      <td>6.007990</td>\n",
       "      <td>999.706909</td>\n",
       "      <td>...</td>\n",
       "      <td>8.764648</td>\n",
       "      <td>42.192020</td>\n",
       "      <td>6.055403</td>\n",
       "      <td>9.889648</td>\n",
       "      <td>5.507324</td>\n",
       "      <td>70.541216</td>\n",
       "      <td>2.143149</td>\n",
       "      <td>10.411962</td>\n",
       "      <td>0.895447</td>\n",
       "      <td>16.904297</td>\n",
       "    </tr>\n",
       "    <tr>\n",
       "      <th>1</th>\n",
       "      <td>2016-01-15 01:00:00</td>\n",
       "      <td>6.478583</td>\n",
       "      <td>6.161113</td>\n",
       "      <td>2.266033</td>\n",
       "      <td>35.753385</td>\n",
       "      <td>525.290581</td>\n",
       "      <td>57.278666</td>\n",
       "      <td>11.971193</td>\n",
       "      <td>6.005766</td>\n",
       "      <td>1000.286398</td>\n",
       "      <td>...</td>\n",
       "      <td>9.001494</td>\n",
       "      <td>42.701629</td>\n",
       "      <td>6.029369</td>\n",
       "      <td>9.968944</td>\n",
       "      <td>5.257781</td>\n",
       "      <td>69.266198</td>\n",
       "      <td>2.224930</td>\n",
       "      <td>10.462676</td>\n",
       "      <td>0.927452</td>\n",
       "      <td>16.634514</td>\n",
       "    </tr>\n",
       "    <tr>\n",
       "      <th>2</th>\n",
       "      <td>2016-01-15 02:00:00</td>\n",
       "      <td>6.362222</td>\n",
       "      <td>6.116455</td>\n",
       "      <td>2.159622</td>\n",
       "      <td>35.971630</td>\n",
       "      <td>530.026610</td>\n",
       "      <td>57.510649</td>\n",
       "      <td>11.920603</td>\n",
       "      <td>6.197377</td>\n",
       "      <td>999.719565</td>\n",
       "      <td>...</td>\n",
       "      <td>8.842896</td>\n",
       "      <td>42.657501</td>\n",
       "      <td>6.055926</td>\n",
       "      <td>10.213995</td>\n",
       "      <td>5.383759</td>\n",
       "      <td>68.116445</td>\n",
       "      <td>2.257889</td>\n",
       "      <td>10.507046</td>\n",
       "      <td>0.953716</td>\n",
       "      <td>16.208849</td>\n",
       "    </tr>\n",
       "    <tr>\n",
       "      <th>3</th>\n",
       "      <td>2016-01-15 03:00:00</td>\n",
       "      <td>6.118189</td>\n",
       "      <td>6.043309</td>\n",
       "      <td>2.037807</td>\n",
       "      <td>36.862241</td>\n",
       "      <td>542.590390</td>\n",
       "      <td>57.792734</td>\n",
       "      <td>11.630094</td>\n",
       "      <td>6.203177</td>\n",
       "      <td>999.814770</td>\n",
       "      <td>...</td>\n",
       "      <td>9.122857</td>\n",
       "      <td>42.689819</td>\n",
       "      <td>6.047977</td>\n",
       "      <td>9.977019</td>\n",
       "      <td>4.858634</td>\n",
       "      <td>68.347543</td>\n",
       "      <td>2.146849</td>\n",
       "      <td>10.422762</td>\n",
       "      <td>0.883763</td>\n",
       "      <td>16.532835</td>\n",
       "    </tr>\n",
       "    <tr>\n",
       "      <th>4</th>\n",
       "      <td>2016-01-15 04:00:00</td>\n",
       "      <td>5.663707</td>\n",
       "      <td>6.060915</td>\n",
       "      <td>1.786875</td>\n",
       "      <td>34.347666</td>\n",
       "      <td>540.531893</td>\n",
       "      <td>56.047189</td>\n",
       "      <td>10.957755</td>\n",
       "      <td>6.198826</td>\n",
       "      <td>999.678690</td>\n",
       "      <td>...</td>\n",
       "      <td>8.871028</td>\n",
       "      <td>42.774141</td>\n",
       "      <td>6.148599</td>\n",
       "      <td>10.142511</td>\n",
       "      <td>4.939416</td>\n",
       "      <td>66.927016</td>\n",
       "      <td>2.055292</td>\n",
       "      <td>10.360302</td>\n",
       "      <td>0.792826</td>\n",
       "      <td>16.525686</td>\n",
       "    </tr>\n",
       "  </tbody>\n",
       "</table>\n",
       "<p>5 rows × 87 columns</p>\n",
       "</div>"
      ],
      "text/plain": [
       "                  date  rougher.input.feed_au  rougher.input.feed_ag  \\\n",
       "0  2016-01-15 00:00:00               6.486150               6.100378   \n",
       "1  2016-01-15 01:00:00               6.478583               6.161113   \n",
       "2  2016-01-15 02:00:00               6.362222               6.116455   \n",
       "3  2016-01-15 03:00:00               6.118189               6.043309   \n",
       "4  2016-01-15 04:00:00               5.663707               6.060915   \n",
       "\n",
       "   rougher.input.feed_pb  rougher.input.feed_sol  rougher.input.feed_rate  \\\n",
       "0               2.284912               36.808594               523.546326   \n",
       "1               2.266033               35.753385               525.290581   \n",
       "2               2.159622               35.971630               530.026610   \n",
       "3               2.037807               36.862241               542.590390   \n",
       "4               1.786875               34.347666               540.531893   \n",
       "\n",
       "   rougher.input.feed_size  rougher.input.floatbank10_sulfate  \\\n",
       "0                55.486599                          11.986616   \n",
       "1                57.278666                          11.971193   \n",
       "2                57.510649                          11.920603   \n",
       "3                57.792734                          11.630094   \n",
       "4                56.047189                          10.957755   \n",
       "\n",
       "   rougher.input.floatbank10_xanthate  rougher.state.floatbank10_a_air  ...  \\\n",
       "0                            6.007990                       999.706909  ...   \n",
       "1                            6.005766                      1000.286398  ...   \n",
       "2                            6.197377                       999.719565  ...   \n",
       "3                            6.203177                       999.814770  ...   \n",
       "4                            6.198826                       999.678690  ...   \n",
       "\n",
       "   secondary_cleaner.output.tail_sol  final.output.concentrate_au  \\\n",
       "0                           8.764648                    42.192020   \n",
       "1                           9.001494                    42.701629   \n",
       "2                           8.842896                    42.657501   \n",
       "3                           9.122857                    42.689819   \n",
       "4                           8.871028                    42.774141   \n",
       "\n",
       "   final.output.concentrate_ag  final.output.concentrate_pb  \\\n",
       "0                     6.055403                     9.889648   \n",
       "1                     6.029369                     9.968944   \n",
       "2                     6.055926                    10.213995   \n",
       "3                     6.047977                     9.977019   \n",
       "4                     6.148599                    10.142511   \n",
       "\n",
       "   final.output.concentrate_sol  final.output.recovery  final.output.tail_au  \\\n",
       "0                      5.507324              70.541216              2.143149   \n",
       "1                      5.257781              69.266198              2.224930   \n",
       "2                      5.383759              68.116445              2.257889   \n",
       "3                      4.858634              68.347543              2.146849   \n",
       "4                      4.939416              66.927016              2.055292   \n",
       "\n",
       "   final.output.tail_ag  final.output.tail_pb  final.output.tail_sol  \n",
       "0             10.411962              0.895447              16.904297  \n",
       "1             10.462676              0.927452              16.634514  \n",
       "2             10.507046              0.953716              16.208849  \n",
       "3             10.422762              0.883763              16.532835  \n",
       "4             10.360302              0.792826              16.525686  \n",
       "\n",
       "[5 rows x 87 columns]"
      ]
     },
     "metadata": {},
     "output_type": "display_data"
    },
    {
     "data": {
      "text/plain": [
       "'Информация о данных:'"
      ]
     },
     "metadata": {},
     "output_type": "display_data"
    },
    {
     "name": "stdout",
     "output_type": "stream",
     "text": [
      "<class 'pandas.core.frame.DataFrame'>\n",
      "RangeIndex: 19439 entries, 0 to 19438\n",
      "Data columns (total 87 columns):\n",
      " #   Column                                              Non-Null Count  Dtype  \n",
      "---  ------                                              --------------  -----  \n",
      " 0   date                                                19439 non-null  object \n",
      " 1   rougher.input.feed_au                               19439 non-null  float64\n",
      " 2   rougher.input.feed_ag                               19439 non-null  float64\n",
      " 3   rougher.input.feed_pb                               19339 non-null  float64\n",
      " 4   rougher.input.feed_sol                              19340 non-null  float64\n",
      " 5   rougher.input.feed_rate                             19428 non-null  float64\n",
      " 6   rougher.input.feed_size                             19294 non-null  float64\n",
      " 7   rougher.input.floatbank10_sulfate                   19405 non-null  float64\n",
      " 8   rougher.input.floatbank10_xanthate                  19431 non-null  float64\n",
      " 9   rougher.state.floatbank10_a_air                     19438 non-null  float64\n",
      " 10  rougher.state.floatbank10_a_level                   19438 non-null  float64\n",
      " 11  rougher.state.floatbank10_b_air                     19438 non-null  float64\n",
      " 12  rougher.state.floatbank10_b_level                   19438 non-null  float64\n",
      " 13  rougher.state.floatbank10_c_air                     19438 non-null  float64\n",
      " 14  rougher.state.floatbank10_c_level                   19438 non-null  float64\n",
      " 15  rougher.state.floatbank10_d_air                     19439 non-null  float64\n",
      " 16  rougher.state.floatbank10_d_level                   19439 non-null  float64\n",
      " 17  rougher.state.floatbank10_e_air                     19003 non-null  float64\n",
      " 18  rougher.state.floatbank10_e_level                   19439 non-null  float64\n",
      " 19  rougher.state.floatbank10_f_air                     19439 non-null  float64\n",
      " 20  rougher.state.floatbank10_f_level                   19439 non-null  float64\n",
      " 21  rougher.input.floatbank11_sulfate                   19395 non-null  float64\n",
      " 22  rougher.input.floatbank11_xanthate                  18986 non-null  float64\n",
      " 23  rougher.calculation.sulfate_to_au_concentrate       19437 non-null  float64\n",
      " 24  rougher.calculation.floatbank10_sulfate_to_au_feed  19437 non-null  float64\n",
      " 25  rougher.calculation.floatbank11_sulfate_to_au_feed  19437 non-null  float64\n",
      " 26  rougher.calculation.au_pb_ratio                     19439 non-null  float64\n",
      " 27  rougher.output.concentrate_au                       19439 non-null  float64\n",
      " 28  rougher.output.concentrate_ag                       19439 non-null  float64\n",
      " 29  rougher.output.concentrate_pb                       19439 non-null  float64\n",
      " 30  rougher.output.concentrate_sol                      19416 non-null  float64\n",
      " 31  rougher.output.recovery                             19439 non-null  float64\n",
      " 32  rougher.output.tail_au                              19439 non-null  float64\n",
      " 33  rougher.output.tail_ag                              19438 non-null  float64\n",
      " 34  rougher.output.tail_pb                              19439 non-null  float64\n",
      " 35  rougher.output.tail_sol                             19439 non-null  float64\n",
      " 36  primary_cleaner.input.sulfate                       19415 non-null  float64\n",
      " 37  primary_cleaner.input.depressant                    19402 non-null  float64\n",
      " 38  primary_cleaner.input.feed_size                     19439 non-null  float64\n",
      " 39  primary_cleaner.input.xanthate                      19335 non-null  float64\n",
      " 40  primary_cleaner.state.floatbank8_a_air              19435 non-null  float64\n",
      " 41  primary_cleaner.state.floatbank8_a_level            19438 non-null  float64\n",
      " 42  primary_cleaner.state.floatbank8_b_air              19435 non-null  float64\n",
      " 43  primary_cleaner.state.floatbank8_b_level            19438 non-null  float64\n",
      " 44  primary_cleaner.state.floatbank8_c_air              19437 non-null  float64\n",
      " 45  primary_cleaner.state.floatbank8_c_level            19438 non-null  float64\n",
      " 46  primary_cleaner.state.floatbank8_d_air              19436 non-null  float64\n",
      " 47  primary_cleaner.state.floatbank8_d_level            19438 non-null  float64\n",
      " 48  primary_cleaner.output.concentrate_au               19439 non-null  float64\n",
      " 49  primary_cleaner.output.concentrate_ag               19439 non-null  float64\n",
      " 50  primary_cleaner.output.concentrate_pb               19323 non-null  float64\n",
      " 51  primary_cleaner.output.concentrate_sol              19069 non-null  float64\n",
      " 52  primary_cleaner.output.tail_au                      19439 non-null  float64\n",
      " 53  primary_cleaner.output.tail_ag                      19435 non-null  float64\n",
      " 54  primary_cleaner.output.tail_pb                      19418 non-null  float64\n",
      " 55  primary_cleaner.output.tail_sol                     19377 non-null  float64\n",
      " 56  secondary_cleaner.state.floatbank2_a_air            19219 non-null  float64\n",
      " 57  secondary_cleaner.state.floatbank2_a_level          19438 non-null  float64\n",
      " 58  secondary_cleaner.state.floatbank2_b_air            19416 non-null  float64\n",
      " 59  secondary_cleaner.state.floatbank2_b_level          19438 non-null  float64\n",
      " 60  secondary_cleaner.state.floatbank3_a_air            19426 non-null  float64\n",
      " 61  secondary_cleaner.state.floatbank3_a_level          19438 non-null  float64\n",
      " 62  secondary_cleaner.state.floatbank3_b_air            19438 non-null  float64\n",
      " 63  secondary_cleaner.state.floatbank3_b_level          19438 non-null  float64\n",
      " 64  secondary_cleaner.state.floatbank4_a_air            19433 non-null  float64\n",
      " 65  secondary_cleaner.state.floatbank4_a_level          19438 non-null  float64\n",
      " 66  secondary_cleaner.state.floatbank4_b_air            19438 non-null  float64\n",
      " 67  secondary_cleaner.state.floatbank4_b_level          19438 non-null  float64\n",
      " 68  secondary_cleaner.state.floatbank5_a_air            19438 non-null  float64\n",
      " 69  secondary_cleaner.state.floatbank5_a_level          19438 non-null  float64\n",
      " 70  secondary_cleaner.state.floatbank5_b_air            19438 non-null  float64\n",
      " 71  secondary_cleaner.state.floatbank5_b_level          19438 non-null  float64\n",
      " 72  secondary_cleaner.state.floatbank6_a_air            19437 non-null  float64\n",
      " 73  secondary_cleaner.state.floatbank6_a_level          19438 non-null  float64\n",
      " 74  secondary_cleaner.output.tail_au                    19439 non-null  float64\n",
      " 75  secondary_cleaner.output.tail_ag                    19437 non-null  float64\n",
      " 76  secondary_cleaner.output.tail_pb                    19427 non-null  float64\n",
      " 77  secondary_cleaner.output.tail_sol                   17691 non-null  float64\n",
      " 78  final.output.concentrate_au                         19439 non-null  float64\n",
      " 79  final.output.concentrate_ag                         19438 non-null  float64\n",
      " 80  final.output.concentrate_pb                         19438 non-null  float64\n",
      " 81  final.output.concentrate_sol                        19228 non-null  float64\n",
      " 82  final.output.recovery                               19439 non-null  float64\n",
      " 83  final.output.tail_au                                19439 non-null  float64\n",
      " 84  final.output.tail_ag                                19438 non-null  float64\n",
      " 85  final.output.tail_pb                                19338 non-null  float64\n",
      " 86  final.output.tail_sol                               19433 non-null  float64\n",
      "dtypes: float64(86), object(1)\n",
      "memory usage: 12.9+ MB\n"
     ]
    },
    {
     "data": {
      "text/plain": [
       "None"
      ]
     },
     "metadata": {},
     "output_type": "display_data"
    },
    {
     "data": {
      "text/plain": [
       "'Основная статистическая информация:'"
      ]
     },
     "metadata": {},
     "output_type": "display_data"
    },
    {
     "data": {
      "text/html": [
       "<div>\n",
       "<style scoped>\n",
       "    .dataframe tbody tr th:only-of-type {\n",
       "        vertical-align: middle;\n",
       "    }\n",
       "\n",
       "    .dataframe tbody tr th {\n",
       "        vertical-align: top;\n",
       "    }\n",
       "\n",
       "    .dataframe thead th {\n",
       "        text-align: right;\n",
       "    }\n",
       "</style>\n",
       "<table border=\"1\" class=\"dataframe\">\n",
       "  <thead>\n",
       "    <tr style=\"text-align: right;\">\n",
       "      <th></th>\n",
       "      <th>rougher.input.feed_au</th>\n",
       "      <th>rougher.input.feed_ag</th>\n",
       "      <th>rougher.input.feed_pb</th>\n",
       "      <th>rougher.input.feed_sol</th>\n",
       "      <th>rougher.input.feed_rate</th>\n",
       "      <th>rougher.input.feed_size</th>\n",
       "      <th>rougher.input.floatbank10_sulfate</th>\n",
       "      <th>rougher.input.floatbank10_xanthate</th>\n",
       "      <th>rougher.state.floatbank10_a_air</th>\n",
       "      <th>rougher.state.floatbank10_a_level</th>\n",
       "      <th>...</th>\n",
       "      <th>secondary_cleaner.output.tail_sol</th>\n",
       "      <th>final.output.concentrate_au</th>\n",
       "      <th>final.output.concentrate_ag</th>\n",
       "      <th>final.output.concentrate_pb</th>\n",
       "      <th>final.output.concentrate_sol</th>\n",
       "      <th>final.output.recovery</th>\n",
       "      <th>final.output.tail_au</th>\n",
       "      <th>final.output.tail_ag</th>\n",
       "      <th>final.output.tail_pb</th>\n",
       "      <th>final.output.tail_sol</th>\n",
       "    </tr>\n",
       "  </thead>\n",
       "  <tbody>\n",
       "    <tr>\n",
       "      <th>count</th>\n",
       "      <td>19439.000000</td>\n",
       "      <td>19439.000000</td>\n",
       "      <td>19339.000000</td>\n",
       "      <td>19340.000000</td>\n",
       "      <td>19428.000000</td>\n",
       "      <td>19294.000000</td>\n",
       "      <td>19405.000000</td>\n",
       "      <td>19431.000000</td>\n",
       "      <td>19438.000000</td>\n",
       "      <td>19438.000000</td>\n",
       "      <td>...</td>\n",
       "      <td>17691.000000</td>\n",
       "      <td>19439.000000</td>\n",
       "      <td>19438.000000</td>\n",
       "      <td>19438.000000</td>\n",
       "      <td>19228.000000</td>\n",
       "      <td>19439.000000</td>\n",
       "      <td>19439.000000</td>\n",
       "      <td>19438.000000</td>\n",
       "      <td>19338.000000</td>\n",
       "      <td>19433.000000</td>\n",
       "    </tr>\n",
       "    <tr>\n",
       "      <th>mean</th>\n",
       "      <td>8.266097</td>\n",
       "      <td>8.794927</td>\n",
       "      <td>3.598085</td>\n",
       "      <td>36.695114</td>\n",
       "      <td>478.320042</td>\n",
       "      <td>58.970310</td>\n",
       "      <td>12.334373</td>\n",
       "      <td>6.021474</td>\n",
       "      <td>1105.315068</td>\n",
       "      <td>-376.610690</td>\n",
       "      <td>...</td>\n",
       "      <td>7.167247</td>\n",
       "      <td>44.076513</td>\n",
       "      <td>5.168470</td>\n",
       "      <td>9.978895</td>\n",
       "      <td>9.501224</td>\n",
       "      <td>67.050208</td>\n",
       "      <td>3.042467</td>\n",
       "      <td>9.688589</td>\n",
       "      <td>2.705795</td>\n",
       "      <td>10.583728</td>\n",
       "    </tr>\n",
       "    <tr>\n",
       "      <th>std</th>\n",
       "      <td>1.955092</td>\n",
       "      <td>1.936847</td>\n",
       "      <td>1.049486</td>\n",
       "      <td>5.145445</td>\n",
       "      <td>105.373758</td>\n",
       "      <td>21.634478</td>\n",
       "      <td>3.427317</td>\n",
       "      <td>1.127263</td>\n",
       "      <td>160.826798</td>\n",
       "      <td>93.909667</td>\n",
       "      <td>...</td>\n",
       "      <td>3.916079</td>\n",
       "      <td>5.129784</td>\n",
       "      <td>1.372348</td>\n",
       "      <td>1.669240</td>\n",
       "      <td>2.787537</td>\n",
       "      <td>10.125840</td>\n",
       "      <td>0.922808</td>\n",
       "      <td>2.328642</td>\n",
       "      <td>0.949077</td>\n",
       "      <td>2.868782</td>\n",
       "    </tr>\n",
       "    <tr>\n",
       "      <th>min</th>\n",
       "      <td>0.010000</td>\n",
       "      <td>0.010000</td>\n",
       "      <td>0.010000</td>\n",
       "      <td>0.010000</td>\n",
       "      <td>0.002986</td>\n",
       "      <td>0.046369</td>\n",
       "      <td>0.001083</td>\n",
       "      <td>0.000568</td>\n",
       "      <td>-0.042069</td>\n",
       "      <td>-657.949759</td>\n",
       "      <td>...</td>\n",
       "      <td>0.000000</td>\n",
       "      <td>0.000000</td>\n",
       "      <td>0.000000</td>\n",
       "      <td>0.000000</td>\n",
       "      <td>0.000000</td>\n",
       "      <td>0.000000</td>\n",
       "      <td>0.000000</td>\n",
       "      <td>0.000000</td>\n",
       "      <td>0.000000</td>\n",
       "      <td>0.000000</td>\n",
       "    </tr>\n",
       "    <tr>\n",
       "      <th>25%</th>\n",
       "      <td>6.854384</td>\n",
       "      <td>7.237967</td>\n",
       "      <td>2.887280</td>\n",
       "      <td>34.207799</td>\n",
       "      <td>416.525453</td>\n",
       "      <td>47.435103</td>\n",
       "      <td>10.000362</td>\n",
       "      <td>5.398678</td>\n",
       "      <td>999.661867</td>\n",
       "      <td>-499.835165</td>\n",
       "      <td>...</td>\n",
       "      <td>3.845475</td>\n",
       "      <td>43.402215</td>\n",
       "      <td>4.251240</td>\n",
       "      <td>9.137262</td>\n",
       "      <td>7.722820</td>\n",
       "      <td>63.299712</td>\n",
       "      <td>2.461138</td>\n",
       "      <td>8.062878</td>\n",
       "      <td>2.040119</td>\n",
       "      <td>8.938947</td>\n",
       "    </tr>\n",
       "    <tr>\n",
       "      <th>50%</th>\n",
       "      <td>8.125839</td>\n",
       "      <td>8.593574</td>\n",
       "      <td>3.534895</td>\n",
       "      <td>37.202650</td>\n",
       "      <td>499.416120</td>\n",
       "      <td>54.610197</td>\n",
       "      <td>12.001174</td>\n",
       "      <td>6.008273</td>\n",
       "      <td>1001.072890</td>\n",
       "      <td>-300.263994</td>\n",
       "      <td>...</td>\n",
       "      <td>7.685827</td>\n",
       "      <td>45.011244</td>\n",
       "      <td>5.066094</td>\n",
       "      <td>10.102433</td>\n",
       "      <td>9.218961</td>\n",
       "      <td>68.172738</td>\n",
       "      <td>2.984909</td>\n",
       "      <td>9.743623</td>\n",
       "      <td>2.748730</td>\n",
       "      <td>10.622456</td>\n",
       "    </tr>\n",
       "    <tr>\n",
       "      <th>75%</th>\n",
       "      <td>9.769917</td>\n",
       "      <td>10.213771</td>\n",
       "      <td>4.244161</td>\n",
       "      <td>40.039133</td>\n",
       "      <td>550.172183</td>\n",
       "      <td>65.023044</td>\n",
       "      <td>14.716595</td>\n",
       "      <td>6.798051</td>\n",
       "      <td>1205.620588</td>\n",
       "      <td>-299.981998</td>\n",
       "      <td>...</td>\n",
       "      <td>10.411296</td>\n",
       "      <td>46.275313</td>\n",
       "      <td>5.895527</td>\n",
       "      <td>11.035769</td>\n",
       "      <td>10.947813</td>\n",
       "      <td>72.686642</td>\n",
       "      <td>3.571351</td>\n",
       "      <td>11.134294</td>\n",
       "      <td>3.333216</td>\n",
       "      <td>12.104271</td>\n",
       "    </tr>\n",
       "    <tr>\n",
       "      <th>max</th>\n",
       "      <td>13.731330</td>\n",
       "      <td>14.596026</td>\n",
       "      <td>7.142594</td>\n",
       "      <td>53.477742</td>\n",
       "      <td>717.508837</td>\n",
       "      <td>484.967466</td>\n",
       "      <td>36.118275</td>\n",
       "      <td>9.703448</td>\n",
       "      <td>1521.980372</td>\n",
       "      <td>-273.776101</td>\n",
       "      <td>...</td>\n",
       "      <td>26.000772</td>\n",
       "      <td>52.756638</td>\n",
       "      <td>16.001945</td>\n",
       "      <td>17.031899</td>\n",
       "      <td>19.615720</td>\n",
       "      <td>100.000000</td>\n",
       "      <td>8.245022</td>\n",
       "      <td>19.552149</td>\n",
       "      <td>5.804178</td>\n",
       "      <td>22.317730</td>\n",
       "    </tr>\n",
       "  </tbody>\n",
       "</table>\n",
       "<p>8 rows × 86 columns</p>\n",
       "</div>"
      ],
      "text/plain": [
       "       rougher.input.feed_au  rougher.input.feed_ag  rougher.input.feed_pb  \\\n",
       "count           19439.000000           19439.000000           19339.000000   \n",
       "mean                8.266097               8.794927               3.598085   \n",
       "std                 1.955092               1.936847               1.049486   \n",
       "min                 0.010000               0.010000               0.010000   \n",
       "25%                 6.854384               7.237967               2.887280   \n",
       "50%                 8.125839               8.593574               3.534895   \n",
       "75%                 9.769917              10.213771               4.244161   \n",
       "max                13.731330              14.596026               7.142594   \n",
       "\n",
       "       rougher.input.feed_sol  rougher.input.feed_rate  \\\n",
       "count            19340.000000             19428.000000   \n",
       "mean                36.695114               478.320042   \n",
       "std                  5.145445               105.373758   \n",
       "min                  0.010000                 0.002986   \n",
       "25%                 34.207799               416.525453   \n",
       "50%                 37.202650               499.416120   \n",
       "75%                 40.039133               550.172183   \n",
       "max                 53.477742               717.508837   \n",
       "\n",
       "       rougher.input.feed_size  rougher.input.floatbank10_sulfate  \\\n",
       "count             19294.000000                       19405.000000   \n",
       "mean                 58.970310                          12.334373   \n",
       "std                  21.634478                           3.427317   \n",
       "min                   0.046369                           0.001083   \n",
       "25%                  47.435103                          10.000362   \n",
       "50%                  54.610197                          12.001174   \n",
       "75%                  65.023044                          14.716595   \n",
       "max                 484.967466                          36.118275   \n",
       "\n",
       "       rougher.input.floatbank10_xanthate  rougher.state.floatbank10_a_air  \\\n",
       "count                        19431.000000                     19438.000000   \n",
       "mean                             6.021474                      1105.315068   \n",
       "std                              1.127263                       160.826798   \n",
       "min                              0.000568                        -0.042069   \n",
       "25%                              5.398678                       999.661867   \n",
       "50%                              6.008273                      1001.072890   \n",
       "75%                              6.798051                      1205.620588   \n",
       "max                              9.703448                      1521.980372   \n",
       "\n",
       "       rougher.state.floatbank10_a_level  ...  \\\n",
       "count                       19438.000000  ...   \n",
       "mean                         -376.610690  ...   \n",
       "std                            93.909667  ...   \n",
       "min                          -657.949759  ...   \n",
       "25%                          -499.835165  ...   \n",
       "50%                          -300.263994  ...   \n",
       "75%                          -299.981998  ...   \n",
       "max                          -273.776101  ...   \n",
       "\n",
       "       secondary_cleaner.output.tail_sol  final.output.concentrate_au  \\\n",
       "count                       17691.000000                 19439.000000   \n",
       "mean                            7.167247                    44.076513   \n",
       "std                             3.916079                     5.129784   \n",
       "min                             0.000000                     0.000000   \n",
       "25%                             3.845475                    43.402215   \n",
       "50%                             7.685827                    45.011244   \n",
       "75%                            10.411296                    46.275313   \n",
       "max                            26.000772                    52.756638   \n",
       "\n",
       "       final.output.concentrate_ag  final.output.concentrate_pb  \\\n",
       "count                 19438.000000                 19438.000000   \n",
       "mean                      5.168470                     9.978895   \n",
       "std                       1.372348                     1.669240   \n",
       "min                       0.000000                     0.000000   \n",
       "25%                       4.251240                     9.137262   \n",
       "50%                       5.066094                    10.102433   \n",
       "75%                       5.895527                    11.035769   \n",
       "max                      16.001945                    17.031899   \n",
       "\n",
       "       final.output.concentrate_sol  final.output.recovery  \\\n",
       "count                  19228.000000           19439.000000   \n",
       "mean                       9.501224              67.050208   \n",
       "std                        2.787537              10.125840   \n",
       "min                        0.000000               0.000000   \n",
       "25%                        7.722820              63.299712   \n",
       "50%                        9.218961              68.172738   \n",
       "75%                       10.947813              72.686642   \n",
       "max                       19.615720             100.000000   \n",
       "\n",
       "       final.output.tail_au  final.output.tail_ag  final.output.tail_pb  \\\n",
       "count          19439.000000          19438.000000          19338.000000   \n",
       "mean               3.042467              9.688589              2.705795   \n",
       "std                0.922808              2.328642              0.949077   \n",
       "min                0.000000              0.000000              0.000000   \n",
       "25%                2.461138              8.062878              2.040119   \n",
       "50%                2.984909              9.743623              2.748730   \n",
       "75%                3.571351             11.134294              3.333216   \n",
       "max                8.245022             19.552149              5.804178   \n",
       "\n",
       "       final.output.tail_sol  \n",
       "count           19433.000000  \n",
       "mean               10.583728  \n",
       "std                 2.868782  \n",
       "min                 0.000000  \n",
       "25%                 8.938947  \n",
       "50%                10.622456  \n",
       "75%                12.104271  \n",
       "max                22.317730  \n",
       "\n",
       "[8 rows x 86 columns]"
      ]
     },
     "metadata": {},
     "output_type": "display_data"
    },
    {
     "data": {
      "text/plain": [
       "'Количество дубликатов:'"
      ]
     },
     "metadata": {},
     "output_type": "display_data"
    },
    {
     "data": {
      "text/plain": [
       "0"
      ]
     },
     "metadata": {},
     "output_type": "display_data"
    }
   ],
   "source": [
    "display_data_summary(data_full)"
   ]
  },
  {
   "cell_type": "code",
   "execution_count": 7,
   "metadata": {},
   "outputs": [
    {
     "data": {
      "text/plain": [
       "date                        0\n",
       "rougher.input.feed_au       0\n",
       "rougher.input.feed_ag       0\n",
       "rougher.input.feed_pb     100\n",
       "rougher.input.feed_sol     99\n",
       "                         ... \n",
       "final.output.recovery       0\n",
       "final.output.tail_au        0\n",
       "final.output.tail_ag        1\n",
       "final.output.tail_pb      101\n",
       "final.output.tail_sol       6\n",
       "Length: 87, dtype: int64"
      ]
     },
     "metadata": {},
     "output_type": "display_data"
    }
   ],
   "source": [
    "display(data_full.isna().sum())   "
   ]
  },
  {
   "cell_type": "code",
   "execution_count": 8,
   "metadata": {},
   "outputs": [
    {
     "data": {
      "text/plain": [
       "date                       0\n",
       "rougher.input.feed_au      0\n",
       "rougher.input.feed_ag      0\n",
       "rougher.input.feed_pb     72\n",
       "rougher.input.feed_sol    77\n",
       "                          ..\n",
       "final.output.recovery      0\n",
       "final.output.tail_au       0\n",
       "final.output.tail_ag       1\n",
       "final.output.tail_pb      75\n",
       "final.output.tail_sol      5\n",
       "Length: 87, dtype: int64"
      ]
     },
     "metadata": {},
     "output_type": "display_data"
    }
   ],
   "source": [
    "display(data_train.isna().sum())"
   ]
  },
  {
   "cell_type": "code",
   "execution_count": 9,
   "metadata": {},
   "outputs": [
    {
     "data": {
      "text/plain": [
       "date                                            0\n",
       "rougher.input.feed_au                           0\n",
       "rougher.input.feed_ag                           0\n",
       "rougher.input.feed_pb                          28\n",
       "rougher.input.feed_sol                         22\n",
       "rougher.input.feed_rate                         4\n",
       "rougher.input.feed_size                        44\n",
       "rougher.input.floatbank10_sulfate               3\n",
       "rougher.input.floatbank10_xanthate              1\n",
       "rougher.state.floatbank10_a_air                 1\n",
       "rougher.state.floatbank10_a_level               1\n",
       "rougher.state.floatbank10_b_air                 1\n",
       "rougher.state.floatbank10_b_level               1\n",
       "rougher.state.floatbank10_c_air                 1\n",
       "rougher.state.floatbank10_c_level               1\n",
       "rougher.state.floatbank10_d_air                 0\n",
       "rougher.state.floatbank10_d_level               0\n",
       "rougher.state.floatbank10_e_air                 7\n",
       "rougher.state.floatbank10_e_level               0\n",
       "rougher.state.floatbank10_f_air                 0\n",
       "rougher.state.floatbank10_f_level               0\n",
       "rougher.input.floatbank11_sulfate               8\n",
       "rougher.input.floatbank11_xanthate             46\n",
       "primary_cleaner.input.sulfate                   1\n",
       "primary_cleaner.input.depressant                9\n",
       "primary_cleaner.input.feed_size                 0\n",
       "primary_cleaner.input.xanthate                 43\n",
       "primary_cleaner.state.floatbank8_a_air          1\n",
       "primary_cleaner.state.floatbank8_a_level        1\n",
       "primary_cleaner.state.floatbank8_b_air          1\n",
       "primary_cleaner.state.floatbank8_b_level        1\n",
       "primary_cleaner.state.floatbank8_c_air          2\n",
       "primary_cleaner.state.floatbank8_c_level        1\n",
       "primary_cleaner.state.floatbank8_d_air          2\n",
       "primary_cleaner.state.floatbank8_d_level        1\n",
       "secondary_cleaner.state.floatbank2_a_air      126\n",
       "secondary_cleaner.state.floatbank2_a_level      1\n",
       "secondary_cleaner.state.floatbank2_b_air        1\n",
       "secondary_cleaner.state.floatbank2_b_level      1\n",
       "secondary_cleaner.state.floatbank3_a_air        1\n",
       "secondary_cleaner.state.floatbank3_a_level      1\n",
       "secondary_cleaner.state.floatbank3_b_air        1\n",
       "secondary_cleaner.state.floatbank3_b_level      1\n",
       "secondary_cleaner.state.floatbank4_a_air        1\n",
       "secondary_cleaner.state.floatbank4_a_level      1\n",
       "secondary_cleaner.state.floatbank4_b_air        1\n",
       "secondary_cleaner.state.floatbank4_b_level      1\n",
       "secondary_cleaner.state.floatbank5_a_air        1\n",
       "secondary_cleaner.state.floatbank5_a_level      1\n",
       "secondary_cleaner.state.floatbank5_b_air        1\n",
       "secondary_cleaner.state.floatbank5_b_level      1\n",
       "secondary_cleaner.state.floatbank6_a_air        1\n",
       "secondary_cleaner.state.floatbank6_a_level      1\n",
       "dtype: int64"
      ]
     },
     "metadata": {},
     "output_type": "display_data"
    }
   ],
   "source": [
    "display(data_test.isna().sum())"
   ]
  },
  {
   "cell_type": "markdown",
   "metadata": {},
   "source": [
    "Считаем recovery"
   ]
  },
  {
   "cell_type": "code",
   "execution_count": 10,
   "metadata": {},
   "outputs": [],
   "source": [
    "def recovery_1(rougher_output, rougher_input, rougher_tail):\n",
    "    recovery = (rougher_output * (rougher_input - rougher_tail)) \\\n",
    "    / (rougher_input * (rougher_output - rougher_tail)) * 100\n",
    "    return recovery"
   ]
  },
  {
   "cell_type": "code",
   "execution_count": 11,
   "metadata": {},
   "outputs": [
    {
     "data": {
      "text/plain": [
       "0        87.107763\n",
       "1        86.843261\n",
       "2        86.842308\n",
       "3        87.226430\n",
       "4        86.688794\n",
       "           ...    \n",
       "14574    87.684717\n",
       "14575    90.677361\n",
       "14576    89.574376\n",
       "14577    87.724007\n",
       "14578    88.890579\n",
       "Length: 14579, dtype: float64"
      ]
     },
     "execution_count": 11,
     "metadata": {},
     "output_type": "execute_result"
    }
   ],
   "source": [
    "#вычисляю эффективность обогащения на тестовой выборке для признака:\n",
    "recovery = recovery_1(data_train['rougher.output.concentrate_au'],\n",
    "                         data_train['rougher.input.feed_au'],\n",
    "                         data_train['rougher.output.tail_au'])\n",
    "recovery"
   ]
  },
  {
   "cell_type": "code",
   "execution_count": 12,
   "metadata": {},
   "outputs": [
    {
     "name": "stdout",
     "output_type": "stream",
     "text": [
      "MAE между расчётами и значением = 9.83758577644259e-15\n"
     ]
    }
   ],
   "source": [
    "MAE = mean_absolute_error(data_train['rougher.output.recovery'], recovery)\n",
    "print('MAE между расчётами и значением =', MAE)"
   ]
  },
  {
   "cell_type": "markdown",
   "metadata": {},
   "source": [
    "Значение MAE стремится к 0, значит расчеты совпадают с признаком rougher.output.recovery. Соответственно считаем что в дальнейшем данная формула верна для расчетов"
   ]
  },
  {
   "cell_type": "code",
   "execution_count": 13,
   "metadata": {
    "collapsed": true
   },
   "outputs": [
    {
     "name": "stdout",
     "output_type": "stream",
     "text": [
      "<class 'pandas.core.frame.DataFrame'>\n",
      "RangeIndex: 14579 entries, 0 to 14578\n",
      "Data columns (total 34 columns):\n",
      " #   Column                                              Non-Null Count  Dtype  \n",
      "---  ------                                              --------------  -----  \n",
      " 0   rougher.output.concentrate_sol                      14561 non-null  float64\n",
      " 1   secondary_cleaner.output.tail_sol                   13659 non-null  float64\n",
      " 2   rougher.calculation.au_pb_ratio                     14579 non-null  float64\n",
      " 3   primary_cleaner.output.concentrate_sol              14314 non-null  float64\n",
      " 4   rougher.output.concentrate_ag                       14579 non-null  float64\n",
      " 5   final.output.recovery                               14579 non-null  float64\n",
      " 6   secondary_cleaner.output.tail_au                    14579 non-null  float64\n",
      " 7   secondary_cleaner.output.tail_ag                    14578 non-null  float64\n",
      " 8   final.output.tail_au                                14579 non-null  float64\n",
      " 9   rougher.output.tail_pb                              14579 non-null  float64\n",
      " 10  primary_cleaner.output.concentrate_ag               14579 non-null  float64\n",
      " 11  rougher.output.recovery                             14579 non-null  float64\n",
      " 12  final.output.concentrate_ag                         14578 non-null  float64\n",
      " 13  final.output.tail_sol                               14574 non-null  float64\n",
      " 14  primary_cleaner.output.concentrate_pb               14491 non-null  float64\n",
      " 15  rougher.output.tail_ag                              14578 non-null  float64\n",
      " 16  primary_cleaner.output.tail_pb                      14573 non-null  float64\n",
      " 17  final.output.concentrate_sol                        14387 non-null  float64\n",
      " 18  final.output.concentrate_au                         14579 non-null  float64\n",
      " 19  rougher.calculation.floatbank11_sulfate_to_au_feed  14578 non-null  float64\n",
      " 20  primary_cleaner.output.tail_au                      14579 non-null  float64\n",
      " 21  final.output.tail_ag                                14578 non-null  float64\n",
      " 22  final.output.concentrate_pb                         14578 non-null  float64\n",
      " 23  rougher.output.tail_sol                             14579 non-null  float64\n",
      " 24  rougher.output.concentrate_pb                       14579 non-null  float64\n",
      " 25  rougher.output.concentrate_au                       14579 non-null  float64\n",
      " 26  primary_cleaner.output.concentrate_au               14579 non-null  float64\n",
      " 27  rougher.calculation.floatbank10_sulfate_to_au_feed  14578 non-null  float64\n",
      " 28  rougher.output.tail_au                              14579 non-null  float64\n",
      " 29  primary_cleaner.output.tail_ag                      14575 non-null  float64\n",
      " 30  secondary_cleaner.output.tail_pb                    14575 non-null  float64\n",
      " 31  final.output.tail_pb                                14504 non-null  float64\n",
      " 32  rougher.calculation.sulfate_to_au_concentrate       14578 non-null  float64\n",
      " 33  primary_cleaner.output.tail_sol                     14534 non-null  float64\n",
      "dtypes: float64(34)\n",
      "memory usage: 3.8 MB\n"
     ]
    }
   ],
   "source": [
    "#выделяем признаки, которых нет в выборке test\n",
    "#к какому типу относятся признаки, которых нет в выборке test\n",
    "attributes = set(data_train.columns) - set(data_test.columns)\n",
    "data_train[attributes].info()"
   ]
  },
  {
   "cell_type": "code",
   "execution_count": 14,
   "metadata": {
    "scrolled": true
   },
   "outputs": [
    {
     "data": {
      "text/html": [
       "<div>\n",
       "<style scoped>\n",
       "    .dataframe tbody tr th:only-of-type {\n",
       "        vertical-align: middle;\n",
       "    }\n",
       "\n",
       "    .dataframe tbody tr th {\n",
       "        vertical-align: top;\n",
       "    }\n",
       "\n",
       "    .dataframe thead th {\n",
       "        text-align: right;\n",
       "    }\n",
       "</style>\n",
       "<table border=\"1\" class=\"dataframe\">\n",
       "  <thead>\n",
       "    <tr style=\"text-align: right;\">\n",
       "      <th></th>\n",
       "      <th>date</th>\n",
       "      <th>rougher.input.feed_au</th>\n",
       "      <th>rougher.input.feed_ag</th>\n",
       "      <th>rougher.input.feed_pb</th>\n",
       "      <th>rougher.input.feed_sol</th>\n",
       "      <th>rougher.input.feed_rate</th>\n",
       "      <th>rougher.input.feed_size</th>\n",
       "      <th>rougher.input.floatbank10_sulfate</th>\n",
       "      <th>rougher.input.floatbank10_xanthate</th>\n",
       "      <th>rougher.state.floatbank10_a_air</th>\n",
       "      <th>...</th>\n",
       "      <th>secondary_cleaner.state.floatbank4_b_air</th>\n",
       "      <th>secondary_cleaner.state.floatbank4_b_level</th>\n",
       "      <th>secondary_cleaner.state.floatbank5_a_air</th>\n",
       "      <th>secondary_cleaner.state.floatbank5_a_level</th>\n",
       "      <th>secondary_cleaner.state.floatbank5_b_air</th>\n",
       "      <th>secondary_cleaner.state.floatbank5_b_level</th>\n",
       "      <th>secondary_cleaner.state.floatbank6_a_air</th>\n",
       "      <th>secondary_cleaner.state.floatbank6_a_level</th>\n",
       "      <th>final.output.recovery</th>\n",
       "      <th>rougher.output.recovery</th>\n",
       "    </tr>\n",
       "  </thead>\n",
       "  <tbody>\n",
       "    <tr>\n",
       "      <th>0</th>\n",
       "      <td>2017-12-09 14:59:59</td>\n",
       "      <td>4.365491</td>\n",
       "      <td>6.158718</td>\n",
       "      <td>3.875727</td>\n",
       "      <td>39.135119</td>\n",
       "      <td>555.820208</td>\n",
       "      <td>94.544358</td>\n",
       "      <td>6.146982</td>\n",
       "      <td>9.308612</td>\n",
       "      <td>1196.238112</td>\n",
       "      <td>...</td>\n",
       "      <td>20.020205</td>\n",
       "      <td>-500.220296</td>\n",
       "      <td>17.963512</td>\n",
       "      <td>-499.939490</td>\n",
       "      <td>12.990306</td>\n",
       "      <td>-500.080993</td>\n",
       "      <td>19.990336</td>\n",
       "      <td>-499.191575</td>\n",
       "      <td>70.281454</td>\n",
       "      <td>89.514960</td>\n",
       "    </tr>\n",
       "    <tr>\n",
       "      <th>1</th>\n",
       "      <td>2017-12-09 15:59:59</td>\n",
       "      <td>4.362781</td>\n",
       "      <td>6.048130</td>\n",
       "      <td>3.902537</td>\n",
       "      <td>39.713906</td>\n",
       "      <td>544.731687</td>\n",
       "      <td>123.742430</td>\n",
       "      <td>6.210119</td>\n",
       "      <td>9.297709</td>\n",
       "      <td>1201.904177</td>\n",
       "      <td>...</td>\n",
       "      <td>20.054122</td>\n",
       "      <td>-500.314711</td>\n",
       "      <td>17.979515</td>\n",
       "      <td>-499.272871</td>\n",
       "      <td>12.992404</td>\n",
       "      <td>-499.976268</td>\n",
       "      <td>20.013986</td>\n",
       "      <td>-500.625471</td>\n",
       "      <td>65.523246</td>\n",
       "      <td>89.858126</td>\n",
       "    </tr>\n",
       "    <tr>\n",
       "      <th>2</th>\n",
       "      <td>2017-12-09 16:59:59</td>\n",
       "      <td>5.081681</td>\n",
       "      <td>6.082745</td>\n",
       "      <td>4.564078</td>\n",
       "      <td>37.208683</td>\n",
       "      <td>558.155110</td>\n",
       "      <td>82.610855</td>\n",
       "      <td>7.363824</td>\n",
       "      <td>9.003562</td>\n",
       "      <td>1200.826926</td>\n",
       "      <td>...</td>\n",
       "      <td>20.029144</td>\n",
       "      <td>-500.000662</td>\n",
       "      <td>18.012723</td>\n",
       "      <td>-500.024764</td>\n",
       "      <td>13.016445</td>\n",
       "      <td>-500.058432</td>\n",
       "      <td>19.973767</td>\n",
       "      <td>-501.394155</td>\n",
       "      <td>74.817644</td>\n",
       "      <td>91.816623</td>\n",
       "    </tr>\n",
       "    <tr>\n",
       "      <th>3</th>\n",
       "      <td>2017-12-09 17:59:59</td>\n",
       "      <td>5.145949</td>\n",
       "      <td>6.084374</td>\n",
       "      <td>4.768124</td>\n",
       "      <td>36.808874</td>\n",
       "      <td>539.713765</td>\n",
       "      <td>77.984784</td>\n",
       "      <td>6.927072</td>\n",
       "      <td>8.955597</td>\n",
       "      <td>1199.292489</td>\n",
       "      <td>...</td>\n",
       "      <td>19.977466</td>\n",
       "      <td>-500.159903</td>\n",
       "      <td>17.980463</td>\n",
       "      <td>-500.504602</td>\n",
       "      <td>12.949071</td>\n",
       "      <td>-500.009937</td>\n",
       "      <td>20.010332</td>\n",
       "      <td>-508.337973</td>\n",
       "      <td>63.082720</td>\n",
       "      <td>88.478959</td>\n",
       "    </tr>\n",
       "    <tr>\n",
       "      <th>4</th>\n",
       "      <td>2017-12-09 18:59:59</td>\n",
       "      <td>5.735249</td>\n",
       "      <td>6.165220</td>\n",
       "      <td>4.512346</td>\n",
       "      <td>37.810642</td>\n",
       "      <td>558.713584</td>\n",
       "      <td>86.434874</td>\n",
       "      <td>7.823471</td>\n",
       "      <td>7.490356</td>\n",
       "      <td>1198.005449</td>\n",
       "      <td>...</td>\n",
       "      <td>20.023735</td>\n",
       "      <td>-499.713680</td>\n",
       "      <td>17.990955</td>\n",
       "      <td>-500.334769</td>\n",
       "      <td>13.007523</td>\n",
       "      <td>-499.968459</td>\n",
       "      <td>19.995999</td>\n",
       "      <td>-499.788805</td>\n",
       "      <td>74.463380</td>\n",
       "      <td>89.230316</td>\n",
       "    </tr>\n",
       "  </tbody>\n",
       "</table>\n",
       "<p>5 rows × 55 columns</p>\n",
       "</div>"
      ],
      "text/plain": [
       "                  date  rougher.input.feed_au  rougher.input.feed_ag  \\\n",
       "0  2017-12-09 14:59:59               4.365491               6.158718   \n",
       "1  2017-12-09 15:59:59               4.362781               6.048130   \n",
       "2  2017-12-09 16:59:59               5.081681               6.082745   \n",
       "3  2017-12-09 17:59:59               5.145949               6.084374   \n",
       "4  2017-12-09 18:59:59               5.735249               6.165220   \n",
       "\n",
       "   rougher.input.feed_pb  rougher.input.feed_sol  rougher.input.feed_rate  \\\n",
       "0               3.875727               39.135119               555.820208   \n",
       "1               3.902537               39.713906               544.731687   \n",
       "2               4.564078               37.208683               558.155110   \n",
       "3               4.768124               36.808874               539.713765   \n",
       "4               4.512346               37.810642               558.713584   \n",
       "\n",
       "   rougher.input.feed_size  rougher.input.floatbank10_sulfate  \\\n",
       "0                94.544358                           6.146982   \n",
       "1               123.742430                           6.210119   \n",
       "2                82.610855                           7.363824   \n",
       "3                77.984784                           6.927072   \n",
       "4                86.434874                           7.823471   \n",
       "\n",
       "   rougher.input.floatbank10_xanthate  rougher.state.floatbank10_a_air  ...  \\\n",
       "0                            9.308612                      1196.238112  ...   \n",
       "1                            9.297709                      1201.904177  ...   \n",
       "2                            9.003562                      1200.826926  ...   \n",
       "3                            8.955597                      1199.292489  ...   \n",
       "4                            7.490356                      1198.005449  ...   \n",
       "\n",
       "   secondary_cleaner.state.floatbank4_b_air  \\\n",
       "0                                 20.020205   \n",
       "1                                 20.054122   \n",
       "2                                 20.029144   \n",
       "3                                 19.977466   \n",
       "4                                 20.023735   \n",
       "\n",
       "   secondary_cleaner.state.floatbank4_b_level  \\\n",
       "0                                 -500.220296   \n",
       "1                                 -500.314711   \n",
       "2                                 -500.000662   \n",
       "3                                 -500.159903   \n",
       "4                                 -499.713680   \n",
       "\n",
       "   secondary_cleaner.state.floatbank5_a_air  \\\n",
       "0                                 17.963512   \n",
       "1                                 17.979515   \n",
       "2                                 18.012723   \n",
       "3                                 17.980463   \n",
       "4                                 17.990955   \n",
       "\n",
       "   secondary_cleaner.state.floatbank5_a_level  \\\n",
       "0                                 -499.939490   \n",
       "1                                 -499.272871   \n",
       "2                                 -500.024764   \n",
       "3                                 -500.504602   \n",
       "4                                 -500.334769   \n",
       "\n",
       "   secondary_cleaner.state.floatbank5_b_air  \\\n",
       "0                                 12.990306   \n",
       "1                                 12.992404   \n",
       "2                                 13.016445   \n",
       "3                                 12.949071   \n",
       "4                                 13.007523   \n",
       "\n",
       "   secondary_cleaner.state.floatbank5_b_level  \\\n",
       "0                                 -500.080993   \n",
       "1                                 -499.976268   \n",
       "2                                 -500.058432   \n",
       "3                                 -500.009937   \n",
       "4                                 -499.968459   \n",
       "\n",
       "   secondary_cleaner.state.floatbank6_a_air  \\\n",
       "0                                 19.990336   \n",
       "1                                 20.013986   \n",
       "2                                 19.973767   \n",
       "3                                 20.010332   \n",
       "4                                 19.995999   \n",
       "\n",
       "   secondary_cleaner.state.floatbank6_a_level  final.output.recovery  \\\n",
       "0                                 -499.191575              70.281454   \n",
       "1                                 -500.625471              65.523246   \n",
       "2                                 -501.394155              74.817644   \n",
       "3                                 -508.337973              63.082720   \n",
       "4                                 -499.788805              74.463380   \n",
       "\n",
       "   rougher.output.recovery  \n",
       "0                89.514960  \n",
       "1                89.858126  \n",
       "2                91.816623  \n",
       "3                88.478959  \n",
       "4                89.230316  \n",
       "\n",
       "[5 rows x 55 columns]"
      ]
     },
     "execution_count": 14,
     "metadata": {},
     "output_type": "execute_result"
    }
   ],
   "source": [
    "# data_test = pd.concat([data_test, data_full[['date', 'final.output.recovery', 'rougher.output.recovery']]], axis=1, join='inner')\n",
    "data_test = data_test.merge(data_full[['date','final.output.recovery', 'rougher.output.recovery']], on='date', how='left')\n",
    "# data_test = data_test.join(data_full.loc[data_test.index][['date','final.output.recovery','rougher.output.recovery']])\n",
    "data_test.head()"
   ]
  },
  {
   "cell_type": "markdown",
   "metadata": {},
   "source": [
    "<font color='blue'><b>Комментарий ревьюера: </b></font> ✔️\\\n",
    "<font color='green'> Верно!</font>"
   ]
  },
  {
   "cell_type": "code",
   "execution_count": 15,
   "metadata": {},
   "outputs": [],
   "source": [
    "#заполняем оставшиеся пропуски ближайшеми значениями, так как в условиях сказано, что данные похожи\n",
    "#data_train = data_train.fillna(method='bfill') \n",
    "#data_test = data_test.fillna(method='bfill')\n",
    "#data_full = data_full.fillna(method='bfill')\n",
    "data_train = data_train.fillna(method='ffill') \n",
    "data_test = data_test.fillna(method='ffill')\n",
    "data_full = data_full.fillna(method='ffill')"
   ]
  },
  {
   "cell_type": "code",
   "execution_count": 16,
   "metadata": {},
   "outputs": [
    {
     "data": {
      "text/plain": [
       "0"
      ]
     },
     "metadata": {},
     "output_type": "display_data"
    }
   ],
   "source": [
    "display(data_full.isna().sum().sum())   "
   ]
  },
  {
   "cell_type": "code",
   "execution_count": 17,
   "metadata": {},
   "outputs": [
    {
     "data": {
      "text/plain": [
       "0"
      ]
     },
     "metadata": {},
     "output_type": "display_data"
    }
   ],
   "source": [
    "display(data_train.isna().sum().sum())  "
   ]
  },
  {
   "cell_type": "code",
   "execution_count": 18,
   "metadata": {},
   "outputs": [
    {
     "data": {
      "text/plain": [
       "0"
      ]
     },
     "metadata": {},
     "output_type": "display_data"
    }
   ],
   "source": [
    "display(data_test.isna().sum().sum())  "
   ]
  },
  {
   "cell_type": "markdown",
   "metadata": {},
   "source": [
    "**Вывод**\n",
    "\n",
    "Мы проанализировали 3 таблицы , посмотрели даннные.\n",
    "\n",
    "Видим, что явных дубликатов нет, однако еcть некоторое количество пропусков в тестовой и тренировочной выборках, основное количество в таргет признаках.\n",
    "\n",
    "Оставшиеся пропусках в признаках заполнил пропуски методом 'bfill'"
   ]
  },
  {
   "cell_type": "markdown",
   "metadata": {},
   "source": [
    "## Анализ данных"
   ]
  },
  {
   "cell_type": "markdown",
   "metadata": {},
   "source": [
    "Посмотрим как меняется концентрация металлов (Au, Ag, Pb) на различных этапах очистки"
   ]
  },
  {
   "cell_type": "code",
   "execution_count": 19,
   "metadata": {},
   "outputs": [
    {
     "data": {
      "image/png": "[encoded data removed]",
      "text/plain": [
       "<Figure size 1440x504 with 1 Axes>"
      ]
     },
     "metadata": {
      "needs_background": "light"
     },
     "output_type": "display_data"
    }
   ],
   "source": [
    "plt.figure(figsize=(20,7))\n",
    "data_full['rougher.input.feed_au'].hist(bins=30, label='rougher.output.feed', alpha=0.5)\n",
    "data_full['rougher.output.concentrate_au'].hist(bins=30, label='rougher.output', alpha=0.5)\n",
    "data_full['primary_cleaner.output.concentrate_au'].hist(bins=30, label='primary_cleaner.output', alpha=0.5)\n",
    "data_full['final.output.concentrate_au'].hist(bins=30, label='secondary_cleaner.output', alpha=0.5)\n",
    "plt.title('Диаграмма концентрации au')\n",
    "plt.xlabel('Значения')\n",
    "plt.ylabel('Количество')\n",
    "plt.legend(loc='lower right')\n",
    "plt.show()"
   ]
  },
  {
   "cell_type": "code",
   "execution_count": 20,
   "metadata": {},
   "outputs": [
    {
     "data": {
      "text/plain": [
       "rougher.output.concentrate_au            19.772000\n",
       "primary_cleaner.output.concentrate_au    32.119400\n",
       "final.output.concentrate_au              44.076513\n",
       "dtype: float64"
      ]
     },
     "execution_count": 20,
     "metadata": {},
     "output_type": "execute_result"
    }
   ],
   "source": [
    "data_full[['rougher.output.concentrate_au', 'primary_cleaner.output.concentrate_au', 'final.output.concentrate_au']].mean()"
   ]
  },
  {
   "cell_type": "code",
   "execution_count": 21,
   "metadata": {},
   "outputs": [
    {
     "data": {
      "text/plain": [
       "rougher.output.tail_au              1.816391\n",
       "primary_cleaner.output.tail_au      3.914179\n",
       "secondary_cleaner.output.tail_au    4.339625\n",
       "dtype: float64"
      ]
     },
     "execution_count": 21,
     "metadata": {},
     "output_type": "execute_result"
    }
   ],
   "source": [
    "data_full[['rougher.output.tail_au', 'primary_cleaner.output.tail_au', 'secondary_cleaner.output.tail_au']].mean()"
   ]
  },
  {
   "cell_type": "code",
   "execution_count": 22,
   "metadata": {},
   "outputs": [
    {
     "data": {
      "image/png": "[encoded data removed]",
      "text/plain": [
       "<Figure size 1440x504 with 1 Axes>"
      ]
     },
     "metadata": {
      "needs_background": "light"
     },
     "output_type": "display_data"
    }
   ],
   "source": [
    "plt.figure(figsize=(20,7))\n",
    "data_full['rougher.input.feed_ag'].hist(bins=30, label='rougher.output.feed', alpha=0.5)\n",
    "data_full['rougher.output.concentrate_ag'].hist(bins=30, label='rougher.output', alpha=0.5)\n",
    "data_full['primary_cleaner.output.concentrate_ag'].hist(bins=30, label='primary_cleaner.output', alpha=0.5)\n",
    "data_full['final.output.concentrate_ag'].hist(bins=30, label='secondary_cleaner.output', alpha=0.5)\n",
    "plt.title('Диаграмма концентрации ag')\n",
    "plt.legend(loc='lower right')\n",
    "plt.xlabel('Значения')\n",
    "plt.ylabel('Количество')\n",
    "plt.show()"
   ]
  },
  {
   "cell_type": "code",
   "execution_count": 23,
   "metadata": {},
   "outputs": [
    {
     "data": {
      "text/plain": [
       "rougher.output.concentrate_ag            11.994759\n",
       "primary_cleaner.output.concentrate_ag     8.442408\n",
       "final.output.concentrate_ag               5.168387\n",
       "dtype: float64"
      ]
     },
     "execution_count": 23,
     "metadata": {},
     "output_type": "execute_result"
    }
   ],
   "source": [
    "\n",
    "data_full[['rougher.output.concentrate_ag', 'primary_cleaner.output.concentrate_ag', 'final.output.concentrate_ag']].mean()"
   ]
  },
  {
   "cell_type": "code",
   "execution_count": 24,
   "metadata": {},
   "outputs": [
    {
     "data": {
      "text/plain": [
       "rougher.output.tail_ag               5.589064\n",
       "primary_cleaner.output.tail_ag      16.145888\n",
       "secondary_cleaner.output.tail_ag    14.586694\n",
       "dtype: float64"
      ]
     },
     "execution_count": 24,
     "metadata": {},
     "output_type": "execute_result"
    }
   ],
   "source": [
    "\n",
    "data_full[['rougher.output.tail_ag', 'primary_cleaner.output.tail_ag', 'secondary_cleaner.output.tail_ag']].mean()"
   ]
  },
  {
   "cell_type": "code",
   "execution_count": 25,
   "metadata": {},
   "outputs": [
    {
     "data": {
      "image/png": "[encoded data removed]",
      "text/plain": [
       "<Figure size 1440x504 with 1 Axes>"
      ]
     },
     "metadata": {
      "needs_background": "light"
     },
     "output_type": "display_data"
    }
   ],
   "source": [
    "plt.figure(figsize=(20,7))\n",
    "\n",
    "data_full['rougher.input.feed_pb'].hist(bins=30, label='rougher.output.feed', alpha=0.5)\n",
    "data_full['rougher.output.concentrate_pb'].hist(bins=30, label='rougher.output.concentrate', alpha=0.5)\n",
    "data_full['primary_cleaner.output.concentrate_pb'].hist(bins=30, label='primary_cleaner.output', alpha=0.5)\n",
    "data_full['final.output.concentrate_pb'].hist(bins=30, label='secondary_cleaner.output', alpha=0.5)\n",
    "plt.title('Диаграмма концентрации pb')\n",
    "\n",
    "plt.legend(loc='upper left')\n",
    "plt.xlabel('Значения')\n",
    "plt.ylabel('Количество')\n",
    "plt.show()"
   ]
  },
  {
   "cell_type": "code",
   "execution_count": 26,
   "metadata": {},
   "outputs": [
    {
     "data": {
      "text/plain": [
       "rougher.output.concentrate_pb            7.606272\n",
       "primary_cleaner.output.concentrate_pb    9.809276\n",
       "final.output.concentrate_pb              9.978821\n",
       "dtype: float64"
      ]
     },
     "execution_count": 26,
     "metadata": {},
     "output_type": "execute_result"
    }
   ],
   "source": [
    "data_full[['rougher.output.concentrate_pb', 'primary_cleaner.output.concentrate_pb', 'final.output.concentrate_pb']].mean()"
   ]
  },
  {
   "cell_type": "code",
   "execution_count": 27,
   "metadata": {},
   "outputs": [
    {
     "data": {
      "text/plain": [
       "rougher.output.tail_pb              0.645782\n",
       "primary_cleaner.output.tail_pb      3.434147\n",
       "secondary_cleaner.output.tail_pb    5.776537\n",
       "dtype: float64"
      ]
     },
     "execution_count": 27,
     "metadata": {},
     "output_type": "execute_result"
    }
   ],
   "source": [
    "data_full[['rougher.output.tail_pb', 'primary_cleaner.output.tail_pb', 'secondary_cleaner.output.tail_pb']].mean()"
   ]
  },
  {
   "cell_type": "markdown",
   "metadata": {},
   "source": [
    "* Au: концентрация золота в породе с каждым этапом возрастает,т.к. часть пустой породы уходит в хвосты. Концентрация от флотации до готового продукта увеличивается более чем в 2,5 раза; в отвальных хвостах концентрации почти не меняется.\n",
    "* Ag: концентрация серебра в породе с каждым этап падает, а в хвостах наоборот возрастает;\n",
    "* Pb: концентрация свинца увеличивается с каждым этапом, аналогично в отвальных хвостах."
   ]
  },
  {
   "cell_type": "markdown",
   "metadata": {},
   "source": [
    "Сравним распределения размеров гранул сырья на обучающей и тестовой выборках"
   ]
  },
  {
   "cell_type": "code",
   "execution_count": 28,
   "metadata": {},
   "outputs": [
    {
     "data": {
      "image/png": "[encoded data removed]",
      "text/plain": [
       "<Figure size 720x720 with 1 Axes>"
      ]
     },
     "metadata": {
      "needs_background": "light"
     },
     "output_type": "display_data"
    }
   ],
   "source": [
    "data_train['rougher.input.feed_size'].hist(bins=50,figsize=(10,10), density=True)\n",
    "data_test['rougher.input.feed_size'].hist(bins=50, density=True)\n",
    "\n",
    "plt.legend(['Train','Test'])\n",
    "plt.xlabel('Распределение размеров гранул сырья на этапе флотации')\n",
    "plt.ylabel('значения параметра')\n",
    "plt.show()"
   ]
  },
  {
   "cell_type": "code",
   "execution_count": 29,
   "metadata": {},
   "outputs": [
    {
     "data": {
      "image/png": "[encoded data removed]",
      "text/plain": [
       "<Figure size 720x720 with 1 Axes>"
      ]
     },
     "metadata": {
      "needs_background": "light"
     },
     "output_type": "display_data"
    }
   ],
   "source": [
    "data_train[data_train['rougher.input.feed_size']>200]['rougher.input.feed_size'].hist(bins=50,figsize=(10,10), density=True)\n",
    "data_test[data_test['rougher.input.feed_size']>200]['rougher.input.feed_size'].hist(bins=50, density=True)\n",
    "                                                                                      \n",
    "plt.legend(['Train','Test'])\n",
    "plt.xlabel('Распределение размеров гранул сырья на этапе флотации')\n",
    "plt.ylabel('значения параметра')\n",
    "plt.show()"
   ]
  },
  {
   "cell_type": "code",
   "execution_count": 30,
   "metadata": {},
   "outputs": [
    {
     "data": {
      "image/png": "[encoded data removed]",
      "text/plain": [
       "<Figure size 720x720 with 1 Axes>"
      ]
     },
     "metadata": {
      "needs_background": "light"
     },
     "output_type": "display_data"
    }
   ],
   "source": [
    "data_train['primary_cleaner.input.feed_size'].hist(bins=50,figsize=(10,10), density=True)\n",
    "data_test['primary_cleaner.input.feed_size'].hist(bins=50, density=True)\n",
    "\n",
    "plt.legend(['Train','Test'])\n",
    "plt.xlabel('Распределение размеров гранул сырья на этапе первичной обработки')\n",
    "plt.ylabel('значения параметра')\n",
    "plt.show()"
   ]
  },
  {
   "cell_type": "markdown",
   "metadata": {},
   "source": [
    "* Распределения для тестовой и тренировочной сравнительно похожи\n",
    "* На первичной обработке диапазон размеров гранул сильно сужается по сравнению с флотацией, мода была в районе 50, упала в район 7 единиц.\n",
    "* На этапе флотации на обоих выборках видны возможно выбросы на уровне больше 200  обоих выборках."
   ]
  },
  {
   "cell_type": "markdown",
   "metadata": {},
   "source": [
    "Суммарная концентрация всех веществ на разных стадиях"
   ]
  },
  {
   "cell_type": "code",
   "execution_count": 31,
   "metadata": {},
   "outputs": [
    {
     "data": {
      "text/html": [
       "<div>\n",
       "<style scoped>\n",
       "    .dataframe tbody tr th:only-of-type {\n",
       "        vertical-align: middle;\n",
       "    }\n",
       "\n",
       "    .dataframe tbody tr th {\n",
       "        vertical-align: top;\n",
       "    }\n",
       "\n",
       "    .dataframe thead th {\n",
       "        text-align: right;\n",
       "    }\n",
       "</style>\n",
       "<table border=\"1\" class=\"dataframe\">\n",
       "  <thead>\n",
       "    <tr style=\"text-align: right;\">\n",
       "      <th></th>\n",
       "      <th>rougher.input</th>\n",
       "      <th>rougher.output</th>\n",
       "      <th>primary_cleaner.output</th>\n",
       "      <th>final.output</th>\n",
       "    </tr>\n",
       "  </thead>\n",
       "  <tbody>\n",
       "    <tr>\n",
       "      <th>count</th>\n",
       "      <td>19439.000000</td>\n",
       "      <td>19439.000000</td>\n",
       "      <td>19439.000000</td>\n",
       "      <td>19439.000000</td>\n",
       "    </tr>\n",
       "    <tr>\n",
       "      <th>mean</th>\n",
       "      <td>57.322230</td>\n",
       "      <td>68.171375</td>\n",
       "      <td>60.758483</td>\n",
       "      <td>68.654112</td>\n",
       "    </tr>\n",
       "    <tr>\n",
       "      <th>std</th>\n",
       "      <td>7.209464</td>\n",
       "      <td>12.490476</td>\n",
       "      <td>10.023982</td>\n",
       "      <td>7.427434</td>\n",
       "    </tr>\n",
       "    <tr>\n",
       "      <th>min</th>\n",
       "      <td>0.040000</td>\n",
       "      <td>0.000000</td>\n",
       "      <td>0.000000</td>\n",
       "      <td>0.000000</td>\n",
       "    </tr>\n",
       "    <tr>\n",
       "      <th>25%</th>\n",
       "      <td>53.559598</td>\n",
       "      <td>66.012495</td>\n",
       "      <td>58.926955</td>\n",
       "      <td>67.932362</td>\n",
       "    </tr>\n",
       "    <tr>\n",
       "      <th>50%</th>\n",
       "      <td>57.594391</td>\n",
       "      <td>70.181495</td>\n",
       "      <td>62.500391</td>\n",
       "      <td>69.598444</td>\n",
       "    </tr>\n",
       "    <tr>\n",
       "      <th>75%</th>\n",
       "      <td>61.954409</td>\n",
       "      <td>74.356904</td>\n",
       "      <td>65.667353</td>\n",
       "      <td>71.368472</td>\n",
       "    </tr>\n",
       "    <tr>\n",
       "      <th>max</th>\n",
       "      <td>76.978947</td>\n",
       "      <td>88.140119</td>\n",
       "      <td>80.749343</td>\n",
       "      <td>80.210644</td>\n",
       "    </tr>\n",
       "  </tbody>\n",
       "</table>\n",
       "</div>"
      ],
      "text/plain": [
       "       rougher.input  rougher.output  primary_cleaner.output  final.output\n",
       "count   19439.000000    19439.000000            19439.000000  19439.000000\n",
       "mean       57.322230       68.171375               60.758483     68.654112\n",
       "std         7.209464       12.490476               10.023982      7.427434\n",
       "min         0.040000        0.000000                0.000000      0.000000\n",
       "25%        53.559598       66.012495               58.926955     67.932362\n",
       "50%        57.594391       70.181495               62.500391     69.598444\n",
       "75%        61.954409       74.356904               65.667353     71.368472\n",
       "max        76.978947       88.140119               80.749343     80.210644"
      ]
     },
     "execution_count": 31,
     "metadata": {},
     "output_type": "execute_result"
    }
   ],
   "source": [
    "full_concentrate = pd.DataFrame()\n",
    "full_concentrate['rougher.input'] = data_full['rougher.input.feed_ag'] \\\n",
    "+ data_full['rougher.input.feed_pb'] \\\n",
    "+ data_full['rougher.input.feed_sol'] \\\n",
    "+ data_full['rougher.input.feed_au']\n",
    "\n",
    "full_concentrate['rougher.output'] = data_full['rougher.output.concentrate_ag'] \\\n",
    "+ data_full['rougher.output.concentrate_pb'] \\\n",
    "+ data_full['rougher.output.concentrate_sol'] \\\n",
    "+ data_full['rougher.output.concentrate_au']\n",
    "\n",
    "full_concentrate['primary_cleaner.output'] = data_full['primary_cleaner.output.concentrate_ag'] \\\n",
    "+ data_full['primary_cleaner.output.concentrate_pb'] \\\n",
    "+ data_full['primary_cleaner.output.concentrate_sol'] \\\n",
    "+ data_full['primary_cleaner.output.concentrate_au']\n",
    "\n",
    "full_concentrate['final.output'] = data_full['final.output.concentrate_ag'] \\\n",
    "+ data_full['final.output.concentrate_pb'] \\\n",
    "+ data_full['final.output.concentrate_sol'] \\\n",
    "+ data_full['final.output.concentrate_au']\n",
    "\n",
    "full_concentrate.describe()"
   ]
  },
  {
   "cell_type": "code",
   "execution_count": 32,
   "metadata": {},
   "outputs": [
    {
     "data": {
      "image/png": "[encoded data removed]",
      "text/plain": [
       "<Figure size 1440x360 with 1 Axes>"
      ]
     },
     "metadata": {
      "needs_background": "light"
     },
     "output_type": "display_data"
    }
   ],
   "source": [
    "plt.figure(figsize=[20,5])\n",
    "\n",
    "plt.hist(full_concentrate['rougher.input'], bins=100, label = 'rougher.input', alpha=0.4)\n",
    "plt.hist(full_concentrate['rougher.output'], bins=100, label = 'rougher.output', alpha=0.5)\n",
    "plt.hist(full_concentrate['primary_cleaner.output'], bins=100, label = 'primary_cleaner.output', alpha=0.4)\n",
    "plt.hist(full_concentrate['final.output'], bins=100, label = 'final.output', alpha=0.5)\n",
    "\n",
    "plt.xlim([0, 100])\n",
    "plt.ylim([0, 2500])\n",
    "\n",
    "plt.xlabel(\"Сум. концентраця\")\n",
    "plt.ylabel(\"Количество результатов\")\n",
    "\n",
    "plt.legend(loc='upper left', fontsize='x-large')\n",
    "\n",
    "plt.title(\"Гистограмма распределения концентраций на разных этапах очистки\")\n",
    "plt.show()"
   ]
  },
  {
   "cell_type": "markdown",
   "metadata": {},
   "source": [
    "Видим довольно много аномалий в нулевых значениях, нужно их обработать."
   ]
  },
  {
   "cell_type": "code",
   "execution_count": 33,
   "metadata": {},
   "outputs": [],
   "source": [
    "data_full = data_full.drop(index = data_full[data_full[\"rougher.input.feed_au\"] < 1].index,\n",
    "                               axis = 0)\n",
    "data_full = data_full.drop(index = data_full[data_full[\"rougher.input.feed_ag\"] < 1].index,\n",
    "                               axis = 0)\n",
    "data_full = data_full.drop(index = data_full[data_full[\"rougher.input.feed_pb\"] < 1].index,\n",
    "                               axis = 0)\n",
    "data_full = data_full.drop(index = data_full[data_full[\"rougher.input.feed_sol\"] < 1].index,\n",
    "                               axis = 0)\n",
    "\n",
    "\n",
    "data_full = data_full.drop(index = data_full[data_full[\"rougher.output.concentrate_au\"] < 1].index,\n",
    "                               axis = 0)\n",
    "data_full = data_full.drop(index = data_full[data_full[\"rougher.output.concentrate_ag\"] < 1].index,\n",
    "                               axis = 0)\n",
    "data_full = data_full.drop(index = data_full[data_full[\"rougher.output.concentrate_pb\"] < 1].index,\n",
    "                               axis = 0)\n",
    "data_full = data_full.drop(index = data_full[data_full[\"rougher.output.concentrate_sol\"] < 1].index,\n",
    "                               axis = 0)\n",
    "\n",
    "data_full = data_full.drop(index = data_full[data_full[\"primary_cleaner.output.concentrate_au\"] < 1].index,\n",
    "                               axis = 0)\n",
    "data_full = data_full.drop(index = data_full[data_full[\"primary_cleaner.output.concentrate_ag\"] < 1].index,\n",
    "                               axis = 0)\n",
    "data_full = data_full.drop(index = data_full[data_full[\"primary_cleaner.output.concentrate_pb\"] < 1].index,\n",
    "                               axis = 0)\n",
    "data_full = data_full.drop(index = data_full[data_full[\"primary_cleaner.output.concentrate_sol\"] < 1].index,\n",
    "                               axis = 0)\n",
    "\n",
    "data_full = data_full.drop(index = data_full[data_full[\"final.output.concentrate_au\"] < 1].index,\n",
    "                               axis = 0)\n",
    "data_full = data_full.drop(index = data_full[data_full[\"final.output.concentrate_ag\"] < 1].index,\n",
    "                               axis = 0)\n",
    "data_full = data_full.drop(index = data_full[data_full[\"final.output.concentrate_pb\"] < 1].index,\n",
    "                               axis = 0)\n",
    "data_full = data_full.drop(index = data_full[data_full[\"final.output.concentrate_sol\"] < 1].index,\n",
    "                               axis = 0)"
   ]
  },
  {
   "cell_type": "raw",
   "metadata": {},
   "source": [
    "#data_test = data_test.drop(index = data_test[data_test[\"rougher.input.feed_au\"] < 1].index,\n",
    "                               axis = 0\n",
    "#data_test = data_test.drop(index = data_test[data_test[\"rougher.input.feed_ag\"] < 1].index,\n",
    "                               axis = 0\n",
    "#data_test = data_test.drop(index = data_test[data_test[\"rougher.input.feed_pb\"] < 1].index,\n",
    "                               axis = 0\n",
    "#data_test = data_test.drop(index = data_test[data_test[\"rougher.input.feed_sol\"] < 1].index,\n",
    "                               axis = 0"
   ]
  },
  {
   "cell_type": "code",
   "execution_count": 34,
   "metadata": {},
   "outputs": [],
   "source": [
    "data_train = data_train.drop(index = data_train[data_train[\"rougher.input.feed_au\"] < 1].index,\n",
    "                               axis = 0)\n",
    "data_train = data_train.drop(index = data_train[data_train[\"rougher.input.feed_ag\"] < 1].index,\n",
    "                               axis = 0)\n",
    "data_train = data_train.drop(index = data_train[data_train[\"rougher.input.feed_pb\"] < 1].index,\n",
    "                               axis = 0)\n",
    "data_train = data_train.drop(index = data_train[data_train[\"rougher.input.feed_sol\"] < 1].index,\n",
    "                               axis = 0)\n",
    "\n",
    "\n",
    "data_train = data_train.drop(index = data_train[data_train[\"rougher.output.concentrate_au\"] < 1].index,\n",
    "                               axis = 0)\n",
    "data_train = data_train.drop(index = data_train[data_train[\"rougher.output.concentrate_ag\"] < 1].index,\n",
    "                               axis = 0)\n",
    "data_train = data_train.drop(index = data_train[data_train[\"rougher.output.concentrate_pb\"] < 1].index,\n",
    "                               axis = 0)\n",
    "data_train = data_train.drop(index = data_train[data_train[\"rougher.output.concentrate_sol\"] < 1].index,\n",
    "                               axis = 0)\n",
    "\n",
    "data_train = data_train.drop(index = data_train[data_train[\"primary_cleaner.output.concentrate_au\"] < 1].index,\n",
    "                               axis = 0)\n",
    "data_train = data_train.drop(index = data_train[data_train[\"primary_cleaner.output.concentrate_ag\"] < 1].index,\n",
    "                               axis = 0)\n",
    "data_train = data_train.drop(index = data_train[data_train[\"primary_cleaner.output.concentrate_pb\"] < 1].index,\n",
    "                               axis = 0)\n",
    "data_train = data_train.drop(index = data_train[data_train[\"primary_cleaner.output.concentrate_sol\"] < 1].index,\n",
    "                               axis = 0)\n",
    "\n",
    "data_train = data_train.drop(index = data_train[data_train[\"final.output.concentrate_au\"] < 1].index,\n",
    "                               axis = 0)\n",
    "data_train = data_train.drop(index = data_train[data_train[\"final.output.concentrate_ag\"] < 1].index,\n",
    "                               axis = 0)\n",
    "data_train = data_train.drop(index = data_train[data_train[\"final.output.concentrate_pb\"] < 1].index,\n",
    "                               axis = 0)\n",
    "data_train = data_train.drop(index = data_train[data_train[\"final.output.concentrate_sol\"] < 1].index,\n",
    "                               axis = 0)"
   ]
  },
  {
   "cell_type": "markdown",
   "metadata": {},
   "source": [
    "* Концентрация металлов (Au, Ag, Pb) на разных этапах очистки.\n",
    "* Размер гранул сырья на обучающей и тестовой выборках\n",
    "* Суммарная концентрация всех веществ на разных стадиях: в сырье, в черновом и финальном концентратах.\n",
    "* Найдены и обработаны аномалии. Данные готовы к обучению."
   ]
  },
  {
   "cell_type": "markdown",
   "metadata": {},
   "source": [
    "## Модель"
   ]
  },
  {
   "cell_type": "markdown",
   "metadata": {},
   "source": [
    "Напишем функцию для вычисления итоговой sMAPE"
   ]
  },
  {
   "cell_type": "code",
   "execution_count": 35,
   "metadata": {},
   "outputs": [],
   "source": [
    "def sMAPE(y_true,y_pred):\n",
    "    error = np.mean(abs(y_true - y_pred)/((abs(y_true)+abs(y_pred))/2))*100\n",
    "    return error"
   ]
  },
  {
   "cell_type": "code",
   "execution_count": 36,
   "metadata": {},
   "outputs": [],
   "source": [
    "def final_sMAPE(sMAPE_rougher,sMAPE_final):\n",
    "    return (0.25*sMAPE_rougher + 0.75*sMAPE_final)"
   ]
  },
  {
   "cell_type": "code",
   "execution_count": 37,
   "metadata": {},
   "outputs": [],
   "source": [
    "#features_columns = data_test.columns[1:] # Оставим все столбцы кроме data\n",
    "#rougher_features_columns = set(features_columns[12:34]) # Для предсказания rougher.output.recovery используем данные из стобцов rougher\n",
    "#final_features_columns = set(features_columns) # Тут будем использовать все столбцы из тестовой выборки\n",
    "#print(final_features_columns)"
   ]
  },
  {
   "cell_type": "code",
   "execution_count": 38,
   "metadata": {},
   "outputs": [],
   "source": [
    "#columns_to_delete = set(data_test.columns) - final_features_columns\n",
    "#train_features_dataset_final = data_train.drop(columns_to_delete, axis=1)\n",
    "#train_features_dataset_final = data_train.drop('date', axis=1)\n",
    "# Подготовка признаков для rougher.output.recovery\n",
    "#columns_to_delete = set(train_features_dataset_final.columns) - rougher_features_columns\n",
    "#train_features_dataset_rougher = train_features_dataset_final.drop(columns_to_delete, axis=1)"
   ]
  },
  {
   "cell_type": "code",
   "execution_count": 42,
   "metadata": {},
   "outputs": [
    {
     "name": "stdout",
     "output_type": "stream",
     "text": [
      "(13613, 52)\n",
      "(13613,)\n",
      "(13613,)\n"
     ]
    }
   ],
   "source": [
    "features_train = data_train.drop(['date','rougher.output.recovery', 'final.output.recovery',\n",
    "                                     'rougher.output.concentrate_au', 'primary_cleaner.output.tail_pb',\n",
    "                                      'final.output.concentrate_au', 'primary_cleaner.output.concentrate_pb',\n",
    "                                      'final.output.tail_sol',\n",
    "                                      'rougher.calculation.floatbank10_sulfate_to_au_feed',\n",
    "                                      'rougher.output.tail_sol', 'final.output.tail_au',\n",
    "                                      'primary_cleaner.output.concentrate_ag',\n",
    "                                      'rougher.calculation.floatbank11_sulfate_to_au_feed',\n",
    "                                      'rougher.output.tail_ag', 'rougher.output.tail_pb',\n",
    "                                      'secondary_cleaner.output.tail_pb', 'final.output.tail_ag',\n",
    "                                      'final.output.concentrate_sol', 'primary_cleaner.output.tail_au',\n",
    "                                      'secondary_cleaner.output.tail_sol', 'secondary_cleaner.output.tail_ag',\n",
    "                                      'rougher.output.tail_au', 'rougher.output.concentrate_ag',\n",
    "                                      'primary_cleaner.output.concentrate_sol', 'final.output.concentrate_pb',\n",
    "                                      'final.output.concentrate_ag', 'secondary_cleaner.output.tail_au',\n",
    "                                      'rougher.output.concentrate_pb', 'rougher.output.concentrate_sol',\n",
    "                                      'primary_cleaner.output.tail_sol',\n",
    "                                      'rougher.calculation.sulfate_to_au_concentrate',\n",
    "                                      'final.output.tail_pb', 'primary_cleaner.output.concentrate_au',\n",
    "                                      'primary_cleaner.output.tail_ag', 'rougher.calculation.au_pb_ratio'], \n",
    "                                     axis=1).values  #кроме целевых, убираю признаки, которых нет в test:\n",
    "\n",
    "target_train_rougher = data_train['rougher.output.recovery'].values\n",
    "target_train_final = data_train['final.output.recovery'].values\n",
    "\n",
    "for sample in [features_train, target_train_rougher, target_train_final]:\n",
    "    print(sample.shape)"
   ]
  },
  {
   "cell_type": "code",
   "execution_count": 43,
   "metadata": {
    "scrolled": true
   },
   "outputs": [
    {
     "name": "stdout",
     "output_type": "stream",
     "text": [
      "(4860, 55)\n"
     ]
    }
   ],
   "source": [
    "print(data_test.shape)"
   ]
  },
  {
   "cell_type": "code",
   "execution_count": 48,
   "metadata": {},
   "outputs": [],
   "source": [
    "custom_score = make_scorer(sMAPE,greater_is_better=False)"
   ]
  },
  {
   "cell_type": "code",
   "execution_count": 49,
   "metadata": {},
   "outputs": [],
   "source": [
    "model = make_pipeline(StandardScaler(),RandomForestRegressor())\n",
    "model2 = make_pipeline(StandardScaler(),DecisionTreeRegressor())\n",
    "model3 = make_pipeline(StandardScaler(), LinearRegression())"
   ]
  },
  {
   "cell_type": "code",
   "execution_count": 50,
   "metadata": {},
   "outputs": [],
   "source": [
    "params_RF = {\"randomforestregressor__n_estimators\":[1,100],\n",
    "             \"randomforestregressor__max_depth\":[1,10],\n",
    "            'randomforestregressor__random_state':[12345]}\n",
    "params_DT= {\"decisiontreeregressor__max_depth\":[1,10]}\n",
    "parameters_LR = {'linearregression__normalize':[False]}"
   ]
  },
  {
   "cell_type": "code",
   "execution_count": 51,
   "metadata": {},
   "outputs": [],
   "source": [
    "from sklearn.model_selection import GridSearchCV\n",
    "grid_rougher = GridSearchCV(model, param_grid = params_RF, cv=5, scoring=custom_score)\n",
    "grid_final = GridSearchCV(model, param_grid = params_RF, cv=5, scoring=custom_score)\n",
    "grid_rougher_DT = GridSearchCV(model2, param_grid = params_DT, cv=5, scoring=custom_score)\n",
    "grid_final_DT = GridSearchCV(model2, param_grid = params_DT, cv=5, scoring=custom_score)\n",
    "grid_rougher_LR = GridSearchCV(model3, param_grid=parameters_LR, scoring=custom_score)\n",
    "grid_final_LR = GridSearchCV(model3, param_grid=parameters_LR, scoring=custom_score)"
   ]
  },
  {
   "cell_type": "code",
   "execution_count": 52,
   "metadata": {},
   "outputs": [
    {
     "data": {
      "text/plain": [
       "GridSearchCV(estimator=Pipeline(steps=[('standardscaler', StandardScaler()),\n",
       "                                       ('linearregression',\n",
       "                                        LinearRegression())]),\n",
       "             param_grid={'linearregression__normalize': [False]},\n",
       "             scoring=make_scorer(sMAPE, greater_is_better=False))"
      ]
     },
     "execution_count": 52,
     "metadata": {},
     "output_type": "execute_result"
    }
   ],
   "source": [
    "grid_rougher.fit(features_train, target_train_rougher)\n",
    "grid_final.fit(features_train, target_train_final)\n",
    "grid_rougher_DT.fit(features_train, target_train_rougher)\n",
    "grid_final_DT.fit(features_train, target_train_final)\n",
    "grid_rougher_LR.fit(features_train, target_train_rougher)\n",
    "grid_final_LR.fit(features_train, target_train_final)"
   ]
  },
  {
   "cell_type": "code",
   "execution_count": 53,
   "metadata": {},
   "outputs": [
    {
     "data": {
      "text/plain": [
       "'Лучшие модели'"
      ]
     },
     "metadata": {},
     "output_type": "display_data"
    },
    {
     "data": {
      "text/plain": [
       "Pipeline(steps=[('standardscaler', StandardScaler()),\n",
       "                ('randomforestregressor',\n",
       "                 RandomForestRegressor(max_depth=10, random_state=12345))])"
      ]
     },
     "metadata": {},
     "output_type": "display_data"
    },
    {
     "data": {
      "text/plain": [
       "Pipeline(steps=[('standardscaler', StandardScaler()),\n",
       "                ('randomforestregressor',\n",
       "                 RandomForestRegressor(max_depth=1, random_state=12345))])"
      ]
     },
     "metadata": {},
     "output_type": "display_data"
    },
    {
     "data": {
      "text/plain": [
       "Pipeline(steps=[('standardscaler', StandardScaler()),\n",
       "                ('decisiontreeregressor', DecisionTreeRegressor(max_depth=1))])"
      ]
     },
     "metadata": {},
     "output_type": "display_data"
    },
    {
     "data": {
      "text/plain": [
       "Pipeline(steps=[('standardscaler', StandardScaler()),\n",
       "                ('decisiontreeregressor', DecisionTreeRegressor(max_depth=1))])"
      ]
     },
     "metadata": {},
     "output_type": "display_data"
    },
    {
     "data": {
      "text/plain": [
       "Pipeline(steps=[('standardscaler', StandardScaler()),\n",
       "                ('linearregression', LinearRegression())])"
      ]
     },
     "metadata": {},
     "output_type": "display_data"
    },
    {
     "data": {
      "text/plain": [
       "Pipeline(steps=[('standardscaler', StandardScaler()),\n",
       "                ('linearregression', LinearRegression())])"
      ]
     },
     "metadata": {},
     "output_type": "display_data"
    }
   ],
   "source": [
    "display(\"Лучшие модели\")\n",
    "display(grid_rougher.best_estimator_)\n",
    "display(grid_final.best_estimator_)\n",
    "display(grid_rougher_DT.best_estimator_)\n",
    "display(grid_final_DT.best_estimator_)\n",
    "display(grid_rougher_LR.best_estimator_)\n",
    "display(grid_final_LR.best_estimator_)"
   ]
  },
  {
   "cell_type": "code",
   "execution_count": 54,
   "metadata": {},
   "outputs": [
    {
     "data": {
      "text/plain": [
       "'по модели RandomForestRegressor лучший результат rougher ='"
      ]
     },
     "metadata": {},
     "output_type": "display_data"
    },
    {
     "data": {
      "text/plain": [
       "-6.808154009846916"
      ]
     },
     "metadata": {},
     "output_type": "display_data"
    },
    {
     "data": {
      "text/plain": [
       "'по модели DecisionTreeRegressor лучший результат rougher ='"
      ]
     },
     "metadata": {},
     "output_type": "display_data"
    },
    {
     "data": {
      "text/plain": [
       "-7.160965334754314"
      ]
     },
     "metadata": {},
     "output_type": "display_data"
    },
    {
     "data": {
      "text/plain": [
       "'по модели LinearRegression лучший результат rougher ='"
      ]
     },
     "metadata": {},
     "output_type": "display_data"
    },
    {
     "data": {
      "text/plain": [
       "-7.005146464308488"
      ]
     },
     "metadata": {},
     "output_type": "display_data"
    },
    {
     "data": {
      "text/plain": [
       "'по модели RandomForestRegressor лучший результат final ='"
      ]
     },
     "metadata": {},
     "output_type": "display_data"
    },
    {
     "data": {
      "text/plain": [
       "-8.74547252381542"
      ]
     },
     "metadata": {},
     "output_type": "display_data"
    },
    {
     "data": {
      "text/plain": [
       "'по модели DecisionTreeRegressor лучший результат final ='"
      ]
     },
     "metadata": {},
     "output_type": "display_data"
    },
    {
     "data": {
      "text/plain": [
       "-8.80472729912603"
      ]
     },
     "metadata": {},
     "output_type": "display_data"
    },
    {
     "data": {
      "text/plain": [
       "'по модели LinearRegression лучший результат final ='"
      ]
     },
     "metadata": {},
     "output_type": "display_data"
    },
    {
     "data": {
      "text/plain": [
       "-9.285261832443027"
      ]
     },
     "metadata": {},
     "output_type": "display_data"
    }
   ],
   "source": [
    "best_score_rougher = grid_rougher.best_score_\n",
    "best_score_final = grid_final.best_score_\n",
    "best_score_rougher_DT = grid_rougher_DT.best_score_\n",
    "best_score_final_DT = grid_final_DT.best_score_\n",
    "best_score_rougher_LR = grid_rougher_LR.best_score_\n",
    "best_score_final_LR = grid_final_LR.best_score_\n",
    "\n",
    "display('по модели RandomForestRegressor лучший результат rougher =', best_score_rougher)\n",
    "display('по модели DecisionTreeRegressor лучший результат rougher =', best_score_rougher_DT)\n",
    "display('по модели LinearRegression лучший результат rougher =', best_score_rougher_LR)\n",
    "display()\n",
    "display('по модели RandomForestRegressor лучший результат final =', best_score_final)\n",
    "display('по модели DecisionTreeRegressor лучший результат final =', best_score_final_DT)\n",
    "display('по модели LinearRegression лучший результат final =', best_score_final_LR)"
   ]
  },
  {
   "cell_type": "code",
   "execution_count": 55,
   "metadata": {},
   "outputs": [
    {
     "data": {
      "text/plain": [
       "'по модели RandomForestRegressor итоговое sMAPE ='"
      ]
     },
     "metadata": {},
     "output_type": "display_data"
    },
    {
     "data": {
      "text/plain": [
       "-8.261142895323294"
      ]
     },
     "metadata": {},
     "output_type": "display_data"
    },
    {
     "data": {
      "text/plain": [
       "'по модели DecisionTreeRegressor итоговое sMAPE ='"
      ]
     },
     "metadata": {},
     "output_type": "display_data"
    },
    {
     "data": {
      "text/plain": [
       "-8.393786808033102"
      ]
     },
     "metadata": {},
     "output_type": "display_data"
    },
    {
     "data": {
      "text/plain": [
       "'по модели LinearRegression итоговое sMAPE ='"
      ]
     },
     "metadata": {},
     "output_type": "display_data"
    },
    {
     "data": {
      "text/plain": [
       "-8.715232990409392"
      ]
     },
     "metadata": {},
     "output_type": "display_data"
    }
   ],
   "source": [
    "#вычисляю final sMAPE для каждой модели:\n",
    "final_smape = final_sMAPE(best_score_rougher, best_score_final)\n",
    "display('по модели RandomForestRegressor итоговое sMAPE =', final_smape)\n",
    "\n",
    "final_smape_DT = final_sMAPE(best_score_rougher_DT, best_score_final_DT)\n",
    "display('по модели DecisionTreeRegressor итоговое sMAPE =', final_smape_DT)\n",
    "\n",
    "final_smape_LR = final_sMAPE(best_score_rougher_LR, best_score_final_LR)\n",
    "display('по модели LinearRegression итоговое sMAPE =', final_smape_LR)"
   ]
  },
  {
   "cell_type": "markdown",
   "metadata": {},
   "source": [
    "Исходя из данных , мы видим что лучше спарвляется RandomForestRegressor"
   ]
  },
  {
   "cell_type": "code",
   "execution_count": 125,
   "metadata": {},
   "outputs": [],
   "source": [
    "#features_test = data_test.merge(data_full[['date', 'rougher.output.recovery','final.output.recovery']], on='date', how='left')\n",
    "features_test= data_test.drop(['date', 'rougher.output.recovery','final.output.recovery'], axis = 1).values"
   ]
  },
  {
   "cell_type": "code",
   "execution_count": 149,
   "metadata": {},
   "outputs": [
    {
     "name": "stdout",
     "output_type": "stream",
     "text": [
      "Симметричная средняя абсолютная процентная ошибка на тестовой выборке = 7.359\n"
     ]
    }
   ],
   "source": [
    "#features_test= data_full['date'].values\n",
    "# data_test['rougher.output.recovery'].values\n",
    "target_test_rougher =  data_test['rougher.output.recovery'].values\n",
    "target_test_final = data_test['final.output.recovery'].values\n",
    "test_rougher = grid_rougher.predict(features_test) \n",
    "test_final = grid_final.predict(features_test)\n",
    "rouger_smape_test = sMAPE(target_test_rougher, test_rougher)\n",
    "final_smape_test = sMAPE(target_test_final, test_final)\n",
    "final_smape = final_sMAPE(rouger_smape_test, final_smape_test)\n",
    "print('Симметричная средняя абсолютная процентная ошибка на тестовой выборке =', round(final_smape,3))"
   ]
  },
  {
   "cell_type": "markdown",
   "metadata": {},
   "source": [
    "Проверка модели на адекватность"
   ]
  },
  {
   "cell_type": "code",
   "execution_count": 145,
   "metadata": {
    "scrolled": true
   },
   "outputs": [
    {
     "name": "stdout",
     "output_type": "stream",
     "text": [
      "Для стратегии mean итоговая sMAPE = 8.425\n",
      "Для стратегии median итоговая sMAPE = 8.285\n"
     ]
    }
   ],
   "source": [
    "for strategy in ['mean', 'median']:\n",
    "    dummy_rougher = DummyRegressor(strategy=strategy)\n",
    "    dummy_final = DummyRegressor(strategy=strategy)    \n",
    "    dummy_rougher.fit(features_train, target_train_rougher)\n",
    "    dummy_final.fit(features_train, target_train_final)\n",
    "    rougher = dummy_rougher.predict(data_test)\n",
    "    final = dummy_final.predict(data_test)    \n",
    "    final_smape = final_sMAPE(sMAPE(target_test_rougher, rougher), sMAPE(target_test_final, final))\n",
    "    print('Для стратегии', strategy, 'итоговая sMAPE =', round(final_smape,3))"
   ]
  },
  {
   "cell_type": "markdown",
   "metadata": {},
   "source": [
    "**ВЫВОД**\n",
    "\n",
    "В ходе предобработки данных проекта были изучены загруженные файлы и построены графики распределения значений по числовым полям.\n",
    "Большинство признаков имеют нормальное распределение, но также есть и скошенные распределения, а некоторые признаки содержат значительное количество нулевых значений, которые были удалены как выбросы.\n",
    "Был выполнен расчет эффективности обогащения и вычислено значение MAE между данными и расчетными значениями эффективности. Полученные значения МАЕ близки к 0, что свидетельствует о правильном расчете эффективности обогащения.\n",
    "Проанализированы поля, которые недоступны в тестовой выборке и не содержат целевых признаков для моделей 'rougher.output.recovery' и 'final.output.recovery'.\n",
    "\n",
    "\n",
    "Анализ концентрации металлов показал, что концентрация золота значительно увеличивается на каждом этапе обработки сырья, включая отвалы, но в отвалах концентрация золота ниже чем в сырье. На графиках концентрации сырья видны значения равные нулю, которые являются выбросами.\n",
    "Были построены графики распределения плотности вероятности значений размеров гранул на входе в этапы флотации и финальной очистки для выборок train и test. \n",
    "Распределения данных размеров сырья в выборках train и test оказались похожими, что говорит об однородности данных.\n",
    "Была исследована суммарная концентрация всех веществ на разных стадиях обработки: в сырье, в черновом и финальном концентратах. \n",
    "Были подготовлены датафреймы для прогнозирования признаков и целевых значений, а также описана функция для вычисления итогового sMAPE.\n",
    "\n",
    "На данных train были обучены модели линейной регрессии, дерева решений и случайного леса, и проведена оценка каждой модели. \n",
    "В итоге для прогнозирования была выбрана модель случайного леса.\n",
    "Лучшие параметры позволяют достичь показателя smape равного 8.26 на данных train.\n",
    "Используя выбранную модель случайного леса, был выполнен итоговый расчет на тестовых данных, который позволил получить прогноз целевых признаков концентрации золота для этапа флотации и финальной очистки с показателем smape равным  7.359\n",
    "Была проведена проверка модели на адекватность, и итоговая оценка smape константной модели на тестовых данных для стратегии mean 8.425 и для median: 8.285, соответсвенно."
   ]
  },
  {
   "cell_type": "markdown",
   "metadata": {},
   "source": [
    "## Чек-лист готовности проекта"
   ]
  },
  {
   "cell_type": "markdown",
   "metadata": {},
   "source": [
    "\n",
    "- [x]  Весь код выполняется без ошибок\n",
    "- [x]  Ячейки с кодом расположены в порядке выполнения\n",
    "- [x]  Выполнен шаг 1: данные подготовлены\n",
    "    - [x]  Проверена формула вычисления эффективности обогащения\n",
    "    - [x]  Проанализированы признаки, недоступные в тестовой выборке\n",
    "    - [x]  Проведена предобработка данных\n",
    "- [x]  Выполнен шаг 2: данные проанализированы\n",
    "    - [x]  Исследовано изменение концентрации элементов на каждом этапе\n",
    "    - [x]  Проанализированы распределения размеров гранул на обучающей и тестовой выборках\n",
    "    - [x]  Исследованы суммарные концентрации\n",
    "- [x]  Выполнен шаг 3: построена модель прогнозирования\n",
    "    - [x]  Написана функция для вычисления итогового *sMAPE*\n",
    "    - [x]  Обучено и проверено несколько моделей\n",
    "    - [x]  Выбрана лучшая модель, её качество проверено на тестовой выборке"
   ]
  },
  {
   "cell_type": "code",
   "execution_count": null,
   "metadata": {},
   "outputs": [],
   "source": []
  }
 ],
 "metadata": {
  "ExecuteTimeLog": [
   {
    "duration": 1869,
    "start_time": "2023-07-05T19:36:50.817Z"
   },
   {
    "duration": 175,
    "start_time": "2023-07-05T19:37:53.699Z"
   },
   {
    "duration": 1632,
    "start_time": "2023-07-05T19:38:49.665Z"
   },
   {
    "duration": 1750,
    "start_time": "2023-07-05T19:40:00.399Z"
   },
   {
    "duration": 276,
    "start_time": "2023-07-05T19:40:02.151Z"
   },
   {
    "duration": 4,
    "start_time": "2023-07-05T19:40:06.723Z"
   },
   {
    "duration": 81,
    "start_time": "2023-07-05T19:40:10.430Z"
   },
   {
    "duration": 73,
    "start_time": "2023-07-05T19:40:33.800Z"
   },
   {
    "duration": 52,
    "start_time": "2023-07-05T19:41:46.663Z"
   },
   {
    "duration": 48,
    "start_time": "2023-07-05T19:43:53.541Z"
   },
   {
    "duration": 5,
    "start_time": "2023-07-05T19:44:53.536Z"
   },
   {
    "duration": 66,
    "start_time": "2023-07-05T19:44:56.502Z"
   },
   {
    "duration": 48,
    "start_time": "2023-07-05T19:47:31.942Z"
   },
   {
    "duration": 2410,
    "start_time": "2023-07-05T19:49:26.519Z"
   },
   {
    "duration": 886,
    "start_time": "2023-07-05T19:49:33.348Z"
   },
   {
    "duration": 826,
    "start_time": "2023-07-05T19:49:46.718Z"
   },
   {
    "duration": 4,
    "start_time": "2023-07-05T20:03:11.920Z"
   },
   {
    "duration": 457,
    "start_time": "2023-07-05T20:03:24.060Z"
   },
   {
    "duration": 200,
    "start_time": "2023-07-05T20:03:56.767Z"
   },
   {
    "duration": 13,
    "start_time": "2023-07-05T20:05:26.820Z"
   },
   {
    "duration": 447,
    "start_time": "2023-07-05T20:05:36.046Z"
   },
   {
    "duration": 28,
    "start_time": "2023-07-05T20:12:38.190Z"
   },
   {
    "duration": 11,
    "start_time": "2023-07-05T20:15:42.322Z"
   },
   {
    "duration": 4,
    "start_time": "2023-07-05T20:15:49.592Z"
   },
   {
    "duration": 19,
    "start_time": "2023-07-05T20:15:51.237Z"
   },
   {
    "duration": 4,
    "start_time": "2023-07-05T20:16:03.255Z"
   },
   {
    "duration": 767,
    "start_time": "2023-07-05T20:16:05.228Z"
   },
   {
    "duration": 3,
    "start_time": "2023-07-05T20:16:29.285Z"
   },
   {
    "duration": 1354,
    "start_time": "2023-07-05T20:16:31.787Z"
   },
   {
    "duration": 7,
    "start_time": "2023-07-05T20:17:05.500Z"
   },
   {
    "duration": 26,
    "start_time": "2023-07-05T20:17:07.682Z"
   },
   {
    "duration": 94,
    "start_time": "2023-07-05T20:17:18.242Z"
   },
   {
    "duration": 4,
    "start_time": "2023-07-05T20:17:36.391Z"
   },
   {
    "duration": 5,
    "start_time": "2023-07-05T20:17:39.135Z"
   },
   {
    "duration": 645,
    "start_time": "2023-07-05T20:17:41.097Z"
   },
   {
    "duration": 4,
    "start_time": "2023-07-05T20:28:10.892Z"
   },
   {
    "duration": 510,
    "start_time": "2023-07-05T20:28:13.323Z"
   },
   {
    "duration": 49,
    "start_time": "2023-07-06T18:54:22.393Z"
   },
   {
    "duration": 7,
    "start_time": "2023-07-06T18:54:48.830Z"
   },
   {
    "duration": 2229,
    "start_time": "2023-07-06T18:54:55.448Z"
   },
   {
    "duration": 5736,
    "start_time": "2023-07-06T18:54:57.681Z"
   },
   {
    "duration": 5,
    "start_time": "2023-07-06T18:55:03.419Z"
   },
   {
    "duration": 599,
    "start_time": "2023-07-06T18:55:03.426Z"
   },
   {
    "duration": 271,
    "start_time": "2023-07-06T18:55:04.028Z"
   },
   {
    "duration": 644,
    "start_time": "2023-07-06T18:55:04.303Z"
   },
   {
    "duration": 20,
    "start_time": "2023-07-06T18:55:04.981Z"
   },
   {
    "duration": 14,
    "start_time": "2023-07-06T18:56:48.798Z"
   },
   {
    "duration": 12,
    "start_time": "2023-07-06T18:57:16.401Z"
   },
   {
    "duration": 6,
    "start_time": "2023-07-06T18:58:40.191Z"
   },
   {
    "duration": 10,
    "start_time": "2023-07-06T18:58:49.177Z"
   },
   {
    "duration": 9,
    "start_time": "2023-07-06T18:59:11.741Z"
   },
   {
    "duration": 6,
    "start_time": "2023-07-06T19:15:32.808Z"
   },
   {
    "duration": 6,
    "start_time": "2023-07-06T19:18:43.019Z"
   },
   {
    "duration": 5,
    "start_time": "2023-07-06T19:18:47.801Z"
   },
   {
    "duration": 6,
    "start_time": "2023-07-06T19:19:48.036Z"
   },
   {
    "duration": 1643,
    "start_time": "2023-07-06T19:19:56.034Z"
   },
   {
    "duration": 4084,
    "start_time": "2023-07-06T19:19:57.680Z"
   },
   {
    "duration": 5,
    "start_time": "2023-07-06T19:20:01.771Z"
   },
   {
    "duration": 492,
    "start_time": "2023-07-06T19:20:01.778Z"
   },
   {
    "duration": 313,
    "start_time": "2023-07-06T19:20:02.273Z"
   },
   {
    "duration": 555,
    "start_time": "2023-07-06T19:20:02.588Z"
   },
   {
    "duration": 24,
    "start_time": "2023-07-06T19:20:03.144Z"
   },
   {
    "duration": 11,
    "start_time": "2023-07-06T19:20:03.170Z"
   },
   {
    "duration": 12,
    "start_time": "2023-07-06T19:20:03.183Z"
   },
   {
    "duration": 18,
    "start_time": "2023-07-06T19:20:03.199Z"
   },
   {
    "duration": 5,
    "start_time": "2023-07-06T19:20:28.030Z"
   },
   {
    "duration": 6,
    "start_time": "2023-07-06T19:20:46.032Z"
   },
   {
    "duration": 201,
    "start_time": "2023-07-06T19:22:09.512Z"
   },
   {
    "duration": 10,
    "start_time": "2023-07-06T19:22:13.930Z"
   },
   {
    "duration": 11,
    "start_time": "2023-07-06T19:22:20.212Z"
   },
   {
    "duration": 14,
    "start_time": "2023-07-06T19:23:02.332Z"
   },
   {
    "duration": 6,
    "start_time": "2023-07-06T19:23:15.617Z"
   },
   {
    "duration": 11,
    "start_time": "2023-07-06T19:26:56.446Z"
   },
   {
    "duration": 8,
    "start_time": "2023-07-06T19:27:02.842Z"
   },
   {
    "duration": 11,
    "start_time": "2023-07-06T19:27:10.804Z"
   },
   {
    "duration": 3,
    "start_time": "2023-07-06T19:28:41.876Z"
   },
   {
    "duration": 1040,
    "start_time": "2023-07-06T19:29:09.070Z"
   },
   {
    "duration": 1096,
    "start_time": "2023-07-06T19:29:27.906Z"
   },
   {
    "duration": 2360,
    "start_time": "2023-07-06T19:32:00.402Z"
   },
   {
    "duration": 3872,
    "start_time": "2023-07-06T19:32:02.764Z"
   },
   {
    "duration": 6,
    "start_time": "2023-07-06T19:32:06.639Z"
   },
   {
    "duration": 520,
    "start_time": "2023-07-06T19:32:06.647Z"
   },
   {
    "duration": 284,
    "start_time": "2023-07-06T19:32:07.171Z"
   },
   {
    "duration": 616,
    "start_time": "2023-07-06T19:32:07.460Z"
   },
   {
    "duration": 14,
    "start_time": "2023-07-06T19:32:08.079Z"
   },
   {
    "duration": 11,
    "start_time": "2023-07-06T19:32:08.095Z"
   },
   {
    "duration": 18,
    "start_time": "2023-07-06T19:32:08.108Z"
   },
   {
    "duration": 31,
    "start_time": "2023-07-06T19:32:08.128Z"
   },
   {
    "duration": 19,
    "start_time": "2023-07-06T19:32:08.162Z"
   },
   {
    "duration": 1879,
    "start_time": "2023-07-06T19:32:08.183Z"
   },
   {
    "duration": 4,
    "start_time": "2023-07-06T19:32:16.821Z"
   },
   {
    "duration": 4,
    "start_time": "2023-07-06T19:32:19.897Z"
   },
   {
    "duration": 1315,
    "start_time": "2023-07-06T19:32:24.407Z"
   },
   {
    "duration": 1043,
    "start_time": "2023-07-06T19:35:56.939Z"
   },
   {
    "duration": 11,
    "start_time": "2023-07-06T19:41:09.415Z"
   },
   {
    "duration": 5,
    "start_time": "2023-07-06T19:41:29.896Z"
   },
   {
    "duration": 3,
    "start_time": "2023-07-06T19:41:37.661Z"
   },
   {
    "duration": 1020,
    "start_time": "2023-07-06T19:41:39.661Z"
   },
   {
    "duration": 1526,
    "start_time": "2023-07-06T19:42:17.380Z"
   },
   {
    "duration": 896,
    "start_time": "2023-07-06T19:42:18.908Z"
   },
   {
    "duration": 5,
    "start_time": "2023-07-06T19:42:19.806Z"
   },
   {
    "duration": 497,
    "start_time": "2023-07-06T19:42:19.813Z"
   },
   {
    "duration": 221,
    "start_time": "2023-07-06T19:42:20.314Z"
   },
   {
    "duration": 437,
    "start_time": "2023-07-06T19:42:20.536Z"
   },
   {
    "duration": 12,
    "start_time": "2023-07-06T19:42:20.975Z"
   },
   {
    "duration": 12,
    "start_time": "2023-07-06T19:42:20.989Z"
   },
   {
    "duration": 21,
    "start_time": "2023-07-06T19:42:21.003Z"
   },
   {
    "duration": 13,
    "start_time": "2023-07-06T19:42:21.025Z"
   },
   {
    "duration": 1259,
    "start_time": "2023-07-06T19:42:21.040Z"
   },
   {
    "duration": 0,
    "start_time": "2023-07-06T19:42:22.301Z"
   },
   {
    "duration": 12,
    "start_time": "2023-07-06T19:45:05.461Z"
   },
   {
    "duration": 12,
    "start_time": "2023-07-06T19:45:51.411Z"
   },
   {
    "duration": 12,
    "start_time": "2023-07-06T19:46:10.321Z"
   },
   {
    "duration": 12,
    "start_time": "2023-07-06T19:46:13.337Z"
   },
   {
    "duration": 6,
    "start_time": "2023-07-06T19:46:14.042Z"
   },
   {
    "duration": 12,
    "start_time": "2023-07-06T19:46:18.046Z"
   },
   {
    "duration": 5,
    "start_time": "2023-07-06T19:46:56.857Z"
   },
   {
    "duration": 6,
    "start_time": "2023-07-06T19:47:04.334Z"
   },
   {
    "duration": 6,
    "start_time": "2023-07-06T19:55:29.693Z"
   },
   {
    "duration": 11,
    "start_time": "2023-07-06T19:57:39.655Z"
   },
   {
    "duration": 4,
    "start_time": "2023-07-06T19:57:44.209Z"
   },
   {
    "duration": 10,
    "start_time": "2023-07-06T19:57:46.206Z"
   },
   {
    "duration": 5,
    "start_time": "2023-07-06T19:58:24.435Z"
   },
   {
    "duration": 5,
    "start_time": "2023-07-06T19:58:29.221Z"
   },
   {
    "duration": 6,
    "start_time": "2023-07-06T19:58:31.820Z"
   },
   {
    "duration": 818,
    "start_time": "2023-07-06T19:59:25.134Z"
   },
   {
    "duration": 5,
    "start_time": "2023-07-06T19:59:27.699Z"
   },
   {
    "duration": 1533,
    "start_time": "2023-07-06T19:59:34.906Z"
   },
   {
    "duration": 854,
    "start_time": "2023-07-06T19:59:36.441Z"
   },
   {
    "duration": 7,
    "start_time": "2023-07-06T19:59:37.297Z"
   },
   {
    "duration": 228,
    "start_time": "2023-07-06T19:59:37.306Z"
   },
   {
    "duration": 459,
    "start_time": "2023-07-06T19:59:37.536Z"
   },
   {
    "duration": 421,
    "start_time": "2023-07-06T19:59:37.997Z"
   },
   {
    "duration": 11,
    "start_time": "2023-07-06T19:59:38.420Z"
   },
   {
    "duration": 32,
    "start_time": "2023-07-06T19:59:38.434Z"
   },
   {
    "duration": 8,
    "start_time": "2023-07-06T19:59:38.468Z"
   },
   {
    "duration": 5,
    "start_time": "2023-07-06T19:59:38.479Z"
   },
   {
    "duration": 1117,
    "start_time": "2023-07-06T19:59:38.486Z"
   },
   {
    "duration": 0,
    "start_time": "2023-07-06T19:59:39.606Z"
   },
   {
    "duration": 0,
    "start_time": "2023-07-06T19:59:39.607Z"
   },
   {
    "duration": 10,
    "start_time": "2023-07-06T20:00:12.068Z"
   },
   {
    "duration": 17,
    "start_time": "2023-07-06T20:00:21.473Z"
   },
   {
    "duration": 14,
    "start_time": "2023-07-06T20:00:27.304Z"
   },
   {
    "duration": 6,
    "start_time": "2023-07-06T20:00:32.801Z"
   },
   {
    "duration": 15,
    "start_time": "2023-07-06T20:02:35.305Z"
   },
   {
    "duration": 15,
    "start_time": "2023-07-06T20:03:14.483Z"
   },
   {
    "duration": 14,
    "start_time": "2023-07-06T20:03:55.897Z"
   },
   {
    "duration": 11,
    "start_time": "2023-07-06T20:10:33.700Z"
   },
   {
    "duration": 31,
    "start_time": "2023-07-06T20:10:43.932Z"
   },
   {
    "duration": 9,
    "start_time": "2023-07-06T20:11:45.364Z"
   },
   {
    "duration": 26,
    "start_time": "2023-07-06T20:11:53.299Z"
   },
   {
    "duration": 5,
    "start_time": "2023-07-06T20:11:55.509Z"
   },
   {
    "duration": 5,
    "start_time": "2023-07-06T20:13:39.233Z"
   },
   {
    "duration": 17,
    "start_time": "2023-07-06T20:13:43.431Z"
   },
   {
    "duration": 17,
    "start_time": "2023-07-06T20:29:18.123Z"
   },
   {
    "duration": 10,
    "start_time": "2023-07-06T20:30:13.165Z"
   },
   {
    "duration": 9,
    "start_time": "2023-07-06T20:30:36.970Z"
   },
   {
    "duration": 10,
    "start_time": "2023-07-06T20:30:43.824Z"
   },
   {
    "duration": 9,
    "start_time": "2023-07-06T20:31:00.698Z"
   },
   {
    "duration": 7,
    "start_time": "2023-07-06T20:31:33.608Z"
   },
   {
    "duration": 8,
    "start_time": "2023-07-06T20:31:36.435Z"
   },
   {
    "duration": 6,
    "start_time": "2023-07-06T20:31:38.909Z"
   },
   {
    "duration": 1251,
    "start_time": "2023-07-06T20:52:12.616Z"
   },
   {
    "duration": 1283,
    "start_time": "2023-07-06T20:52:29.876Z"
   },
   {
    "duration": 1227,
    "start_time": "2023-07-06T20:53:11.172Z"
   },
   {
    "duration": 1471,
    "start_time": "2023-07-06T20:53:23.081Z"
   },
   {
    "duration": 786,
    "start_time": "2023-07-06T20:53:24.554Z"
   },
   {
    "duration": 4,
    "start_time": "2023-07-06T20:53:25.342Z"
   },
   {
    "duration": 212,
    "start_time": "2023-07-06T20:53:25.348Z"
   },
   {
    "duration": 415,
    "start_time": "2023-07-06T20:53:25.562Z"
   },
   {
    "duration": 407,
    "start_time": "2023-07-06T20:53:25.979Z"
   },
   {
    "duration": 11,
    "start_time": "2023-07-06T20:53:26.388Z"
   },
   {
    "duration": 17,
    "start_time": "2023-07-06T20:53:26.400Z"
   },
   {
    "duration": 12,
    "start_time": "2023-07-06T20:53:26.419Z"
   },
   {
    "duration": 3,
    "start_time": "2023-07-06T20:53:26.433Z"
   },
   {
    "duration": 29,
    "start_time": "2023-07-06T20:53:26.438Z"
   },
   {
    "duration": 5,
    "start_time": "2023-07-06T20:53:26.469Z"
   },
   {
    "duration": 15,
    "start_time": "2023-07-06T20:53:26.475Z"
   },
   {
    "duration": 24,
    "start_time": "2023-07-06T20:53:26.493Z"
   },
   {
    "duration": 52,
    "start_time": "2023-07-06T20:53:26.518Z"
   },
   {
    "duration": 9,
    "start_time": "2023-07-06T20:53:26.572Z"
   },
   {
    "duration": 15,
    "start_time": "2023-07-06T20:53:26.582Z"
   },
   {
    "duration": 6,
    "start_time": "2023-07-06T20:53:26.598Z"
   },
   {
    "duration": 374,
    "start_time": "2023-07-06T20:53:26.605Z"
   },
   {
    "duration": 45,
    "start_time": "2023-07-08T11:18:52.495Z"
   },
   {
    "duration": 8,
    "start_time": "2023-07-08T11:19:01.649Z"
   },
   {
    "duration": 1568,
    "start_time": "2023-07-08T11:19:07.347Z"
   },
   {
    "duration": 3299,
    "start_time": "2023-07-08T11:19:08.918Z"
   },
   {
    "duration": 4,
    "start_time": "2023-07-08T11:19:12.218Z"
   },
   {
    "duration": 181,
    "start_time": "2023-07-08T11:19:12.224Z"
   },
   {
    "duration": 366,
    "start_time": "2023-07-08T11:19:12.408Z"
   },
   {
    "duration": 368,
    "start_time": "2023-07-08T11:19:12.776Z"
   },
   {
    "duration": 8,
    "start_time": "2023-07-08T11:19:13.146Z"
   },
   {
    "duration": 17,
    "start_time": "2023-07-08T11:19:13.155Z"
   },
   {
    "duration": 9,
    "start_time": "2023-07-08T11:19:13.173Z"
   },
   {
    "duration": 8,
    "start_time": "2023-07-08T11:19:13.183Z"
   },
   {
    "duration": 12,
    "start_time": "2023-07-08T11:19:13.192Z"
   },
   {
    "duration": 6,
    "start_time": "2023-07-08T11:19:13.205Z"
   },
   {
    "duration": 13,
    "start_time": "2023-07-08T11:19:13.213Z"
   },
   {
    "duration": 41,
    "start_time": "2023-07-08T11:19:13.228Z"
   },
   {
    "duration": 27,
    "start_time": "2023-07-08T11:19:13.270Z"
   },
   {
    "duration": 9,
    "start_time": "2023-07-08T11:19:13.298Z"
   },
   {
    "duration": 18,
    "start_time": "2023-07-08T11:19:13.309Z"
   },
   {
    "duration": 10,
    "start_time": "2023-07-08T11:19:13.329Z"
   },
   {
    "duration": 439,
    "start_time": "2023-07-08T11:19:13.340Z"
   },
   {
    "duration": 392,
    "start_time": "2023-07-08T11:19:25.780Z"
   },
   {
    "duration": 7,
    "start_time": "2023-07-08T11:22:48.084Z"
   },
   {
    "duration": 7,
    "start_time": "2023-07-08T11:23:01.763Z"
   },
   {
    "duration": 8,
    "start_time": "2023-07-08T11:24:27.622Z"
   },
   {
    "duration": 330,
    "start_time": "2023-07-08T11:31:04.576Z"
   },
   {
    "duration": 8,
    "start_time": "2023-07-08T11:31:18.982Z"
   },
   {
    "duration": 8,
    "start_time": "2023-07-08T11:31:29.557Z"
   },
   {
    "duration": 335,
    "start_time": "2023-07-08T11:38:03.435Z"
   },
   {
    "duration": 8,
    "start_time": "2023-07-08T11:38:25.923Z"
   },
   {
    "duration": 7,
    "start_time": "2023-07-08T11:39:04.659Z"
   },
   {
    "duration": 334,
    "start_time": "2023-07-08T11:40:35.836Z"
   },
   {
    "duration": 7,
    "start_time": "2023-07-08T11:41:09.619Z"
   },
   {
    "duration": 7,
    "start_time": "2023-07-08T11:41:11.792Z"
   },
   {
    "duration": 323,
    "start_time": "2023-07-08T11:50:49.652Z"
   },
   {
    "duration": 115,
    "start_time": "2023-07-08T11:51:32.126Z"
   },
   {
    "duration": 10,
    "start_time": "2023-07-08T11:51:40.622Z"
   },
   {
    "duration": 397,
    "start_time": "2023-07-08T11:51:49.735Z"
   },
   {
    "duration": 304,
    "start_time": "2023-07-08T11:52:22.558Z"
   },
   {
    "duration": 29,
    "start_time": "2023-07-08T12:07:21.551Z"
   },
   {
    "duration": 597,
    "start_time": "2023-07-08T12:11:13.318Z"
   },
   {
    "duration": 798,
    "start_time": "2023-07-08T12:11:59.219Z"
   },
   {
    "duration": 713,
    "start_time": "2023-07-08T12:12:42.606Z"
   },
   {
    "duration": 868,
    "start_time": "2023-07-08T12:12:54.914Z"
   },
   {
    "duration": 604,
    "start_time": "2023-07-08T12:13:06.157Z"
   },
   {
    "duration": 1054,
    "start_time": "2023-07-08T12:30:31.367Z"
   },
   {
    "duration": 1122,
    "start_time": "2023-07-08T12:31:26.713Z"
   },
   {
    "duration": 1381,
    "start_time": "2023-07-08T12:35:52.368Z"
   },
   {
    "duration": 750,
    "start_time": "2023-07-08T12:35:53.751Z"
   },
   {
    "duration": 4,
    "start_time": "2023-07-08T12:35:54.503Z"
   },
   {
    "duration": 181,
    "start_time": "2023-07-08T12:35:54.508Z"
   },
   {
    "duration": 372,
    "start_time": "2023-07-08T12:35:54.691Z"
   },
   {
    "duration": 415,
    "start_time": "2023-07-08T12:35:55.065Z"
   },
   {
    "duration": 10,
    "start_time": "2023-07-08T12:35:55.482Z"
   },
   {
    "duration": 9,
    "start_time": "2023-07-08T12:35:55.493Z"
   },
   {
    "duration": 7,
    "start_time": "2023-07-08T12:35:55.503Z"
   },
   {
    "duration": 14,
    "start_time": "2023-07-08T12:35:55.511Z"
   },
   {
    "duration": 11,
    "start_time": "2023-07-08T12:35:55.526Z"
   },
   {
    "duration": 5,
    "start_time": "2023-07-08T12:35:55.538Z"
   },
   {
    "duration": 37,
    "start_time": "2023-07-08T12:35:55.544Z"
   },
   {
    "duration": 28,
    "start_time": "2023-07-08T12:35:55.584Z"
   },
   {
    "duration": 22,
    "start_time": "2023-07-08T12:35:55.614Z"
   },
   {
    "duration": 32,
    "start_time": "2023-07-08T12:35:55.637Z"
   },
   {
    "duration": 8,
    "start_time": "2023-07-08T12:35:55.671Z"
   },
   {
    "duration": 9,
    "start_time": "2023-07-08T12:35:55.680Z"
   },
   {
    "duration": 423,
    "start_time": "2023-07-08T12:35:55.690Z"
   },
   {
    "duration": 8,
    "start_time": "2023-07-08T12:35:56.114Z"
   },
   {
    "duration": 10,
    "start_time": "2023-07-08T12:35:56.123Z"
   },
   {
    "duration": 451,
    "start_time": "2023-07-08T12:35:56.135Z"
   },
   {
    "duration": 7,
    "start_time": "2023-07-08T12:35:56.588Z"
   },
   {
    "duration": 6,
    "start_time": "2023-07-08T12:35:56.597Z"
   },
   {
    "duration": 394,
    "start_time": "2023-07-08T12:35:56.605Z"
   },
   {
    "duration": 7,
    "start_time": "2023-07-08T12:35:57.001Z"
   },
   {
    "duration": 11,
    "start_time": "2023-07-08T12:35:57.009Z"
   },
   {
    "duration": 349,
    "start_time": "2023-07-08T12:35:57.021Z"
   },
   {
    "duration": 344,
    "start_time": "2023-07-08T12:35:57.372Z"
   },
   {
    "duration": 358,
    "start_time": "2023-07-08T12:35:57.718Z"
   },
   {
    "duration": 33,
    "start_time": "2023-07-08T12:35:58.078Z"
   },
   {
    "duration": 814,
    "start_time": "2023-07-08T12:35:58.113Z"
   },
   {
    "duration": 1077,
    "start_time": "2023-07-08T12:35:58.929Z"
   },
   {
    "duration": 101,
    "start_time": "2023-07-08T12:41:33.931Z"
   },
   {
    "duration": 85,
    "start_time": "2023-07-08T12:41:39.469Z"
   },
   {
    "duration": 11,
    "start_time": "2023-07-08T12:43:47.410Z"
   },
   {
    "duration": 84,
    "start_time": "2023-07-08T13:17:03.415Z"
   },
   {
    "duration": 83,
    "start_time": "2023-07-08T13:17:37.998Z"
   },
   {
    "duration": 10,
    "start_time": "2023-07-08T13:17:40.133Z"
   },
   {
    "duration": 57,
    "start_time": "2023-07-08T13:20:52.630Z"
   },
   {
    "duration": 4,
    "start_time": "2023-07-08T13:40:31.961Z"
   },
   {
    "duration": 3,
    "start_time": "2023-07-08T13:40:47.061Z"
   },
   {
    "duration": 3,
    "start_time": "2023-07-08T13:41:15.307Z"
   },
   {
    "duration": 4,
    "start_time": "2023-07-08T13:41:29.422Z"
   },
   {
    "duration": 3,
    "start_time": "2023-07-08T13:41:43.606Z"
   },
   {
    "duration": 3,
    "start_time": "2023-07-08T13:41:55.575Z"
   },
   {
    "duration": 10,
    "start_time": "2023-07-08T13:42:32.551Z"
   },
   {
    "duration": 10,
    "start_time": "2023-07-08T13:42:43.133Z"
   },
   {
    "duration": 7,
    "start_time": "2023-07-08T13:45:25.092Z"
   },
   {
    "duration": 947,
    "start_time": "2023-07-08T13:45:30.210Z"
   },
   {
    "duration": 9,
    "start_time": "2023-07-08T13:49:21.792Z"
   },
   {
    "duration": 9,
    "start_time": "2023-07-08T13:51:12.904Z"
   },
   {
    "duration": 4,
    "start_time": "2023-07-08T13:53:32.099Z"
   },
   {
    "duration": 4,
    "start_time": "2023-07-08T13:53:34.508Z"
   },
   {
    "duration": 4,
    "start_time": "2023-07-08T13:54:39.356Z"
   },
   {
    "duration": 5,
    "start_time": "2023-07-08T13:54:41.928Z"
   },
   {
    "duration": 4,
    "start_time": "2023-07-08T13:54:50.351Z"
   },
   {
    "duration": 9,
    "start_time": "2023-07-08T13:55:50.499Z"
   },
   {
    "duration": 5,
    "start_time": "2023-07-08T13:55:54.302Z"
   },
   {
    "duration": 3,
    "start_time": "2023-07-08T13:55:56.277Z"
   },
   {
    "duration": 4,
    "start_time": "2023-07-08T13:56:20.005Z"
   },
   {
    "duration": 3,
    "start_time": "2023-07-08T13:57:37.856Z"
   },
   {
    "duration": 4,
    "start_time": "2023-07-08T13:57:59.500Z"
   },
   {
    "duration": 5,
    "start_time": "2023-07-08T13:58:19.008Z"
   },
   {
    "duration": 4,
    "start_time": "2023-07-08T13:58:26.767Z"
   },
   {
    "duration": 3,
    "start_time": "2023-07-08T13:58:41.937Z"
   },
   {
    "duration": 3,
    "start_time": "2023-07-08T13:59:00.047Z"
   },
   {
    "duration": 3,
    "start_time": "2023-07-08T13:59:09.845Z"
   },
   {
    "duration": 4,
    "start_time": "2023-07-08T13:59:17.609Z"
   },
   {
    "duration": 137,
    "start_time": "2023-07-08T14:00:11.436Z"
   },
   {
    "duration": 154,
    "start_time": "2023-07-08T14:00:37.170Z"
   },
   {
    "duration": 3,
    "start_time": "2023-07-08T14:06:28.024Z"
   },
   {
    "duration": 141,
    "start_time": "2023-07-08T14:06:30.613Z"
   },
   {
    "duration": 44,
    "start_time": "2023-07-08T14:08:57.006Z"
   },
   {
    "duration": 62,
    "start_time": "2023-07-08T14:09:28.319Z"
   },
   {
    "duration": 13,
    "start_time": "2023-07-08T14:09:41.982Z"
   },
   {
    "duration": 13,
    "start_time": "2023-07-08T14:09:50.662Z"
   },
   {
    "duration": 2,
    "start_time": "2023-07-08T14:10:43.127Z"
   },
   {
    "duration": 4,
    "start_time": "2023-07-08T14:10:57.801Z"
   },
   {
    "duration": 3,
    "start_time": "2023-07-08T14:11:42.149Z"
   },
   {
    "duration": 3,
    "start_time": "2023-07-08T14:11:51.840Z"
   },
   {
    "duration": 3,
    "start_time": "2023-07-08T14:11:57.088Z"
   },
   {
    "duration": 4,
    "start_time": "2023-07-08T14:12:24.301Z"
   },
   {
    "duration": 392,
    "start_time": "2023-07-08T14:12:32.131Z"
   },
   {
    "duration": 429,
    "start_time": "2023-07-08T14:13:35.431Z"
   },
   {
    "duration": 3,
    "start_time": "2023-07-08T14:16:54.510Z"
   },
   {
    "duration": 4,
    "start_time": "2023-07-08T14:16:56.677Z"
   },
   {
    "duration": 3,
    "start_time": "2023-07-08T14:17:04.844Z"
   },
   {
    "duration": 42,
    "start_time": "2023-07-08T14:17:08.235Z"
   },
   {
    "duration": 3,
    "start_time": "2023-07-08T14:17:35.805Z"
   },
   {
    "duration": 3,
    "start_time": "2023-07-08T14:17:38.447Z"
   },
   {
    "duration": 4,
    "start_time": "2023-07-08T14:17:46.769Z"
   },
   {
    "duration": 4,
    "start_time": "2023-07-08T14:17:49.720Z"
   },
   {
    "duration": 425,
    "start_time": "2023-07-08T14:17:53.403Z"
   },
   {
    "duration": 1737,
    "start_time": "2023-07-08T14:18:56.068Z"
   },
   {
    "duration": 935,
    "start_time": "2023-07-08T14:18:57.807Z"
   },
   {
    "duration": 4,
    "start_time": "2023-07-08T14:18:58.747Z"
   },
   {
    "duration": 235,
    "start_time": "2023-07-08T14:18:58.754Z"
   },
   {
    "duration": 536,
    "start_time": "2023-07-08T14:18:58.992Z"
   },
   {
    "duration": 460,
    "start_time": "2023-07-08T14:18:59.530Z"
   },
   {
    "duration": 16,
    "start_time": "2023-07-08T14:18:59.993Z"
   },
   {
    "duration": 51,
    "start_time": "2023-07-08T14:19:00.012Z"
   },
   {
    "duration": 34,
    "start_time": "2023-07-08T14:19:00.066Z"
   },
   {
    "duration": 11,
    "start_time": "2023-07-08T14:19:00.104Z"
   },
   {
    "duration": 48,
    "start_time": "2023-07-08T14:19:00.118Z"
   },
   {
    "duration": 33,
    "start_time": "2023-07-08T14:19:00.168Z"
   },
   {
    "duration": 45,
    "start_time": "2023-07-08T14:19:00.204Z"
   },
   {
    "duration": 29,
    "start_time": "2023-07-08T14:19:00.251Z"
   },
   {
    "duration": 35,
    "start_time": "2023-07-08T14:19:00.283Z"
   },
   {
    "duration": 16,
    "start_time": "2023-07-08T14:19:00.321Z"
   },
   {
    "duration": 32,
    "start_time": "2023-07-08T14:19:00.339Z"
   },
   {
    "duration": 16,
    "start_time": "2023-07-08T14:19:00.373Z"
   },
   {
    "duration": 491,
    "start_time": "2023-07-08T14:19:00.392Z"
   },
   {
    "duration": 8,
    "start_time": "2023-07-08T14:19:00.885Z"
   },
   {
    "duration": 42,
    "start_time": "2023-07-08T14:19:00.895Z"
   },
   {
    "duration": 496,
    "start_time": "2023-07-08T14:19:00.939Z"
   },
   {
    "duration": 8,
    "start_time": "2023-07-08T14:19:01.437Z"
   },
   {
    "duration": 39,
    "start_time": "2023-07-08T14:19:01.447Z"
   },
   {
    "duration": 445,
    "start_time": "2023-07-08T14:19:01.488Z"
   },
   {
    "duration": 9,
    "start_time": "2023-07-08T14:19:01.935Z"
   },
   {
    "duration": 32,
    "start_time": "2023-07-08T14:19:01.946Z"
   },
   {
    "duration": 363,
    "start_time": "2023-07-08T14:19:01.980Z"
   },
   {
    "duration": 348,
    "start_time": "2023-07-08T14:19:02.345Z"
   },
   {
    "duration": 335,
    "start_time": "2023-07-08T14:19:02.695Z"
   },
   {
    "duration": 55,
    "start_time": "2023-07-08T14:19:03.033Z"
   },
   {
    "duration": 823,
    "start_time": "2023-07-08T14:19:03.090Z"
   },
   {
    "duration": 153,
    "start_time": "2023-07-08T14:19:03.915Z"
   },
   {
    "duration": 15,
    "start_time": "2023-07-08T14:19:04.071Z"
   },
   {
    "duration": 103,
    "start_time": "2023-07-08T14:19:04.088Z"
   },
   {
    "duration": 4,
    "start_time": "2023-07-08T14:19:04.193Z"
   },
   {
    "duration": 6,
    "start_time": "2023-07-08T14:19:04.199Z"
   },
   {
    "duration": 9,
    "start_time": "2023-07-08T14:19:04.209Z"
   },
   {
    "duration": 85,
    "start_time": "2023-07-08T14:19:04.221Z"
   },
   {
    "duration": 3,
    "start_time": "2023-07-08T14:19:04.312Z"
   },
   {
    "duration": 6,
    "start_time": "2023-07-08T14:19:04.317Z"
   },
   {
    "duration": 7,
    "start_time": "2023-07-08T14:19:04.326Z"
   },
   {
    "duration": 8,
    "start_time": "2023-07-08T14:19:04.334Z"
   },
   {
    "duration": 513,
    "start_time": "2023-07-08T14:19:04.344Z"
   },
   {
    "duration": 0,
    "start_time": "2023-07-08T14:19:04.859Z"
   },
   {
    "duration": 0,
    "start_time": "2023-07-08T14:19:04.861Z"
   },
   {
    "duration": 1,
    "start_time": "2023-07-08T14:19:04.871Z"
   },
   {
    "duration": 0,
    "start_time": "2023-07-08T14:19:04.873Z"
   },
   {
    "duration": 0,
    "start_time": "2023-07-08T14:19:04.874Z"
   },
   {
    "duration": 0,
    "start_time": "2023-07-08T14:19:04.876Z"
   },
   {
    "duration": 0,
    "start_time": "2023-07-08T14:19:04.877Z"
   },
   {
    "duration": 0,
    "start_time": "2023-07-08T14:19:04.879Z"
   },
   {
    "duration": 0,
    "start_time": "2023-07-08T14:19:04.880Z"
   },
   {
    "duration": 0,
    "start_time": "2023-07-08T14:19:04.882Z"
   },
   {
    "duration": 0,
    "start_time": "2023-07-08T14:19:04.884Z"
   },
   {
    "duration": 0,
    "start_time": "2023-07-08T14:19:04.885Z"
   },
   {
    "duration": 13,
    "start_time": "2023-07-08T14:19:16.192Z"
   },
   {
    "duration": 3,
    "start_time": "2023-07-08T14:27:51.136Z"
   },
   {
    "duration": 3,
    "start_time": "2023-07-08T14:28:05.639Z"
   },
   {
    "duration": 17,
    "start_time": "2023-07-08T14:28:17.460Z"
   },
   {
    "duration": 3,
    "start_time": "2023-07-08T14:31:57.058Z"
   },
   {
    "duration": 2,
    "start_time": "2023-07-08T14:31:58.797Z"
   },
   {
    "duration": 57,
    "start_time": "2023-07-08T14:32:01.711Z"
   },
   {
    "duration": 3,
    "start_time": "2023-07-08T14:32:12.416Z"
   },
   {
    "duration": 55,
    "start_time": "2023-07-08T14:32:16.726Z"
   },
   {
    "duration": 3,
    "start_time": "2023-07-08T14:32:20.019Z"
   },
   {
    "duration": 3,
    "start_time": "2023-07-08T14:32:22.698Z"
   },
   {
    "duration": 3,
    "start_time": "2023-07-08T14:32:26.537Z"
   },
   {
    "duration": 4,
    "start_time": "2023-07-08T14:32:28.805Z"
   },
   {
    "duration": 58,
    "start_time": "2023-07-08T14:35:13.388Z"
   },
   {
    "duration": 2,
    "start_time": "2023-07-08T14:35:16.338Z"
   },
   {
    "duration": 4,
    "start_time": "2023-07-08T14:35:17.393Z"
   },
   {
    "duration": 3,
    "start_time": "2023-07-08T14:35:18.341Z"
   },
   {
    "duration": 3,
    "start_time": "2023-07-08T14:35:23.164Z"
   },
   {
    "duration": 386,
    "start_time": "2023-07-08T14:37:42.443Z"
   },
   {
    "duration": 4,
    "start_time": "2023-07-08T14:37:56.413Z"
   },
   {
    "duration": 199,
    "start_time": "2023-07-08T14:38:18.115Z"
   },
   {
    "duration": 103,
    "start_time": "2023-07-08T14:38:32.807Z"
   },
   {
    "duration": 607,
    "start_time": "2023-07-08T14:40:40.230Z"
   },
   {
    "duration": 212,
    "start_time": "2023-07-08T14:42:11.734Z"
   },
   {
    "duration": 126,
    "start_time": "2023-07-08T14:42:27.099Z"
   },
   {
    "duration": 42,
    "start_time": "2023-07-08T14:47:20.007Z"
   },
   {
    "duration": 3,
    "start_time": "2023-07-08T14:47:22.768Z"
   },
   {
    "duration": 3,
    "start_time": "2023-07-08T14:47:26.415Z"
   },
   {
    "duration": 4,
    "start_time": "2023-07-08T14:47:28.815Z"
   },
   {
    "duration": 4,
    "start_time": "2023-07-08T14:47:32.317Z"
   },
   {
    "duration": 10,
    "start_time": "2023-07-08T14:52:33.050Z"
   },
   {
    "duration": 6,
    "start_time": "2023-07-08T14:52:48.966Z"
   },
   {
    "duration": 5,
    "start_time": "2023-07-08T14:52:52.152Z"
   },
   {
    "duration": 3,
    "start_time": "2023-07-08T14:53:04.502Z"
   },
   {
    "duration": 2,
    "start_time": "2023-07-08T14:53:12.451Z"
   },
   {
    "duration": 3,
    "start_time": "2023-07-08T14:53:19.812Z"
   },
   {
    "duration": 2,
    "start_time": "2023-07-08T14:53:28.818Z"
   },
   {
    "duration": 2,
    "start_time": "2023-07-08T14:53:58.607Z"
   },
   {
    "duration": 3,
    "start_time": "2023-07-08T14:54:00.338Z"
   },
   {
    "duration": 3,
    "start_time": "2023-07-08T14:54:01.971Z"
   },
   {
    "duration": 2,
    "start_time": "2023-07-08T14:54:03.863Z"
   },
   {
    "duration": 3,
    "start_time": "2023-07-08T14:54:17.250Z"
   },
   {
    "duration": 4,
    "start_time": "2023-07-08T14:54:30.118Z"
   },
   {
    "duration": 678,
    "start_time": "2023-07-08T14:54:40.938Z"
   },
   {
    "duration": 654,
    "start_time": "2023-07-08T14:55:24.459Z"
   },
   {
    "duration": 303,
    "start_time": "2023-07-08T14:55:27.220Z"
   },
   {
    "duration": 3,
    "start_time": "2023-07-08T14:57:55.410Z"
   },
   {
    "duration": 8,
    "start_time": "2023-07-08T14:59:46.202Z"
   },
   {
    "duration": 6,
    "start_time": "2023-07-08T15:00:07.728Z"
   },
   {
    "duration": 1054,
    "start_time": "2023-07-08T15:00:36.644Z"
   },
   {
    "duration": 3,
    "start_time": "2023-07-08T15:01:51.956Z"
   },
   {
    "duration": 3,
    "start_time": "2023-07-08T15:01:53.016Z"
   },
   {
    "duration": 3,
    "start_time": "2023-07-08T15:01:53.408Z"
   },
   {
    "duration": 7,
    "start_time": "2023-07-08T15:01:54.017Z"
   },
   {
    "duration": 3,
    "start_time": "2023-07-08T15:02:09.004Z"
   },
   {
    "duration": 6,
    "start_time": "2023-07-08T15:02:15.895Z"
   },
   {
    "duration": 3,
    "start_time": "2023-07-08T15:02:17.671Z"
   },
   {
    "duration": 4,
    "start_time": "2023-07-08T15:02:39.671Z"
   },
   {
    "duration": 5,
    "start_time": "2023-07-08T15:02:56.874Z"
   },
   {
    "duration": 5,
    "start_time": "2023-07-08T15:03:09.462Z"
   },
   {
    "duration": 3,
    "start_time": "2023-07-08T15:03:19.546Z"
   },
   {
    "duration": 3,
    "start_time": "2023-07-08T15:03:27.246Z"
   },
   {
    "duration": 3,
    "start_time": "2023-07-08T15:03:34.614Z"
   },
   {
    "duration": 4,
    "start_time": "2023-07-08T15:03:44.226Z"
   },
   {
    "duration": 167,
    "start_time": "2023-07-08T15:03:52.740Z"
   },
   {
    "duration": 85,
    "start_time": "2023-07-08T15:05:08.210Z"
   },
   {
    "duration": 3,
    "start_time": "2023-07-08T15:06:12.318Z"
   },
   {
    "duration": 6,
    "start_time": "2023-07-08T15:06:13.302Z"
   },
   {
    "duration": 6,
    "start_time": "2023-07-08T15:06:14.048Z"
   },
   {
    "duration": 6,
    "start_time": "2023-07-08T15:06:17.210Z"
   },
   {
    "duration": 3,
    "start_time": "2023-07-08T15:06:20.306Z"
   },
   {
    "duration": 3,
    "start_time": "2023-07-08T15:06:22.629Z"
   },
   {
    "duration": 4,
    "start_time": "2023-07-08T15:06:25.314Z"
   },
   {
    "duration": 134,
    "start_time": "2023-07-08T15:06:27.742Z"
   },
   {
    "duration": 1475,
    "start_time": "2023-07-08T15:06:37.710Z"
   },
   {
    "duration": 754,
    "start_time": "2023-07-08T15:06:39.186Z"
   },
   {
    "duration": 4,
    "start_time": "2023-07-08T15:06:39.942Z"
   },
   {
    "duration": 186,
    "start_time": "2023-07-08T15:06:39.947Z"
   },
   {
    "duration": 389,
    "start_time": "2023-07-08T15:06:40.136Z"
   },
   {
    "duration": 387,
    "start_time": "2023-07-08T15:06:40.527Z"
   },
   {
    "duration": 10,
    "start_time": "2023-07-08T15:06:40.916Z"
   },
   {
    "duration": 11,
    "start_time": "2023-07-08T15:06:40.927Z"
   },
   {
    "duration": 29,
    "start_time": "2023-07-08T15:06:40.940Z"
   },
   {
    "duration": 3,
    "start_time": "2023-07-08T15:06:40.971Z"
   },
   {
    "duration": 13,
    "start_time": "2023-07-08T15:06:40.976Z"
   },
   {
    "duration": 4,
    "start_time": "2023-07-08T15:06:40.991Z"
   },
   {
    "duration": 22,
    "start_time": "2023-07-08T15:06:40.997Z"
   },
   {
    "duration": 52,
    "start_time": "2023-07-08T15:06:41.024Z"
   },
   {
    "duration": 25,
    "start_time": "2023-07-08T15:06:41.078Z"
   },
   {
    "duration": 9,
    "start_time": "2023-07-08T15:06:41.105Z"
   },
   {
    "duration": 8,
    "start_time": "2023-07-08T15:06:41.116Z"
   },
   {
    "duration": 6,
    "start_time": "2023-07-08T15:06:41.126Z"
   },
   {
    "duration": 426,
    "start_time": "2023-07-08T15:06:41.134Z"
   },
   {
    "duration": 9,
    "start_time": "2023-07-08T15:06:41.567Z"
   },
   {
    "duration": 12,
    "start_time": "2023-07-08T15:06:41.577Z"
   },
   {
    "duration": 453,
    "start_time": "2023-07-08T15:06:41.591Z"
   },
   {
    "duration": 7,
    "start_time": "2023-07-08T15:06:42.046Z"
   },
   {
    "duration": 19,
    "start_time": "2023-07-08T15:06:42.055Z"
   },
   {
    "duration": 373,
    "start_time": "2023-07-08T15:06:42.076Z"
   },
   {
    "duration": 8,
    "start_time": "2023-07-08T15:06:42.450Z"
   },
   {
    "duration": 19,
    "start_time": "2023-07-08T15:06:42.469Z"
   },
   {
    "duration": 314,
    "start_time": "2023-07-08T15:06:42.490Z"
   },
   {
    "duration": 319,
    "start_time": "2023-07-08T15:06:42.806Z"
   },
   {
    "duration": 322,
    "start_time": "2023-07-08T15:06:43.127Z"
   },
   {
    "duration": 34,
    "start_time": "2023-07-08T15:06:43.451Z"
   },
   {
    "duration": 874,
    "start_time": "2023-07-08T15:06:43.487Z"
   },
   {
    "duration": 84,
    "start_time": "2023-07-08T15:06:44.363Z"
   },
   {
    "duration": 25,
    "start_time": "2023-07-08T15:06:44.450Z"
   },
   {
    "duration": 63,
    "start_time": "2023-07-08T15:06:44.477Z"
   },
   {
    "duration": 3,
    "start_time": "2023-07-08T15:06:44.542Z"
   },
   {
    "duration": 10,
    "start_time": "2023-07-08T15:06:44.547Z"
   },
   {
    "duration": 9,
    "start_time": "2023-07-08T15:06:44.569Z"
   },
   {
    "duration": 14,
    "start_time": "2023-07-08T15:06:44.580Z"
   },
   {
    "duration": 4,
    "start_time": "2023-07-08T15:06:44.596Z"
   },
   {
    "duration": 5,
    "start_time": "2023-07-08T15:06:44.604Z"
   },
   {
    "duration": 11,
    "start_time": "2023-07-08T15:06:44.611Z"
   },
   {
    "duration": 10,
    "start_time": "2023-07-08T15:06:44.623Z"
   },
   {
    "duration": 8,
    "start_time": "2023-07-08T15:06:44.634Z"
   },
   {
    "duration": 3,
    "start_time": "2023-07-08T15:06:44.646Z"
   },
   {
    "duration": 11,
    "start_time": "2023-07-08T15:06:44.668Z"
   },
   {
    "duration": 28,
    "start_time": "2023-07-08T15:06:44.681Z"
   },
   {
    "duration": 260,
    "start_time": "2023-07-08T15:06:44.711Z"
   },
   {
    "duration": 0,
    "start_time": "2023-07-08T15:06:44.973Z"
   },
   {
    "duration": 107,
    "start_time": "2023-07-08T15:07:01.448Z"
   },
   {
    "duration": 3,
    "start_time": "2023-07-08T15:14:12.261Z"
   },
   {
    "duration": 5,
    "start_time": "2023-07-08T15:14:20.934Z"
   },
   {
    "duration": 4,
    "start_time": "2023-07-08T15:14:32.335Z"
   },
   {
    "duration": 3,
    "start_time": "2023-07-08T15:14:40.332Z"
   },
   {
    "duration": 3,
    "start_time": "2023-07-08T15:14:48.748Z"
   },
   {
    "duration": 12,
    "start_time": "2023-07-08T15:14:57.224Z"
   },
   {
    "duration": 9,
    "start_time": "2023-07-08T15:17:15.613Z"
   },
   {
    "duration": 11,
    "start_time": "2023-07-08T15:17:33.806Z"
   },
   {
    "duration": 22,
    "start_time": "2023-07-08T15:23:02.413Z"
   },
   {
    "duration": 6,
    "start_time": "2023-07-08T15:23:10.495Z"
   },
   {
    "duration": 290,
    "start_time": "2023-07-08T15:23:48.011Z"
   },
   {
    "duration": 11,
    "start_time": "2023-07-08T15:24:23.415Z"
   },
   {
    "duration": 74,
    "start_time": "2023-07-08T15:24:26.769Z"
   },
   {
    "duration": 15,
    "start_time": "2023-07-08T15:24:31.903Z"
   },
   {
    "duration": 3,
    "start_time": "2023-07-08T15:25:39.137Z"
   },
   {
    "duration": 3,
    "start_time": "2023-07-08T15:25:53.615Z"
   },
   {
    "duration": 4,
    "start_time": "2023-07-08T15:25:59.014Z"
   },
   {
    "duration": 7,
    "start_time": "2023-07-08T15:28:11.207Z"
   },
   {
    "duration": 5,
    "start_time": "2023-07-08T15:28:33.775Z"
   },
   {
    "duration": 999,
    "start_time": "2023-07-08T15:29:07.972Z"
   },
   {
    "duration": 976,
    "start_time": "2023-07-08T15:29:22.108Z"
   },
   {
    "duration": 1482,
    "start_time": "2023-07-08T15:30:01.730Z"
   },
   {
    "duration": 1390,
    "start_time": "2023-07-08T15:30:11.615Z"
   },
   {
    "duration": 759,
    "start_time": "2023-07-08T15:30:13.007Z"
   },
   {
    "duration": 4,
    "start_time": "2023-07-08T15:30:13.768Z"
   },
   {
    "duration": 226,
    "start_time": "2023-07-08T15:30:13.773Z"
   },
   {
    "duration": 446,
    "start_time": "2023-07-08T15:30:14.002Z"
   },
   {
    "duration": 366,
    "start_time": "2023-07-08T15:30:14.450Z"
   },
   {
    "duration": 9,
    "start_time": "2023-07-08T15:30:14.817Z"
   },
   {
    "duration": 9,
    "start_time": "2023-07-08T15:30:14.828Z"
   },
   {
    "duration": 6,
    "start_time": "2023-07-08T15:30:14.838Z"
   },
   {
    "duration": 6,
    "start_time": "2023-07-08T15:30:14.867Z"
   },
   {
    "duration": 17,
    "start_time": "2023-07-08T15:30:14.874Z"
   },
   {
    "duration": 4,
    "start_time": "2023-07-08T15:30:14.893Z"
   },
   {
    "duration": 21,
    "start_time": "2023-07-08T15:30:14.898Z"
   },
   {
    "duration": 51,
    "start_time": "2023-07-08T15:30:14.921Z"
   },
   {
    "duration": 24,
    "start_time": "2023-07-08T15:30:14.974Z"
   },
   {
    "duration": 9,
    "start_time": "2023-07-08T15:30:15.000Z"
   },
   {
    "duration": 43,
    "start_time": "2023-07-08T15:30:15.011Z"
   },
   {
    "duration": 48,
    "start_time": "2023-07-08T15:30:15.056Z"
   },
   {
    "duration": 424,
    "start_time": "2023-07-08T15:30:15.106Z"
   },
   {
    "duration": 7,
    "start_time": "2023-07-08T15:30:15.532Z"
   },
   {
    "duration": 14,
    "start_time": "2023-07-08T15:30:15.541Z"
   },
   {
    "duration": 463,
    "start_time": "2023-07-08T15:30:15.557Z"
   },
   {
    "duration": 7,
    "start_time": "2023-07-08T15:30:16.022Z"
   },
   {
    "duration": 9,
    "start_time": "2023-07-08T15:30:16.030Z"
   },
   {
    "duration": 363,
    "start_time": "2023-07-08T15:30:16.040Z"
   },
   {
    "duration": 8,
    "start_time": "2023-07-08T15:30:16.405Z"
   },
   {
    "duration": 7,
    "start_time": "2023-07-08T15:30:16.414Z"
   },
   {
    "duration": 314,
    "start_time": "2023-07-08T15:30:16.423Z"
   },
   {
    "duration": 316,
    "start_time": "2023-07-08T15:30:16.739Z"
   },
   {
    "duration": 351,
    "start_time": "2023-07-08T15:30:17.058Z"
   },
   {
    "duration": 30,
    "start_time": "2023-07-08T15:30:17.410Z"
   },
   {
    "duration": 763,
    "start_time": "2023-07-08T15:30:17.442Z"
   },
   {
    "duration": 92,
    "start_time": "2023-07-08T15:30:18.207Z"
   },
   {
    "duration": 10,
    "start_time": "2023-07-08T15:30:18.301Z"
   },
   {
    "duration": 83,
    "start_time": "2023-07-08T15:30:18.312Z"
   },
   {
    "duration": 2,
    "start_time": "2023-07-08T15:30:18.397Z"
   },
   {
    "duration": 5,
    "start_time": "2023-07-08T15:30:18.401Z"
   },
   {
    "duration": 124,
    "start_time": "2023-07-08T15:30:18.407Z"
   },
   {
    "duration": 0,
    "start_time": "2023-07-08T15:30:18.533Z"
   },
   {
    "duration": 12,
    "start_time": "2023-07-08T15:31:04.513Z"
   },
   {
    "duration": 3,
    "start_time": "2023-07-08T15:32:17.259Z"
   },
   {
    "duration": 7,
    "start_time": "2023-07-08T15:32:20.361Z"
   },
   {
    "duration": 1135,
    "start_time": "2023-07-08T15:32:23.516Z"
   },
   {
    "duration": 1185,
    "start_time": "2023-07-08T15:32:36.918Z"
   },
   {
    "duration": 1014,
    "start_time": "2023-07-08T15:35:37.334Z"
   },
   {
    "duration": 15,
    "start_time": "2023-07-08T15:35:57.750Z"
   },
   {
    "duration": 15,
    "start_time": "2023-07-08T15:36:01.460Z"
   },
   {
    "duration": 1494,
    "start_time": "2023-07-08T15:36:14.743Z"
   },
   {
    "duration": 768,
    "start_time": "2023-07-08T15:36:16.239Z"
   },
   {
    "duration": 4,
    "start_time": "2023-07-08T15:36:17.008Z"
   },
   {
    "duration": 220,
    "start_time": "2023-07-08T15:36:17.014Z"
   },
   {
    "duration": 406,
    "start_time": "2023-07-08T15:36:17.236Z"
   },
   {
    "duration": 413,
    "start_time": "2023-07-08T15:36:17.644Z"
   },
   {
    "duration": 16,
    "start_time": "2023-07-08T15:36:18.059Z"
   },
   {
    "duration": 10,
    "start_time": "2023-07-08T15:36:18.077Z"
   },
   {
    "duration": 14,
    "start_time": "2023-07-08T15:36:18.089Z"
   },
   {
    "duration": 13,
    "start_time": "2023-07-08T15:36:18.106Z"
   },
   {
    "duration": 13,
    "start_time": "2023-07-08T15:36:18.120Z"
   },
   {
    "duration": 12,
    "start_time": "2023-07-08T15:36:18.134Z"
   },
   {
    "duration": 30,
    "start_time": "2023-07-08T15:36:18.148Z"
   },
   {
    "duration": 36,
    "start_time": "2023-07-08T15:36:18.179Z"
   },
   {
    "duration": 24,
    "start_time": "2023-07-08T15:36:18.218Z"
   },
   {
    "duration": 25,
    "start_time": "2023-07-08T15:36:18.244Z"
   },
   {
    "duration": 8,
    "start_time": "2023-07-08T15:36:18.270Z"
   },
   {
    "duration": 14,
    "start_time": "2023-07-08T15:36:18.279Z"
   },
   {
    "duration": 361,
    "start_time": "2023-07-08T15:36:18.295Z"
   },
   {
    "duration": 12,
    "start_time": "2023-07-08T15:36:18.658Z"
   },
   {
    "duration": 18,
    "start_time": "2023-07-08T15:36:18.672Z"
   },
   {
    "duration": 417,
    "start_time": "2023-07-08T15:36:18.691Z"
   },
   {
    "duration": 7,
    "start_time": "2023-07-08T15:36:19.110Z"
   },
   {
    "duration": 14,
    "start_time": "2023-07-08T15:36:19.119Z"
   },
   {
    "duration": 428,
    "start_time": "2023-07-08T15:36:19.134Z"
   },
   {
    "duration": 9,
    "start_time": "2023-07-08T15:36:19.564Z"
   },
   {
    "duration": 7,
    "start_time": "2023-07-08T15:36:19.575Z"
   },
   {
    "duration": 363,
    "start_time": "2023-07-08T15:36:19.586Z"
   },
   {
    "duration": 346,
    "start_time": "2023-07-08T15:36:19.951Z"
   },
   {
    "duration": 346,
    "start_time": "2023-07-08T15:36:20.300Z"
   },
   {
    "duration": 41,
    "start_time": "2023-07-08T15:36:20.648Z"
   },
   {
    "duration": 750,
    "start_time": "2023-07-08T15:36:20.691Z"
   },
   {
    "duration": 88,
    "start_time": "2023-07-08T15:36:21.443Z"
   },
   {
    "duration": 12,
    "start_time": "2023-07-08T15:36:21.532Z"
   },
   {
    "duration": 80,
    "start_time": "2023-07-08T15:36:21.545Z"
   },
   {
    "duration": 3,
    "start_time": "2023-07-08T15:36:21.627Z"
   },
   {
    "duration": 7,
    "start_time": "2023-07-08T15:36:21.632Z"
   },
   {
    "duration": 5,
    "start_time": "2023-07-08T15:36:21.641Z"
   },
   {
    "duration": 7,
    "start_time": "2023-07-08T15:36:21.647Z"
   },
   {
    "duration": 1082,
    "start_time": "2023-07-08T15:36:21.656Z"
   },
   {
    "duration": 18,
    "start_time": "2023-07-08T15:36:56.376Z"
   },
   {
    "duration": 16,
    "start_time": "2023-07-08T15:37:01.859Z"
   },
   {
    "duration": 14,
    "start_time": "2023-07-08T15:37:12.776Z"
   },
   {
    "duration": 15,
    "start_time": "2023-07-08T15:38:00.751Z"
   },
   {
    "duration": 1452,
    "start_time": "2023-07-08T15:38:08.616Z"
   },
   {
    "duration": 776,
    "start_time": "2023-07-08T15:38:10.070Z"
   },
   {
    "duration": 3,
    "start_time": "2023-07-08T15:38:10.848Z"
   },
   {
    "duration": 188,
    "start_time": "2023-07-08T15:38:10.853Z"
   },
   {
    "duration": 389,
    "start_time": "2023-07-08T15:38:11.044Z"
   },
   {
    "duration": 380,
    "start_time": "2023-07-08T15:38:11.434Z"
   },
   {
    "duration": 10,
    "start_time": "2023-07-08T15:38:11.815Z"
   },
   {
    "duration": 35,
    "start_time": "2023-07-08T15:38:11.827Z"
   },
   {
    "duration": 7,
    "start_time": "2023-07-08T15:38:11.864Z"
   },
   {
    "duration": 20,
    "start_time": "2023-07-08T15:38:11.872Z"
   },
   {
    "duration": 12,
    "start_time": "2023-07-08T15:38:11.894Z"
   },
   {
    "duration": 20,
    "start_time": "2023-07-08T15:38:11.908Z"
   },
   {
    "duration": 36,
    "start_time": "2023-07-08T15:38:11.930Z"
   },
   {
    "duration": 52,
    "start_time": "2023-07-08T15:38:11.970Z"
   },
   {
    "duration": 23,
    "start_time": "2023-07-08T15:38:12.024Z"
   },
   {
    "duration": 10,
    "start_time": "2023-07-08T15:38:12.049Z"
   },
   {
    "duration": 9,
    "start_time": "2023-07-08T15:38:12.061Z"
   },
   {
    "duration": 6,
    "start_time": "2023-07-08T15:38:12.072Z"
   },
   {
    "duration": 353,
    "start_time": "2023-07-08T15:38:12.080Z"
   },
   {
    "duration": 7,
    "start_time": "2023-07-08T15:38:12.435Z"
   },
   {
    "duration": 6,
    "start_time": "2023-07-08T15:38:12.444Z"
   },
   {
    "duration": 439,
    "start_time": "2023-07-08T15:38:12.451Z"
   },
   {
    "duration": 9,
    "start_time": "2023-07-08T15:38:12.892Z"
   },
   {
    "duration": 16,
    "start_time": "2023-07-08T15:38:12.903Z"
   },
   {
    "duration": 357,
    "start_time": "2023-07-08T15:38:12.921Z"
   },
   {
    "duration": 8,
    "start_time": "2023-07-08T15:38:13.279Z"
   },
   {
    "duration": 25,
    "start_time": "2023-07-08T15:38:13.288Z"
   },
   {
    "duration": 293,
    "start_time": "2023-07-08T15:38:13.315Z"
   },
   {
    "duration": 311,
    "start_time": "2023-07-08T15:38:13.610Z"
   },
   {
    "duration": 385,
    "start_time": "2023-07-08T15:38:13.923Z"
   },
   {
    "duration": 29,
    "start_time": "2023-07-08T15:38:14.310Z"
   },
   {
    "duration": 734,
    "start_time": "2023-07-08T15:38:14.341Z"
   },
   {
    "duration": 103,
    "start_time": "2023-07-08T15:38:15.077Z"
   },
   {
    "duration": 10,
    "start_time": "2023-07-08T15:38:15.182Z"
   },
   {
    "duration": 78,
    "start_time": "2023-07-08T15:38:15.194Z"
   },
   {
    "duration": 3,
    "start_time": "2023-07-08T15:38:15.274Z"
   },
   {
    "duration": 5,
    "start_time": "2023-07-08T15:38:15.279Z"
   },
   {
    "duration": 8,
    "start_time": "2023-07-08T15:38:15.286Z"
   },
   {
    "duration": 22,
    "start_time": "2023-07-08T15:38:15.296Z"
   },
   {
    "duration": 1176,
    "start_time": "2023-07-08T15:38:15.320Z"
   },
   {
    "duration": 1040,
    "start_time": "2023-07-08T15:38:49.108Z"
   },
   {
    "duration": 986,
    "start_time": "2023-07-08T15:38:54.654Z"
   },
   {
    "duration": 14,
    "start_time": "2023-07-08T15:39:02.705Z"
   },
   {
    "duration": 10,
    "start_time": "2023-07-08T15:41:58.351Z"
   },
   {
    "duration": 15,
    "start_time": "2023-07-08T15:42:31.653Z"
   },
   {
    "duration": 13,
    "start_time": "2023-07-08T15:43:12.831Z"
   },
   {
    "duration": 13,
    "start_time": "2023-07-08T15:45:31.023Z"
   },
   {
    "duration": 13,
    "start_time": "2023-07-08T15:45:44.723Z"
   },
   {
    "duration": 2,
    "start_time": "2023-07-08T15:46:34.908Z"
   },
   {
    "duration": 14,
    "start_time": "2023-07-08T15:46:37.714Z"
   },
   {
    "duration": 1459,
    "start_time": "2023-07-08T15:46:44.281Z"
   },
   {
    "duration": 839,
    "start_time": "2023-07-08T15:46:45.742Z"
   },
   {
    "duration": 3,
    "start_time": "2023-07-08T15:46:46.582Z"
   },
   {
    "duration": 191,
    "start_time": "2023-07-08T15:46:46.587Z"
   },
   {
    "duration": 377,
    "start_time": "2023-07-08T15:46:46.781Z"
   },
   {
    "duration": 393,
    "start_time": "2023-07-08T15:46:47.160Z"
   },
   {
    "duration": 27,
    "start_time": "2023-07-08T15:46:47.555Z"
   },
   {
    "duration": 8,
    "start_time": "2023-07-08T15:46:47.583Z"
   },
   {
    "duration": 5,
    "start_time": "2023-07-08T15:46:47.593Z"
   },
   {
    "duration": 10,
    "start_time": "2023-07-08T15:46:47.600Z"
   },
   {
    "duration": 19,
    "start_time": "2023-07-08T15:46:47.612Z"
   },
   {
    "duration": 4,
    "start_time": "2023-07-08T15:46:47.632Z"
   },
   {
    "duration": 13,
    "start_time": "2023-07-08T15:46:47.638Z"
   },
   {
    "duration": 3,
    "start_time": "2023-07-08T15:46:47.654Z"
   },
   {
    "duration": 129,
    "start_time": "2023-07-08T15:46:47.659Z"
   },
   {
    "duration": 0,
    "start_time": "2023-07-08T15:46:47.790Z"
   },
   {
    "duration": 0,
    "start_time": "2023-07-08T15:46:47.791Z"
   },
   {
    "duration": 0,
    "start_time": "2023-07-08T15:46:47.792Z"
   },
   {
    "duration": 0,
    "start_time": "2023-07-08T15:46:47.793Z"
   },
   {
    "duration": 0,
    "start_time": "2023-07-08T15:46:47.794Z"
   },
   {
    "duration": 0,
    "start_time": "2023-07-08T15:46:47.795Z"
   },
   {
    "duration": 0,
    "start_time": "2023-07-08T15:46:47.796Z"
   },
   {
    "duration": 0,
    "start_time": "2023-07-08T15:46:47.797Z"
   },
   {
    "duration": 0,
    "start_time": "2023-07-08T15:46:47.798Z"
   },
   {
    "duration": 0,
    "start_time": "2023-07-08T15:46:47.799Z"
   },
   {
    "duration": 0,
    "start_time": "2023-07-08T15:46:47.800Z"
   },
   {
    "duration": 0,
    "start_time": "2023-07-08T15:46:47.801Z"
   },
   {
    "duration": 0,
    "start_time": "2023-07-08T15:46:47.802Z"
   },
   {
    "duration": 0,
    "start_time": "2023-07-08T15:46:47.803Z"
   },
   {
    "duration": 0,
    "start_time": "2023-07-08T15:46:47.804Z"
   },
   {
    "duration": 0,
    "start_time": "2023-07-08T15:46:47.805Z"
   },
   {
    "duration": 0,
    "start_time": "2023-07-08T15:46:47.806Z"
   },
   {
    "duration": 0,
    "start_time": "2023-07-08T15:46:47.807Z"
   },
   {
    "duration": 0,
    "start_time": "2023-07-08T15:46:47.808Z"
   },
   {
    "duration": 0,
    "start_time": "2023-07-08T15:46:47.809Z"
   },
   {
    "duration": 0,
    "start_time": "2023-07-08T15:46:47.810Z"
   },
   {
    "duration": 0,
    "start_time": "2023-07-08T15:46:47.811Z"
   },
   {
    "duration": 0,
    "start_time": "2023-07-08T15:46:47.812Z"
   },
   {
    "duration": 0,
    "start_time": "2023-07-08T15:46:47.813Z"
   },
   {
    "duration": 0,
    "start_time": "2023-07-08T15:46:47.814Z"
   },
   {
    "duration": 0,
    "start_time": "2023-07-08T15:46:47.815Z"
   },
   {
    "duration": 16,
    "start_time": "2023-07-08T15:46:53.740Z"
   },
   {
    "duration": 15,
    "start_time": "2023-07-08T15:48:32.275Z"
   },
   {
    "duration": 15,
    "start_time": "2023-07-08T15:48:46.984Z"
   },
   {
    "duration": 9,
    "start_time": "2023-07-08T15:50:52.727Z"
   },
   {
    "duration": 32,
    "start_time": "2023-07-08T15:50:59.952Z"
   },
   {
    "duration": 17,
    "start_time": "2023-07-08T15:51:14.073Z"
   },
   {
    "duration": 13,
    "start_time": "2023-07-08T15:51:16.833Z"
   },
   {
    "duration": 19,
    "start_time": "2023-07-08T15:51:24.178Z"
   },
   {
    "duration": 12,
    "start_time": "2023-07-08T15:51:29.425Z"
   },
   {
    "duration": 1401,
    "start_time": "2023-07-08T15:51:46.382Z"
   },
   {
    "duration": 814,
    "start_time": "2023-07-08T15:51:47.785Z"
   },
   {
    "duration": 4,
    "start_time": "2023-07-08T15:51:48.601Z"
   },
   {
    "duration": 182,
    "start_time": "2023-07-08T15:51:48.607Z"
   },
   {
    "duration": 376,
    "start_time": "2023-07-08T15:51:48.791Z"
   },
   {
    "duration": 350,
    "start_time": "2023-07-08T15:51:49.179Z"
   },
   {
    "duration": 9,
    "start_time": "2023-07-08T15:51:49.531Z"
   },
   {
    "duration": 8,
    "start_time": "2023-07-08T15:51:49.541Z"
   },
   {
    "duration": 24,
    "start_time": "2023-07-08T15:51:49.550Z"
   },
   {
    "duration": 6,
    "start_time": "2023-07-08T15:51:49.575Z"
   },
   {
    "duration": 11,
    "start_time": "2023-07-08T15:51:49.583Z"
   },
   {
    "duration": 5,
    "start_time": "2023-07-08T15:51:49.595Z"
   },
   {
    "duration": 14,
    "start_time": "2023-07-08T15:51:49.601Z"
   },
   {
    "duration": 3,
    "start_time": "2023-07-08T15:51:49.619Z"
   },
   {
    "duration": 63,
    "start_time": "2023-07-08T15:51:49.624Z"
   },
   {
    "duration": 22,
    "start_time": "2023-07-08T15:51:49.688Z"
   },
   {
    "duration": 8,
    "start_time": "2023-07-08T15:51:49.712Z"
   },
   {
    "duration": 8,
    "start_time": "2023-07-08T15:51:49.721Z"
   },
   {
    "duration": 17,
    "start_time": "2023-07-08T15:51:49.730Z"
   },
   {
    "duration": 359,
    "start_time": "2023-07-08T15:51:49.748Z"
   },
   {
    "duration": 7,
    "start_time": "2023-07-08T15:51:50.108Z"
   },
   {
    "duration": 17,
    "start_time": "2023-07-08T15:51:50.117Z"
   },
   {
    "duration": 422,
    "start_time": "2023-07-08T15:51:50.136Z"
   },
   {
    "duration": 14,
    "start_time": "2023-07-08T15:51:50.560Z"
   },
   {
    "duration": 18,
    "start_time": "2023-07-08T15:51:50.576Z"
   },
   {
    "duration": 392,
    "start_time": "2023-07-08T15:51:50.596Z"
   },
   {
    "duration": 7,
    "start_time": "2023-07-08T15:51:50.990Z"
   },
   {
    "duration": 21,
    "start_time": "2023-07-08T15:51:50.998Z"
   },
   {
    "duration": 1298,
    "start_time": "2023-07-08T15:51:51.020Z"
   },
   {
    "duration": 0,
    "start_time": "2023-07-08T15:51:52.320Z"
   },
   {
    "duration": 0,
    "start_time": "2023-07-08T15:51:52.322Z"
   },
   {
    "duration": 0,
    "start_time": "2023-07-08T15:51:52.323Z"
   },
   {
    "duration": 0,
    "start_time": "2023-07-08T15:51:52.325Z"
   },
   {
    "duration": 0,
    "start_time": "2023-07-08T15:51:52.326Z"
   },
   {
    "duration": 0,
    "start_time": "2023-07-08T15:51:52.327Z"
   },
   {
    "duration": 0,
    "start_time": "2023-07-08T15:51:52.329Z"
   },
   {
    "duration": 0,
    "start_time": "2023-07-08T15:51:52.330Z"
   },
   {
    "duration": 0,
    "start_time": "2023-07-08T15:51:52.331Z"
   },
   {
    "duration": 0,
    "start_time": "2023-07-08T15:51:52.333Z"
   },
   {
    "duration": 0,
    "start_time": "2023-07-08T15:51:52.334Z"
   },
   {
    "duration": 0,
    "start_time": "2023-07-08T15:51:52.335Z"
   },
   {
    "duration": 26,
    "start_time": "2023-07-08T15:52:21.757Z"
   },
   {
    "duration": 5,
    "start_time": "2023-07-08T15:52:29.720Z"
   },
   {
    "duration": 1259,
    "start_time": "2023-07-08T15:52:53.767Z"
   },
   {
    "duration": 1290,
    "start_time": "2023-07-08T15:53:05.348Z"
   },
   {
    "duration": 1254,
    "start_time": "2023-07-08T15:53:16.729Z"
   },
   {
    "duration": 1380,
    "start_time": "2023-07-08T15:53:27.913Z"
   },
   {
    "duration": 825,
    "start_time": "2023-07-08T15:53:29.295Z"
   },
   {
    "duration": 4,
    "start_time": "2023-07-08T15:53:30.124Z"
   },
   {
    "duration": 238,
    "start_time": "2023-07-08T15:53:30.130Z"
   },
   {
    "duration": 382,
    "start_time": "2023-07-08T15:53:30.375Z"
   },
   {
    "duration": 378,
    "start_time": "2023-07-08T15:53:30.759Z"
   },
   {
    "duration": 9,
    "start_time": "2023-07-08T15:53:31.139Z"
   },
   {
    "duration": 45,
    "start_time": "2023-07-08T15:53:31.150Z"
   },
   {
    "duration": 38,
    "start_time": "2023-07-08T15:53:31.196Z"
   },
   {
    "duration": 81,
    "start_time": "2023-07-08T15:53:31.235Z"
   },
   {
    "duration": 123,
    "start_time": "2023-07-08T15:53:31.318Z"
   },
   {
    "duration": 38,
    "start_time": "2023-07-08T15:53:31.443Z"
   },
   {
    "duration": 50,
    "start_time": "2023-07-08T15:53:31.485Z"
   },
   {
    "duration": 21,
    "start_time": "2023-07-08T15:53:31.537Z"
   },
   {
    "duration": 70,
    "start_time": "2023-07-08T15:53:31.559Z"
   },
   {
    "duration": 35,
    "start_time": "2023-07-08T15:53:31.630Z"
   },
   {
    "duration": 27,
    "start_time": "2023-07-08T15:53:31.667Z"
   },
   {
    "duration": 20,
    "start_time": "2023-07-08T15:53:31.696Z"
   },
   {
    "duration": 47,
    "start_time": "2023-07-08T15:53:31.718Z"
   },
   {
    "duration": 375,
    "start_time": "2023-07-08T15:53:31.767Z"
   },
   {
    "duration": 7,
    "start_time": "2023-07-08T15:53:32.143Z"
   },
   {
    "duration": 80,
    "start_time": "2023-07-08T15:53:32.151Z"
   },
   {
    "duration": 429,
    "start_time": "2023-07-08T15:53:32.233Z"
   },
   {
    "duration": 13,
    "start_time": "2023-07-08T15:53:32.667Z"
   },
   {
    "duration": 25,
    "start_time": "2023-07-08T15:53:32.682Z"
   },
   {
    "duration": 348,
    "start_time": "2023-07-08T15:53:32.709Z"
   },
   {
    "duration": 26,
    "start_time": "2023-07-08T15:53:33.059Z"
   },
   {
    "duration": 7,
    "start_time": "2023-07-08T15:53:33.087Z"
   },
   {
    "duration": 1414,
    "start_time": "2023-07-08T15:53:33.095Z"
   },
   {
    "duration": 0,
    "start_time": "2023-07-08T15:53:34.511Z"
   },
   {
    "duration": 0,
    "start_time": "2023-07-08T15:53:34.512Z"
   },
   {
    "duration": 0,
    "start_time": "2023-07-08T15:53:34.513Z"
   },
   {
    "duration": 0,
    "start_time": "2023-07-08T15:53:34.514Z"
   },
   {
    "duration": 0,
    "start_time": "2023-07-08T15:53:34.516Z"
   },
   {
    "duration": 0,
    "start_time": "2023-07-08T15:53:34.517Z"
   },
   {
    "duration": 0,
    "start_time": "2023-07-08T15:53:34.518Z"
   },
   {
    "duration": 0,
    "start_time": "2023-07-08T15:53:34.520Z"
   },
   {
    "duration": 0,
    "start_time": "2023-07-08T15:53:34.521Z"
   },
   {
    "duration": 0,
    "start_time": "2023-07-08T15:53:34.522Z"
   },
   {
    "duration": 0,
    "start_time": "2023-07-08T15:53:34.523Z"
   },
   {
    "duration": 0,
    "start_time": "2023-07-08T15:53:34.524Z"
   },
   {
    "duration": 4228,
    "start_time": "2023-07-08T15:55:01.156Z"
   },
   {
    "duration": 1367,
    "start_time": "2023-07-08T15:57:03.357Z"
   },
   {
    "duration": 1426,
    "start_time": "2023-07-08T15:57:07.233Z"
   },
   {
    "duration": 1331,
    "start_time": "2023-07-08T15:57:21.229Z"
   },
   {
    "duration": 220,
    "start_time": "2023-07-08T15:57:26.099Z"
   },
   {
    "duration": 38,
    "start_time": "2023-07-08T15:57:31.854Z"
   },
   {
    "duration": 786,
    "start_time": "2023-07-08T15:57:37.514Z"
   },
   {
    "duration": 80,
    "start_time": "2023-07-08T15:57:43.429Z"
   },
   {
    "duration": 1086,
    "start_time": "2023-07-08T15:57:45.771Z"
   },
   {
    "duration": 72,
    "start_time": "2023-07-08T15:57:48.608Z"
   },
   {
    "duration": 4,
    "start_time": "2023-07-08T15:57:54.039Z"
   },
   {
    "duration": 6,
    "start_time": "2023-07-08T15:57:54.468Z"
   },
   {
    "duration": 10,
    "start_time": "2023-07-08T15:57:54.924Z"
   },
   {
    "duration": 3,
    "start_time": "2023-07-08T15:58:13.800Z"
   },
   {
    "duration": 10,
    "start_time": "2023-07-08T15:58:26.328Z"
   },
   {
    "duration": 5,
    "start_time": "2023-07-08T15:58:35.114Z"
   },
   {
    "duration": 9,
    "start_time": "2023-07-08T15:58:37.931Z"
   },
   {
    "duration": 3,
    "start_time": "2023-07-08T15:58:45.637Z"
   },
   {
    "duration": 23,
    "start_time": "2023-07-08T16:00:00.664Z"
   },
   {
    "duration": 12,
    "start_time": "2023-07-08T16:00:11.095Z"
   },
   {
    "duration": 10,
    "start_time": "2023-07-08T16:00:31.017Z"
   },
   {
    "duration": 4,
    "start_time": "2023-07-08T16:01:16.516Z"
   },
   {
    "duration": 733,
    "start_time": "2023-07-08T16:01:17.028Z"
   },
   {
    "duration": 10,
    "start_time": "2023-07-08T16:01:17.763Z"
   },
   {
    "duration": 189,
    "start_time": "2023-07-08T16:01:20.603Z"
   },
   {
    "duration": 4,
    "start_time": "2023-07-08T16:01:40.406Z"
   },
   {
    "duration": 12,
    "start_time": "2023-07-08T16:01:44.404Z"
   },
   {
    "duration": 25,
    "start_time": "2023-07-08T16:02:33.215Z"
   },
   {
    "duration": 19,
    "start_time": "2023-07-08T16:03:43.946Z"
   },
   {
    "duration": 346,
    "start_time": "2023-07-08T16:03:48.951Z"
   },
   {
    "duration": 7,
    "start_time": "2023-07-08T16:03:54.415Z"
   },
   {
    "duration": 327,
    "start_time": "2023-07-08T16:03:58.014Z"
   },
   {
    "duration": 1430,
    "start_time": "2023-07-08T16:04:07.324Z"
   },
   {
    "duration": 1186,
    "start_time": "2023-07-08T16:11:21.633Z"
   },
   {
    "duration": 6,
    "start_time": "2023-07-08T16:12:13.512Z"
   },
   {
    "duration": 9,
    "start_time": "2023-07-08T16:13:25.040Z"
   },
   {
    "duration": 15,
    "start_time": "2023-07-08T16:15:19.941Z"
   },
   {
    "duration": 15,
    "start_time": "2023-07-08T16:15:45.733Z"
   },
   {
    "duration": 15,
    "start_time": "2023-07-08T16:15:48.157Z"
   },
   {
    "duration": 1405,
    "start_time": "2023-07-08T16:16:03.853Z"
   },
   {
    "duration": 765,
    "start_time": "2023-07-08T16:16:05.260Z"
   },
   {
    "duration": 4,
    "start_time": "2023-07-08T16:16:06.027Z"
   },
   {
    "duration": 179,
    "start_time": "2023-07-08T16:16:06.032Z"
   },
   {
    "duration": 387,
    "start_time": "2023-07-08T16:16:06.213Z"
   },
   {
    "duration": 359,
    "start_time": "2023-07-08T16:16:06.602Z"
   },
   {
    "duration": 14,
    "start_time": "2023-07-08T16:16:06.962Z"
   },
   {
    "duration": 8,
    "start_time": "2023-07-08T16:16:06.978Z"
   },
   {
    "duration": 9,
    "start_time": "2023-07-08T16:16:06.987Z"
   },
   {
    "duration": 5,
    "start_time": "2023-07-08T16:16:06.998Z"
   },
   {
    "duration": 21,
    "start_time": "2023-07-08T16:16:07.004Z"
   },
   {
    "duration": 10,
    "start_time": "2023-07-08T16:16:07.027Z"
   },
   {
    "duration": 31,
    "start_time": "2023-07-08T16:16:07.039Z"
   },
   {
    "duration": 24,
    "start_time": "2023-07-08T16:16:07.071Z"
   },
   {
    "duration": 3,
    "start_time": "2023-07-08T16:16:07.096Z"
   },
   {
    "duration": 33,
    "start_time": "2023-07-08T16:16:07.100Z"
   },
   {
    "duration": 8,
    "start_time": "2023-07-08T16:16:07.135Z"
   },
   {
    "duration": 28,
    "start_time": "2023-07-08T16:16:07.145Z"
   },
   {
    "duration": 5,
    "start_time": "2023-07-08T16:16:07.175Z"
   },
   {
    "duration": 11,
    "start_time": "2023-07-08T16:16:07.182Z"
   },
   {
    "duration": 15,
    "start_time": "2023-07-08T16:16:07.194Z"
   },
   {
    "duration": 359,
    "start_time": "2023-07-08T16:16:07.211Z"
   },
   {
    "duration": 7,
    "start_time": "2023-07-08T16:16:07.571Z"
   },
   {
    "duration": 44,
    "start_time": "2023-07-08T16:16:07.579Z"
   },
   {
    "duration": 415,
    "start_time": "2023-07-08T16:16:07.624Z"
   },
   {
    "duration": 7,
    "start_time": "2023-07-08T16:16:08.040Z"
   },
   {
    "duration": 19,
    "start_time": "2023-07-08T16:16:08.049Z"
   },
   {
    "duration": 361,
    "start_time": "2023-07-08T16:16:08.072Z"
   },
   {
    "duration": 8,
    "start_time": "2023-07-08T16:16:08.435Z"
   },
   {
    "duration": 8,
    "start_time": "2023-07-08T16:16:08.444Z"
   },
   {
    "duration": 332,
    "start_time": "2023-07-08T16:16:08.454Z"
   },
   {
    "duration": 326,
    "start_time": "2023-07-08T16:16:08.787Z"
   },
   {
    "duration": 311,
    "start_time": "2023-07-08T16:16:09.114Z"
   },
   {
    "duration": 0,
    "start_time": "2023-07-08T16:16:09.427Z"
   },
   {
    "duration": 0,
    "start_time": "2023-07-08T16:16:09.428Z"
   },
   {
    "duration": 0,
    "start_time": "2023-07-08T16:16:09.429Z"
   },
   {
    "duration": 0,
    "start_time": "2023-07-08T16:16:09.431Z"
   },
   {
    "duration": 0,
    "start_time": "2023-07-08T16:16:09.432Z"
   },
   {
    "duration": 0,
    "start_time": "2023-07-08T16:16:09.433Z"
   },
   {
    "duration": 0,
    "start_time": "2023-07-08T16:16:09.434Z"
   },
   {
    "duration": 0,
    "start_time": "2023-07-08T16:16:09.435Z"
   },
   {
    "duration": 0,
    "start_time": "2023-07-08T16:16:09.436Z"
   },
   {
    "duration": 0,
    "start_time": "2023-07-08T16:16:09.436Z"
   },
   {
    "duration": 0,
    "start_time": "2023-07-08T16:16:09.437Z"
   },
   {
    "duration": 0,
    "start_time": "2023-07-08T16:16:09.438Z"
   },
   {
    "duration": 26,
    "start_time": "2023-07-08T16:16:18.456Z"
   },
   {
    "duration": 23,
    "start_time": "2023-07-08T16:16:30.993Z"
   },
   {
    "duration": 25,
    "start_time": "2023-07-08T16:16:38.524Z"
   },
   {
    "duration": 6,
    "start_time": "2023-07-08T16:16:49.515Z"
   },
   {
    "duration": 9,
    "start_time": "2023-07-08T16:16:53.350Z"
   },
   {
    "duration": 290,
    "start_time": "2023-07-08T16:17:15.558Z"
   },
   {
    "duration": 330,
    "start_time": "2023-07-08T16:17:19.009Z"
   },
   {
    "duration": 318,
    "start_time": "2023-07-08T16:17:32.316Z"
   },
   {
    "duration": 32,
    "start_time": "2023-07-08T16:17:38.020Z"
   },
   {
    "duration": 638,
    "start_time": "2023-07-08T16:17:42.151Z"
   },
   {
    "duration": 80,
    "start_time": "2023-07-08T16:17:48.431Z"
   },
   {
    "duration": 12,
    "start_time": "2023-07-08T16:17:59.334Z"
   },
   {
    "duration": 80,
    "start_time": "2023-07-08T16:18:04.122Z"
   },
   {
    "duration": 4,
    "start_time": "2023-07-08T16:18:07.125Z"
   },
   {
    "duration": 3,
    "start_time": "2023-07-08T16:18:09.576Z"
   },
   {
    "duration": 3,
    "start_time": "2023-07-08T16:18:13.901Z"
   },
   {
    "duration": 7,
    "start_time": "2023-07-08T16:18:17.505Z"
   },
   {
    "duration": 3,
    "start_time": "2023-07-08T16:18:19.646Z"
   },
   {
    "duration": 4,
    "start_time": "2023-07-08T16:18:22.713Z"
   },
   {
    "duration": 6,
    "start_time": "2023-07-08T16:18:25.351Z"
   },
   {
    "duration": 4,
    "start_time": "2023-07-08T16:18:48.110Z"
   },
   {
    "duration": 3,
    "start_time": "2023-07-08T16:18:55.553Z"
   },
   {
    "duration": 3,
    "start_time": "2023-07-08T16:19:05.971Z"
   },
   {
    "duration": 3,
    "start_time": "2023-07-08T16:19:15.574Z"
   },
   {
    "duration": 4,
    "start_time": "2023-07-08T16:19:23.032Z"
   },
   {
    "duration": 52,
    "start_time": "2023-07-08T21:18:28.461Z"
   },
   {
    "duration": 8,
    "start_time": "2023-07-08T21:18:49.452Z"
   },
   {
    "duration": 1746,
    "start_time": "2023-07-08T21:19:01.471Z"
   },
   {
    "duration": 2083,
    "start_time": "2023-07-08T21:19:03.220Z"
   },
   {
    "duration": 6,
    "start_time": "2023-07-08T21:19:05.305Z"
   },
   {
    "duration": 259,
    "start_time": "2023-07-08T21:19:05.313Z"
   },
   {
    "duration": 436,
    "start_time": "2023-07-08T21:19:05.573Z"
   },
   {
    "duration": 397,
    "start_time": "2023-07-08T21:19:06.011Z"
   },
   {
    "duration": 11,
    "start_time": "2023-07-08T21:19:06.409Z"
   },
   {
    "duration": 9,
    "start_time": "2023-07-08T21:19:06.421Z"
   },
   {
    "duration": 8,
    "start_time": "2023-07-08T21:19:06.451Z"
   },
   {
    "duration": 7,
    "start_time": "2023-07-08T21:19:06.462Z"
   },
   {
    "duration": 26,
    "start_time": "2023-07-08T21:19:06.471Z"
   },
   {
    "duration": 7,
    "start_time": "2023-07-08T21:19:06.498Z"
   },
   {
    "duration": 17,
    "start_time": "2023-07-08T21:19:06.506Z"
   },
   {
    "duration": 34,
    "start_time": "2023-07-08T21:19:06.525Z"
   },
   {
    "duration": 3,
    "start_time": "2023-07-08T21:19:06.560Z"
   },
   {
    "duration": 45,
    "start_time": "2023-07-08T21:19:06.565Z"
   },
   {
    "duration": 10,
    "start_time": "2023-07-08T21:19:06.612Z"
   },
   {
    "duration": 9,
    "start_time": "2023-07-08T21:19:06.624Z"
   },
   {
    "duration": 20,
    "start_time": "2023-07-08T21:19:06.635Z"
   },
   {
    "duration": 513,
    "start_time": "2023-07-08T21:19:06.657Z"
   },
   {
    "duration": 9,
    "start_time": "2023-07-08T21:19:07.172Z"
   },
   {
    "duration": 9,
    "start_time": "2023-07-08T21:19:07.183Z"
   },
   {
    "duration": 401,
    "start_time": "2023-07-08T21:19:07.194Z"
   },
   {
    "duration": 9,
    "start_time": "2023-07-08T21:19:07.598Z"
   },
   {
    "duration": 9,
    "start_time": "2023-07-08T21:19:07.608Z"
   },
   {
    "duration": 418,
    "start_time": "2023-07-08T21:19:07.618Z"
   },
   {
    "duration": 14,
    "start_time": "2023-07-08T21:19:08.038Z"
   },
   {
    "duration": 7,
    "start_time": "2023-07-08T21:19:08.057Z"
   },
   {
    "duration": 406,
    "start_time": "2023-07-08T21:19:08.066Z"
   },
   {
    "duration": 371,
    "start_time": "2023-07-08T21:19:08.474Z"
   },
   {
    "duration": 344,
    "start_time": "2023-07-08T21:19:08.847Z"
   },
   {
    "duration": 167,
    "start_time": "2023-07-08T21:19:09.193Z"
   },
   {
    "duration": 656,
    "start_time": "2023-07-08T21:19:09.361Z"
   },
   {
    "duration": 106,
    "start_time": "2023-07-08T21:19:10.019Z"
   },
   {
    "duration": 13,
    "start_time": "2023-07-08T21:19:10.127Z"
   },
   {
    "duration": 110,
    "start_time": "2023-07-08T21:19:10.142Z"
   },
   {
    "duration": 3,
    "start_time": "2023-07-08T21:19:10.254Z"
   },
   {
    "duration": 30,
    "start_time": "2023-07-08T21:19:10.258Z"
   },
   {
    "duration": 37,
    "start_time": "2023-07-08T21:19:10.290Z"
   },
   {
    "duration": 15,
    "start_time": "2023-07-08T21:19:10.329Z"
   },
   {
    "duration": 18,
    "start_time": "2023-07-08T21:19:10.346Z"
   },
   {
    "duration": 11,
    "start_time": "2023-07-08T21:19:10.366Z"
   },
   {
    "duration": 19,
    "start_time": "2023-07-08T21:19:10.379Z"
   },
   {
    "duration": 20,
    "start_time": "2023-07-08T21:19:10.400Z"
   },
   {
    "duration": 21,
    "start_time": "2023-07-08T21:19:10.422Z"
   },
   {
    "duration": 22,
    "start_time": "2023-07-08T21:19:10.444Z"
   },
   {
    "duration": 23,
    "start_time": "2023-07-08T21:19:10.467Z"
   },
   {
    "duration": 13,
    "start_time": "2023-07-08T21:19:10.492Z"
   },
   {
    "duration": 4,
    "start_time": "2023-07-08T21:20:26.230Z"
   },
   {
    "duration": 10,
    "start_time": "2023-07-08T21:20:26.236Z"
   },
   {
    "duration": 6,
    "start_time": "2023-07-08T21:20:26.252Z"
   },
   {
    "duration": 79326,
    "start_time": "2023-07-08T21:20:26.260Z"
   },
   {
    "duration": 3,
    "start_time": "2023-07-08T21:21:46.786Z"
   },
   {
    "duration": 11,
    "start_time": "2023-07-08T21:22:34.021Z"
   },
   {
    "duration": 3,
    "start_time": "2023-07-08T21:22:47.682Z"
   },
   {
    "duration": 6,
    "start_time": "2023-07-08T21:22:55.844Z"
   },
   {
    "duration": 4,
    "start_time": "2023-07-08T21:28:08.096Z"
   },
   {
    "duration": 3,
    "start_time": "2023-07-08T21:28:44.365Z"
   },
   {
    "duration": 114,
    "start_time": "2023-07-08T21:29:48.017Z"
   },
   {
    "duration": 4,
    "start_time": "2023-07-08T21:30:10.726Z"
   },
   {
    "duration": 78952,
    "start_time": "2023-07-08T21:30:36.005Z"
   },
   {
    "duration": 81430,
    "start_time": "2023-07-08T21:33:15.622Z"
   },
   {
    "duration": 16,
    "start_time": "2023-07-08T21:34:37.055Z"
   },
   {
    "duration": 12,
    "start_time": "2023-07-08T21:34:44.145Z"
   },
   {
    "duration": 13,
    "start_time": "2023-07-08T21:36:02.438Z"
   },
   {
    "duration": 7,
    "start_time": "2023-07-08T21:36:12.438Z"
   },
   {
    "duration": 5,
    "start_time": "2023-07-08T21:38:28.644Z"
   },
   {
    "duration": 24,
    "start_time": "2023-07-08T21:41:42.777Z"
   },
   {
    "duration": 39,
    "start_time": "2023-07-08T21:41:58.965Z"
   },
   {
    "duration": 38,
    "start_time": "2023-07-08T21:46:41.508Z"
   },
   {
    "duration": 32,
    "start_time": "2023-07-08T21:48:25.414Z"
   },
   {
    "duration": 35,
    "start_time": "2023-07-08T21:50:34.937Z"
   },
   {
    "duration": 13,
    "start_time": "2023-07-08T21:50:58.241Z"
   },
   {
    "duration": 10,
    "start_time": "2023-07-08T21:51:12.379Z"
   },
   {
    "duration": 14,
    "start_time": "2023-07-08T21:51:19.581Z"
   },
   {
    "duration": 1814,
    "start_time": "2023-07-08T21:51:28.802Z"
   },
   {
    "duration": 2043,
    "start_time": "2023-07-08T21:52:12.051Z"
   },
   {
    "duration": 1623,
    "start_time": "2023-07-08T21:52:35.065Z"
   },
   {
    "duration": 14,
    "start_time": "2023-07-08T21:53:31.939Z"
   },
   {
    "duration": 10,
    "start_time": "2023-07-08T21:53:34.800Z"
   },
   {
    "duration": 11,
    "start_time": "2023-07-08T21:54:23.645Z"
   },
   {
    "duration": 10,
    "start_time": "2023-07-08T21:54:56.872Z"
   },
   {
    "duration": 14,
    "start_time": "2023-07-08T21:55:04.282Z"
   },
   {
    "duration": 11,
    "start_time": "2023-07-08T21:55:06.346Z"
   },
   {
    "duration": 1860,
    "start_time": "2023-07-08T21:55:15.566Z"
   },
   {
    "duration": 53,
    "start_time": "2023-07-08T21:57:02.485Z"
   },
   {
    "duration": 30,
    "start_time": "2023-07-08T21:57:32.352Z"
   },
   {
    "duration": 12,
    "start_time": "2023-07-08T21:58:51.565Z"
   },
   {
    "duration": 99,
    "start_time": "2023-07-08T21:59:37.977Z"
   },
   {
    "duration": 14,
    "start_time": "2023-07-08T22:02:11.617Z"
   },
   {
    "duration": 1871,
    "start_time": "2023-07-08T22:02:17.555Z"
   },
   {
    "duration": 3,
    "start_time": "2023-07-08T22:02:59.273Z"
   },
   {
    "duration": 3,
    "start_time": "2023-07-08T22:03:01.965Z"
   },
   {
    "duration": 7,
    "start_time": "2023-07-08T22:03:10.591Z"
   },
   {
    "duration": 11,
    "start_time": "2023-07-08T22:04:27.576Z"
   },
   {
    "duration": 11,
    "start_time": "2023-07-08T22:05:29.564Z"
   },
   {
    "duration": 12,
    "start_time": "2023-07-08T22:05:34.046Z"
   },
   {
    "duration": 19,
    "start_time": "2023-07-08T22:09:32.755Z"
   },
   {
    "duration": 33,
    "start_time": "2023-07-08T22:13:27.962Z"
   },
   {
    "duration": 35,
    "start_time": "2023-07-08T22:13:58.492Z"
   },
   {
    "duration": 39,
    "start_time": "2023-07-08T22:14:07.682Z"
   },
   {
    "duration": 125,
    "start_time": "2023-07-08T22:18:23.297Z"
   },
   {
    "duration": 117,
    "start_time": "2023-07-08T22:18:46.370Z"
   },
   {
    "duration": 112,
    "start_time": "2023-07-08T22:18:50.060Z"
   },
   {
    "duration": 107,
    "start_time": "2023-07-08T22:23:26.549Z"
   },
   {
    "duration": 327,
    "start_time": "2023-07-08T22:25:02.587Z"
   },
   {
    "duration": 100,
    "start_time": "2023-07-08T22:25:42.597Z"
   },
   {
    "duration": 168,
    "start_time": "2023-07-08T22:25:45.813Z"
   },
   {
    "duration": 124,
    "start_time": "2023-07-08T22:29:36.278Z"
   },
   {
    "duration": 119,
    "start_time": "2023-07-08T22:30:52.981Z"
   },
   {
    "duration": 3,
    "start_time": "2023-07-08T22:41:03.022Z"
   },
   {
    "duration": 12,
    "start_time": "2023-07-08T22:42:37.432Z"
   },
   {
    "duration": 7,
    "start_time": "2023-07-08T22:43:04.448Z"
   },
   {
    "duration": 214,
    "start_time": "2023-07-08T22:43:20.629Z"
   },
   {
    "duration": 17,
    "start_time": "2023-07-08T22:43:38.469Z"
   },
   {
    "duration": 12,
    "start_time": "2023-07-08T22:45:14.029Z"
   },
   {
    "duration": 98,
    "start_time": "2023-07-08T22:48:41.813Z"
   },
   {
    "duration": 73057,
    "start_time": "2023-07-08T22:48:48.229Z"
   },
   {
    "duration": 73608,
    "start_time": "2023-07-08T22:53:51.138Z"
   },
   {
    "duration": 97,
    "start_time": "2023-07-08T22:56:20.936Z"
   },
   {
    "duration": 75871,
    "start_time": "2023-07-08T23:07:02.532Z"
   },
   {
    "duration": 146,
    "start_time": "2023-07-08T23:08:18.405Z"
   },
   {
    "duration": 1424,
    "start_time": "2023-07-08T23:09:41.789Z"
   },
   {
    "duration": 776,
    "start_time": "2023-07-08T23:09:43.215Z"
   },
   {
    "duration": 4,
    "start_time": "2023-07-08T23:09:43.996Z"
   },
   {
    "duration": 200,
    "start_time": "2023-07-08T23:09:44.002Z"
   },
   {
    "duration": 403,
    "start_time": "2023-07-08T23:09:44.204Z"
   },
   {
    "duration": 404,
    "start_time": "2023-07-08T23:09:44.609Z"
   },
   {
    "duration": 10,
    "start_time": "2023-07-08T23:09:45.014Z"
   },
   {
    "duration": 25,
    "start_time": "2023-07-08T23:09:45.026Z"
   },
   {
    "duration": 13,
    "start_time": "2023-07-08T23:09:45.053Z"
   },
   {
    "duration": 20,
    "start_time": "2023-07-08T23:09:45.068Z"
   },
   {
    "duration": 27,
    "start_time": "2023-07-08T23:09:45.090Z"
   },
   {
    "duration": 6,
    "start_time": "2023-07-08T23:09:45.118Z"
   },
   {
    "duration": 16,
    "start_time": "2023-07-08T23:09:45.126Z"
   },
   {
    "duration": 23,
    "start_time": "2023-07-08T23:09:45.144Z"
   },
   {
    "duration": 2,
    "start_time": "2023-07-08T23:09:45.169Z"
   },
   {
    "duration": 32,
    "start_time": "2023-07-08T23:09:45.172Z"
   },
   {
    "duration": 9,
    "start_time": "2023-07-08T23:09:45.206Z"
   },
   {
    "duration": 9,
    "start_time": "2023-07-08T23:09:45.216Z"
   },
   {
    "duration": 5,
    "start_time": "2023-07-08T23:09:45.227Z"
   },
   {
    "duration": 412,
    "start_time": "2023-07-08T23:09:45.252Z"
   },
   {
    "duration": 8,
    "start_time": "2023-07-08T23:09:45.666Z"
   },
   {
    "duration": 10,
    "start_time": "2023-07-08T23:09:45.676Z"
   },
   {
    "duration": 451,
    "start_time": "2023-07-08T23:09:45.688Z"
   },
   {
    "duration": 11,
    "start_time": "2023-07-08T23:09:46.141Z"
   },
   {
    "duration": 7,
    "start_time": "2023-07-08T23:09:46.154Z"
   },
   {
    "duration": 379,
    "start_time": "2023-07-08T23:09:46.162Z"
   },
   {
    "duration": 8,
    "start_time": "2023-07-08T23:09:46.551Z"
   },
   {
    "duration": 8,
    "start_time": "2023-07-08T23:09:46.560Z"
   },
   {
    "duration": 342,
    "start_time": "2023-07-08T23:09:46.569Z"
   },
   {
    "duration": 349,
    "start_time": "2023-07-08T23:09:46.914Z"
   },
   {
    "duration": 352,
    "start_time": "2023-07-08T23:09:47.265Z"
   },
   {
    "duration": 39,
    "start_time": "2023-07-08T23:09:47.618Z"
   },
   {
    "duration": 874,
    "start_time": "2023-07-08T23:09:47.659Z"
   },
   {
    "duration": 101,
    "start_time": "2023-07-08T23:09:48.535Z"
   },
   {
    "duration": 18,
    "start_time": "2023-07-08T23:09:48.638Z"
   },
   {
    "duration": 87,
    "start_time": "2023-07-08T23:09:48.658Z"
   },
   {
    "duration": 6,
    "start_time": "2023-07-08T23:09:48.748Z"
   },
   {
    "duration": 7,
    "start_time": "2023-07-08T23:09:48.755Z"
   },
   {
    "duration": 13,
    "start_time": "2023-07-08T23:09:48.764Z"
   },
   {
    "duration": 15,
    "start_time": "2023-07-08T23:09:48.778Z"
   },
   {
    "duration": 10,
    "start_time": "2023-07-08T23:09:48.795Z"
   },
   {
    "duration": 10,
    "start_time": "2023-07-08T23:09:48.806Z"
   },
   {
    "duration": 11,
    "start_time": "2023-07-08T23:09:48.817Z"
   },
   {
    "duration": 8,
    "start_time": "2023-07-08T23:09:48.830Z"
   },
   {
    "duration": 10,
    "start_time": "2023-07-08T23:09:48.840Z"
   },
   {
    "duration": 14,
    "start_time": "2023-07-08T23:09:48.852Z"
   },
   {
    "duration": 6,
    "start_time": "2023-07-08T23:09:48.868Z"
   },
   {
    "duration": 10,
    "start_time": "2023-07-08T23:09:48.876Z"
   },
   {
    "duration": 78677,
    "start_time": "2023-07-08T23:09:48.888Z"
   },
   {
    "duration": 107,
    "start_time": "2023-07-08T23:11:07.653Z"
   },
   {
    "duration": 16,
    "start_time": "2023-07-08T23:11:07.762Z"
   },
   {
    "duration": 53,
    "start_time": "2023-07-08T23:11:07.780Z"
   },
   {
    "duration": 228,
    "start_time": "2023-07-08T23:11:07.835Z"
   },
   {
    "duration": 3,
    "start_time": "2023-07-08T23:11:08.065Z"
   },
   {
    "duration": 77308,
    "start_time": "2023-07-08T23:11:08.069Z"
   },
   {
    "duration": 2787,
    "start_time": "2023-07-09T07:29:21.026Z"
   },
   {
    "duration": 2039,
    "start_time": "2023-07-09T07:29:23.815Z"
   },
   {
    "duration": 4,
    "start_time": "2023-07-09T07:29:25.855Z"
   },
   {
    "duration": 197,
    "start_time": "2023-07-09T07:29:25.861Z"
   },
   {
    "duration": 386,
    "start_time": "2023-07-09T07:29:26.061Z"
   },
   {
    "duration": 375,
    "start_time": "2023-07-09T07:29:26.452Z"
   },
   {
    "duration": 10,
    "start_time": "2023-07-09T07:29:26.829Z"
   },
   {
    "duration": 24,
    "start_time": "2023-07-09T07:29:26.841Z"
   },
   {
    "duration": 12,
    "start_time": "2023-07-09T07:29:26.867Z"
   },
   {
    "duration": 10,
    "start_time": "2023-07-09T07:29:26.881Z"
   },
   {
    "duration": 11,
    "start_time": "2023-07-09T07:29:26.892Z"
   },
   {
    "duration": 4,
    "start_time": "2023-07-09T07:29:26.905Z"
   },
   {
    "duration": 15,
    "start_time": "2023-07-09T07:29:26.910Z"
   },
   {
    "duration": 41,
    "start_time": "2023-07-09T07:29:26.927Z"
   },
   {
    "duration": 2,
    "start_time": "2023-07-09T07:29:26.969Z"
   },
   {
    "duration": 32,
    "start_time": "2023-07-09T07:29:26.973Z"
   },
   {
    "duration": 8,
    "start_time": "2023-07-09T07:29:27.007Z"
   },
   {
    "duration": 8,
    "start_time": "2023-07-09T07:29:27.017Z"
   },
   {
    "duration": 30,
    "start_time": "2023-07-09T07:29:27.026Z"
   },
   {
    "duration": 45,
    "start_time": "2023-07-09T07:29:27.057Z"
   },
   {
    "duration": 10,
    "start_time": "2023-07-09T07:29:57.429Z"
   },
   {
    "duration": 9,
    "start_time": "2023-07-09T07:30:15.067Z"
   },
   {
    "duration": 2891,
    "start_time": "2023-07-09T07:35:23.835Z"
   },
   {
    "duration": 705,
    "start_time": "2023-07-09T07:35:26.728Z"
   },
   {
    "duration": 4,
    "start_time": "2023-07-09T07:35:27.435Z"
   },
   {
    "duration": 198,
    "start_time": "2023-07-09T07:35:27.441Z"
   },
   {
    "duration": 407,
    "start_time": "2023-07-09T07:35:27.640Z"
   },
   {
    "duration": 455,
    "start_time": "2023-07-09T07:35:28.048Z"
   },
   {
    "duration": 12,
    "start_time": "2023-07-09T07:35:28.506Z"
   },
   {
    "duration": 44,
    "start_time": "2023-07-09T07:35:28.520Z"
   },
   {
    "duration": 23,
    "start_time": "2023-07-09T07:35:28.566Z"
   },
   {
    "duration": 22,
    "start_time": "2023-07-09T07:35:28.590Z"
   },
   {
    "duration": 14,
    "start_time": "2023-07-09T07:35:28.614Z"
   },
   {
    "duration": 33,
    "start_time": "2023-07-09T07:35:28.630Z"
   },
   {
    "duration": 19,
    "start_time": "2023-07-09T07:35:28.665Z"
   },
   {
    "duration": 33,
    "start_time": "2023-07-09T07:35:28.686Z"
   },
   {
    "duration": 3,
    "start_time": "2023-07-09T07:35:28.720Z"
   },
   {
    "duration": 58,
    "start_time": "2023-07-09T07:35:28.725Z"
   },
   {
    "duration": 10,
    "start_time": "2023-07-09T07:35:28.785Z"
   },
   {
    "duration": 12,
    "start_time": "2023-07-09T07:35:28.797Z"
   },
   {
    "duration": 21,
    "start_time": "2023-07-09T07:35:28.811Z"
   },
   {
    "duration": 400,
    "start_time": "2023-07-09T07:35:28.834Z"
   },
   {
    "duration": 8,
    "start_time": "2023-07-09T07:35:29.235Z"
   },
   {
    "duration": 25,
    "start_time": "2023-07-09T07:35:29.252Z"
   },
   {
    "duration": 451,
    "start_time": "2023-07-09T07:35:29.279Z"
   },
   {
    "duration": 8,
    "start_time": "2023-07-09T07:35:29.732Z"
   },
   {
    "duration": 19,
    "start_time": "2023-07-09T07:35:29.752Z"
   },
   {
    "duration": 397,
    "start_time": "2023-07-09T07:35:29.773Z"
   },
   {
    "duration": 8,
    "start_time": "2023-07-09T07:35:30.171Z"
   },
   {
    "duration": 30,
    "start_time": "2023-07-09T07:35:30.181Z"
   },
   {
    "duration": 356,
    "start_time": "2023-07-09T07:35:30.213Z"
   },
   {
    "duration": 347,
    "start_time": "2023-07-09T07:35:30.572Z"
   },
   {
    "duration": 342,
    "start_time": "2023-07-09T07:35:30.921Z"
   },
   {
    "duration": 31,
    "start_time": "2023-07-09T07:35:31.265Z"
   },
   {
    "duration": 788,
    "start_time": "2023-07-09T07:35:31.298Z"
   },
   {
    "duration": 101,
    "start_time": "2023-07-09T07:35:32.088Z"
   },
   {
    "duration": 11,
    "start_time": "2023-07-09T07:35:32.190Z"
   },
   {
    "duration": 85,
    "start_time": "2023-07-09T07:35:32.203Z"
   },
   {
    "duration": 4,
    "start_time": "2023-07-09T07:35:32.289Z"
   },
   {
    "duration": 7,
    "start_time": "2023-07-09T07:35:32.295Z"
   },
   {
    "duration": 10,
    "start_time": "2023-07-09T07:35:32.303Z"
   },
   {
    "duration": 12,
    "start_time": "2023-07-09T07:35:32.314Z"
   },
   {
    "duration": 13,
    "start_time": "2023-07-09T07:35:32.328Z"
   },
   {
    "duration": 10,
    "start_time": "2023-07-09T07:35:32.343Z"
   },
   {
    "duration": 15,
    "start_time": "2023-07-09T07:35:32.355Z"
   },
   {
    "duration": 21,
    "start_time": "2023-07-09T07:35:32.372Z"
   },
   {
    "duration": 125,
    "start_time": "2023-07-09T07:35:32.394Z"
   },
   {
    "duration": 11,
    "start_time": "2023-07-09T07:35:56.562Z"
   },
   {
    "duration": 14,
    "start_time": "2023-07-09T07:36:34.547Z"
   },
   {
    "duration": 16,
    "start_time": "2023-07-09T07:43:12.771Z"
   },
   {
    "duration": 9,
    "start_time": "2023-07-09T07:43:54.041Z"
   },
   {
    "duration": 8,
    "start_time": "2023-07-09T07:44:11.669Z"
   },
   {
    "duration": 12,
    "start_time": "2023-07-09T07:44:12.148Z"
   },
   {
    "duration": 14,
    "start_time": "2023-07-09T07:44:38.316Z"
   },
   {
    "duration": 51,
    "start_time": "2023-07-09T12:57:58.174Z"
   },
   {
    "duration": 6,
    "start_time": "2023-07-09T12:58:01.649Z"
   },
   {
    "duration": 2122,
    "start_time": "2023-07-09T12:58:08.008Z"
   },
   {
    "duration": 2112,
    "start_time": "2023-07-09T12:58:10.132Z"
   },
   {
    "duration": 3,
    "start_time": "2023-07-09T12:58:12.246Z"
   },
   {
    "duration": 183,
    "start_time": "2023-07-09T12:58:12.251Z"
   },
   {
    "duration": 382,
    "start_time": "2023-07-09T12:58:12.435Z"
   },
   {
    "duration": 350,
    "start_time": "2023-07-09T12:58:12.819Z"
   },
   {
    "duration": 9,
    "start_time": "2023-07-09T12:58:13.171Z"
   },
   {
    "duration": 22,
    "start_time": "2023-07-09T12:58:13.181Z"
   },
   {
    "duration": 12,
    "start_time": "2023-07-09T12:58:13.204Z"
   },
   {
    "duration": 11,
    "start_time": "2023-07-09T12:58:13.218Z"
   },
   {
    "duration": 14,
    "start_time": "2023-07-09T12:58:13.230Z"
   },
   {
    "duration": 4,
    "start_time": "2023-07-09T12:58:13.246Z"
   },
   {
    "duration": 25,
    "start_time": "2023-07-09T12:58:13.251Z"
   },
   {
    "duration": 114,
    "start_time": "2023-07-09T12:58:13.277Z"
   },
   {
    "duration": 0,
    "start_time": "2023-07-09T12:58:13.393Z"
   },
   {
    "duration": 0,
    "start_time": "2023-07-09T12:58:13.395Z"
   },
   {
    "duration": 0,
    "start_time": "2023-07-09T12:58:13.396Z"
   },
   {
    "duration": 0,
    "start_time": "2023-07-09T12:58:13.397Z"
   },
   {
    "duration": 0,
    "start_time": "2023-07-09T12:58:13.398Z"
   },
   {
    "duration": 0,
    "start_time": "2023-07-09T12:58:13.400Z"
   },
   {
    "duration": 0,
    "start_time": "2023-07-09T12:58:13.401Z"
   },
   {
    "duration": 0,
    "start_time": "2023-07-09T12:58:13.403Z"
   },
   {
    "duration": 0,
    "start_time": "2023-07-09T12:58:13.404Z"
   },
   {
    "duration": 0,
    "start_time": "2023-07-09T12:58:13.405Z"
   },
   {
    "duration": 0,
    "start_time": "2023-07-09T12:58:13.406Z"
   },
   {
    "duration": 0,
    "start_time": "2023-07-09T12:58:13.433Z"
   },
   {
    "duration": 0,
    "start_time": "2023-07-09T12:58:13.434Z"
   },
   {
    "duration": 0,
    "start_time": "2023-07-09T12:58:13.435Z"
   },
   {
    "duration": 0,
    "start_time": "2023-07-09T12:58:13.436Z"
   },
   {
    "duration": 0,
    "start_time": "2023-07-09T12:58:13.438Z"
   },
   {
    "duration": 0,
    "start_time": "2023-07-09T12:58:13.439Z"
   },
   {
    "duration": 0,
    "start_time": "2023-07-09T12:58:13.440Z"
   },
   {
    "duration": 0,
    "start_time": "2023-07-09T12:58:13.441Z"
   },
   {
    "duration": 0,
    "start_time": "2023-07-09T12:58:13.442Z"
   },
   {
    "duration": 0,
    "start_time": "2023-07-09T12:58:13.443Z"
   },
   {
    "duration": 0,
    "start_time": "2023-07-09T12:58:13.444Z"
   },
   {
    "duration": 0,
    "start_time": "2023-07-09T12:58:13.445Z"
   },
   {
    "duration": 0,
    "start_time": "2023-07-09T12:58:13.446Z"
   },
   {
    "duration": 0,
    "start_time": "2023-07-09T12:58:13.446Z"
   },
   {
    "duration": 0,
    "start_time": "2023-07-09T12:58:13.447Z"
   },
   {
    "duration": 0,
    "start_time": "2023-07-09T12:58:13.448Z"
   },
   {
    "duration": 0,
    "start_time": "2023-07-09T12:58:13.449Z"
   },
   {
    "duration": 0,
    "start_time": "2023-07-09T12:58:13.450Z"
   },
   {
    "duration": 0,
    "start_time": "2023-07-09T12:58:13.451Z"
   },
   {
    "duration": 0,
    "start_time": "2023-07-09T12:58:13.452Z"
   },
   {
    "duration": 0,
    "start_time": "2023-07-09T12:58:13.453Z"
   },
   {
    "duration": 1,
    "start_time": "2023-07-09T12:58:13.453Z"
   },
   {
    "duration": 0,
    "start_time": "2023-07-09T12:58:13.455Z"
   },
   {
    "duration": 0,
    "start_time": "2023-07-09T12:58:13.456Z"
   },
   {
    "duration": 0,
    "start_time": "2023-07-09T12:58:13.457Z"
   },
   {
    "duration": 0,
    "start_time": "2023-07-09T12:58:13.457Z"
   },
   {
    "duration": 0,
    "start_time": "2023-07-09T12:58:13.458Z"
   },
   {
    "duration": 0,
    "start_time": "2023-07-09T12:58:13.459Z"
   },
   {
    "duration": 0,
    "start_time": "2023-07-09T12:58:13.460Z"
   },
   {
    "duration": 0,
    "start_time": "2023-07-09T12:58:13.461Z"
   },
   {
    "duration": 0,
    "start_time": "2023-07-09T12:58:13.462Z"
   },
   {
    "duration": 17,
    "start_time": "2023-07-09T13:01:18.617Z"
   },
   {
    "duration": 23,
    "start_time": "2023-07-09T13:02:29.873Z"
   },
   {
    "duration": 27,
    "start_time": "2023-07-09T13:04:01.829Z"
   },
   {
    "duration": 25,
    "start_time": "2023-07-09T13:05:22.103Z"
   },
   {
    "duration": 8,
    "start_time": "2023-07-09T13:05:50.629Z"
   },
   {
    "duration": 8,
    "start_time": "2023-07-09T13:05:53.527Z"
   },
   {
    "duration": 6,
    "start_time": "2023-07-09T13:05:56.835Z"
   },
   {
    "duration": 8,
    "start_time": "2023-07-09T13:08:05.042Z"
   },
   {
    "duration": 7,
    "start_time": "2023-07-09T13:08:08.669Z"
   },
   {
    "duration": 6,
    "start_time": "2023-07-09T13:08:12.446Z"
   },
   {
    "duration": 376,
    "start_time": "2023-07-09T13:08:27.559Z"
   },
   {
    "duration": 290,
    "start_time": "2023-07-09T13:08:33.023Z"
   },
   {
    "duration": 299,
    "start_time": "2023-07-09T13:08:37.026Z"
   },
   {
    "duration": 351,
    "start_time": "2023-07-09T13:11:04.642Z"
   },
   {
    "duration": 79,
    "start_time": "2023-07-09T13:11:32.593Z"
   },
   {
    "duration": 80,
    "start_time": "2023-07-09T13:12:14.421Z"
   },
   {
    "duration": 69,
    "start_time": "2023-07-09T13:12:23.074Z"
   },
   {
    "duration": 143,
    "start_time": "2023-07-09T13:13:19.071Z"
   },
   {
    "duration": 92,
    "start_time": "2023-07-09T13:14:07.396Z"
   },
   {
    "duration": 1659,
    "start_time": "2023-07-09T13:15:10.159Z"
   },
   {
    "duration": 768,
    "start_time": "2023-07-09T13:15:11.820Z"
   },
   {
    "duration": 3,
    "start_time": "2023-07-09T13:15:12.590Z"
   },
   {
    "duration": 192,
    "start_time": "2023-07-09T13:15:12.595Z"
   },
   {
    "duration": 389,
    "start_time": "2023-07-09T13:15:12.788Z"
   },
   {
    "duration": 386,
    "start_time": "2023-07-09T13:15:13.179Z"
   },
   {
    "duration": 9,
    "start_time": "2023-07-09T13:15:13.566Z"
   },
   {
    "duration": 7,
    "start_time": "2023-07-09T13:15:13.576Z"
   },
   {
    "duration": 6,
    "start_time": "2023-07-09T13:15:13.584Z"
   },
   {
    "duration": 2,
    "start_time": "2023-07-09T13:15:13.592Z"
   },
   {
    "duration": 12,
    "start_time": "2023-07-09T13:15:13.595Z"
   },
   {
    "duration": 8,
    "start_time": "2023-07-09T13:15:13.632Z"
   },
   {
    "duration": 17,
    "start_time": "2023-07-09T13:15:13.645Z"
   },
   {
    "duration": 33,
    "start_time": "2023-07-09T13:15:13.664Z"
   },
   {
    "duration": 3,
    "start_time": "2023-07-09T13:15:13.699Z"
   },
   {
    "duration": 36,
    "start_time": "2023-07-09T13:15:13.704Z"
   },
   {
    "duration": 12,
    "start_time": "2023-07-09T13:15:13.741Z"
   },
   {
    "duration": 8,
    "start_time": "2023-07-09T13:15:13.755Z"
   },
   {
    "duration": 5,
    "start_time": "2023-07-09T13:15:13.764Z"
   },
   {
    "duration": 360,
    "start_time": "2023-07-09T13:15:13.771Z"
   },
   {
    "duration": 7,
    "start_time": "2023-07-09T13:15:14.133Z"
   },
   {
    "duration": 8,
    "start_time": "2023-07-09T13:15:14.141Z"
   },
   {
    "duration": 403,
    "start_time": "2023-07-09T13:15:14.150Z"
   },
   {
    "duration": 8,
    "start_time": "2023-07-09T13:15:14.555Z"
   },
   {
    "duration": 13,
    "start_time": "2023-07-09T13:15:14.564Z"
   },
   {
    "duration": 401,
    "start_time": "2023-07-09T13:15:14.578Z"
   },
   {
    "duration": 7,
    "start_time": "2023-07-09T13:15:14.980Z"
   },
   {
    "duration": 12,
    "start_time": "2023-07-09T13:15:14.990Z"
   },
   {
    "duration": 324,
    "start_time": "2023-07-09T13:15:15.003Z"
   },
   {
    "duration": 76,
    "start_time": "2023-07-09T13:15:15.329Z"
   },
   {
    "duration": 0,
    "start_time": "2023-07-09T13:15:15.406Z"
   },
   {
    "duration": 0,
    "start_time": "2023-07-09T13:15:15.407Z"
   },
   {
    "duration": 0,
    "start_time": "2023-07-09T13:15:15.408Z"
   },
   {
    "duration": 0,
    "start_time": "2023-07-09T13:15:15.409Z"
   },
   {
    "duration": 0,
    "start_time": "2023-07-09T13:15:15.410Z"
   },
   {
    "duration": 0,
    "start_time": "2023-07-09T13:15:15.411Z"
   },
   {
    "duration": 0,
    "start_time": "2023-07-09T13:15:15.412Z"
   },
   {
    "duration": 0,
    "start_time": "2023-07-09T13:15:15.414Z"
   },
   {
    "duration": 0,
    "start_time": "2023-07-09T13:15:15.415Z"
   },
   {
    "duration": 0,
    "start_time": "2023-07-09T13:15:15.417Z"
   },
   {
    "duration": 0,
    "start_time": "2023-07-09T13:15:15.419Z"
   },
   {
    "duration": 0,
    "start_time": "2023-07-09T13:15:15.420Z"
   },
   {
    "duration": 0,
    "start_time": "2023-07-09T13:15:15.422Z"
   },
   {
    "duration": 0,
    "start_time": "2023-07-09T13:15:15.423Z"
   },
   {
    "duration": 0,
    "start_time": "2023-07-09T13:15:15.424Z"
   },
   {
    "duration": 0,
    "start_time": "2023-07-09T13:15:15.425Z"
   },
   {
    "duration": 0,
    "start_time": "2023-07-09T13:15:15.426Z"
   },
   {
    "duration": 0,
    "start_time": "2023-07-09T13:15:15.427Z"
   },
   {
    "duration": 0,
    "start_time": "2023-07-09T13:15:15.428Z"
   },
   {
    "duration": 0,
    "start_time": "2023-07-09T13:15:15.429Z"
   },
   {
    "duration": 0,
    "start_time": "2023-07-09T13:15:15.431Z"
   },
   {
    "duration": 0,
    "start_time": "2023-07-09T13:15:15.432Z"
   },
   {
    "duration": 0,
    "start_time": "2023-07-09T13:15:15.432Z"
   },
   {
    "duration": 0,
    "start_time": "2023-07-09T13:15:15.433Z"
   },
   {
    "duration": 0,
    "start_time": "2023-07-09T13:15:15.435Z"
   },
   {
    "duration": 0,
    "start_time": "2023-07-09T13:15:15.435Z"
   },
   {
    "duration": 183,
    "start_time": "2023-07-09T13:15:27.425Z"
   },
   {
    "duration": 247,
    "start_time": "2023-07-09T13:15:34.176Z"
   },
   {
    "duration": 70,
    "start_time": "2023-07-09T13:15:42.888Z"
   },
   {
    "duration": 283,
    "start_time": "2023-07-09T13:15:58.423Z"
   },
   {
    "duration": 293,
    "start_time": "2023-07-09T13:16:12.320Z"
   },
   {
    "duration": 27,
    "start_time": "2023-07-09T13:16:38.850Z"
   },
   {
    "duration": 707,
    "start_time": "2023-07-09T13:16:43.021Z"
   },
   {
    "duration": 72,
    "start_time": "2023-07-09T13:16:48.623Z"
   },
   {
    "duration": 80,
    "start_time": "2023-07-09T13:17:53.890Z"
   },
   {
    "duration": 72,
    "start_time": "2023-07-09T13:18:05.566Z"
   },
   {
    "duration": 150,
    "start_time": "2023-07-09T13:18:30.326Z"
   },
   {
    "duration": 183,
    "start_time": "2023-07-09T13:18:41.066Z"
   },
   {
    "duration": 83,
    "start_time": "2023-07-09T13:18:58.151Z"
   },
   {
    "duration": 62,
    "start_time": "2023-07-09T13:19:04.490Z"
   },
   {
    "duration": 104,
    "start_time": "2023-07-09T13:33:45.427Z"
   },
   {
    "duration": 3,
    "start_time": "2023-07-09T13:33:52.780Z"
   },
   {
    "duration": 7,
    "start_time": "2023-07-09T13:33:55.224Z"
   },
   {
    "duration": 93,
    "start_time": "2023-07-09T13:34:17.941Z"
   },
   {
    "duration": 5,
    "start_time": "2023-07-09T13:34:29.668Z"
   },
   {
    "duration": 5,
    "start_time": "2023-07-09T13:34:30.660Z"
   },
   {
    "duration": 5,
    "start_time": "2023-07-09T13:34:31.456Z"
   },
   {
    "duration": 3,
    "start_time": "2023-07-09T13:34:32.398Z"
   },
   {
    "duration": 17,
    "start_time": "2023-07-09T13:34:36.623Z"
   },
   {
    "duration": 4,
    "start_time": "2023-07-09T13:35:12.543Z"
   },
   {
    "duration": 3,
    "start_time": "2023-07-09T13:41:42.552Z"
   },
   {
    "duration": 5,
    "start_time": "2023-07-09T13:44:04.492Z"
   },
   {
    "duration": 4,
    "start_time": "2023-07-09T13:44:06.827Z"
   },
   {
    "duration": 4,
    "start_time": "2023-07-09T13:44:09.737Z"
   },
   {
    "duration": 13,
    "start_time": "2023-07-09T13:44:12.168Z"
   },
   {
    "duration": 13,
    "start_time": "2023-07-09T13:44:18.995Z"
   },
   {
    "duration": 206,
    "start_time": "2023-07-09T13:44:43.066Z"
   },
   {
    "duration": 4,
    "start_time": "2023-07-09T13:46:17.435Z"
   },
   {
    "duration": 2,
    "start_time": "2023-07-09T13:46:27.486Z"
   },
   {
    "duration": 9,
    "start_time": "2023-07-09T13:46:30.822Z"
   },
   {
    "duration": 9,
    "start_time": "2023-07-09T13:46:36.789Z"
   },
   {
    "duration": 3,
    "start_time": "2023-07-09T13:46:46.281Z"
   },
   {
    "duration": 2,
    "start_time": "2023-07-09T13:46:48.940Z"
   },
   {
    "duration": 3,
    "start_time": "2023-07-09T13:46:54.736Z"
   },
   {
    "duration": 3,
    "start_time": "2023-07-09T13:46:59.397Z"
   },
   {
    "duration": 3,
    "start_time": "2023-07-09T13:47:03.124Z"
   },
   {
    "duration": 3,
    "start_time": "2023-07-09T13:47:10.004Z"
   },
   {
    "duration": 81659,
    "start_time": "2023-07-09T13:47:13.308Z"
   },
   {
    "duration": 1,
    "start_time": "2023-07-09T13:48:34.968Z"
   },
   {
    "duration": 0,
    "start_time": "2023-07-09T13:48:34.969Z"
   },
   {
    "duration": 13,
    "start_time": "2023-07-09T13:59:41.277Z"
   },
   {
    "duration": 4,
    "start_time": "2023-07-09T13:59:55.911Z"
   },
   {
    "duration": 9,
    "start_time": "2023-07-09T13:59:59.094Z"
   },
   {
    "duration": 1283,
    "start_time": "2023-07-09T14:00:55.789Z"
   },
   {
    "duration": 733,
    "start_time": "2023-07-09T14:00:57.074Z"
   },
   {
    "duration": 4,
    "start_time": "2023-07-09T14:00:57.808Z"
   },
   {
    "duration": 194,
    "start_time": "2023-07-09T14:00:57.814Z"
   },
   {
    "duration": 391,
    "start_time": "2023-07-09T14:00:58.010Z"
   },
   {
    "duration": 386,
    "start_time": "2023-07-09T14:00:58.403Z"
   },
   {
    "duration": 9,
    "start_time": "2023-07-09T14:00:58.791Z"
   },
   {
    "duration": 8,
    "start_time": "2023-07-09T14:00:58.802Z"
   },
   {
    "duration": 6,
    "start_time": "2023-07-09T14:00:58.811Z"
   },
   {
    "duration": 3,
    "start_time": "2023-07-09T14:00:58.831Z"
   },
   {
    "duration": 24,
    "start_time": "2023-07-09T14:00:58.836Z"
   },
   {
    "duration": 3,
    "start_time": "2023-07-09T14:00:58.862Z"
   },
   {
    "duration": 25,
    "start_time": "2023-07-09T14:00:58.867Z"
   },
   {
    "duration": 23,
    "start_time": "2023-07-09T14:00:58.894Z"
   },
   {
    "duration": 2,
    "start_time": "2023-07-09T14:00:58.918Z"
   },
   {
    "duration": 35,
    "start_time": "2023-07-09T14:00:58.922Z"
   },
   {
    "duration": 9,
    "start_time": "2023-07-09T14:00:58.959Z"
   },
   {
    "duration": 7,
    "start_time": "2023-07-09T14:00:58.969Z"
   },
   {
    "duration": 5,
    "start_time": "2023-07-09T14:00:58.977Z"
   },
   {
    "duration": 479,
    "start_time": "2023-07-09T14:00:58.984Z"
   },
   {
    "duration": 7,
    "start_time": "2023-07-09T14:00:59.465Z"
   },
   {
    "duration": 8,
    "start_time": "2023-07-09T14:00:59.473Z"
   },
   {
    "duration": 423,
    "start_time": "2023-07-09T14:00:59.482Z"
   },
   {
    "duration": 7,
    "start_time": "2023-07-09T14:00:59.907Z"
   },
   {
    "duration": 21,
    "start_time": "2023-07-09T14:00:59.916Z"
   },
   {
    "duration": 357,
    "start_time": "2023-07-09T14:00:59.938Z"
   },
   {
    "duration": 8,
    "start_time": "2023-07-09T14:01:00.297Z"
   },
   {
    "duration": 41,
    "start_time": "2023-07-09T14:01:00.307Z"
   },
   {
    "duration": 388,
    "start_time": "2023-07-09T14:01:00.350Z"
   },
   {
    "duration": 336,
    "start_time": "2023-07-09T14:01:00.740Z"
   },
   {
    "duration": 295,
    "start_time": "2023-07-09T14:01:01.078Z"
   },
   {
    "duration": 32,
    "start_time": "2023-07-09T14:01:01.375Z"
   },
   {
    "duration": 788,
    "start_time": "2023-07-09T14:01:01.409Z"
   },
   {
    "duration": 93,
    "start_time": "2023-07-09T14:01:02.199Z"
   },
   {
    "duration": 81,
    "start_time": "2023-07-09T14:01:02.294Z"
   },
   {
    "duration": 4,
    "start_time": "2023-07-09T14:01:02.377Z"
   },
   {
    "duration": 20,
    "start_time": "2023-07-09T14:01:02.382Z"
   },
   {
    "duration": 15,
    "start_time": "2023-07-09T14:01:02.404Z"
   },
   {
    "duration": 12,
    "start_time": "2023-07-09T14:01:02.421Z"
   },
   {
    "duration": 7,
    "start_time": "2023-07-09T14:01:02.435Z"
   },
   {
    "duration": 18,
    "start_time": "2023-07-09T14:01:02.446Z"
   },
   {
    "duration": 137,
    "start_time": "2023-07-09T14:01:02.466Z"
   },
   {
    "duration": 0,
    "start_time": "2023-07-09T14:01:02.604Z"
   },
   {
    "duration": 0,
    "start_time": "2023-07-09T14:01:02.606Z"
   },
   {
    "duration": 0,
    "start_time": "2023-07-09T14:01:02.607Z"
   },
   {
    "duration": 0,
    "start_time": "2023-07-09T14:01:02.608Z"
   },
   {
    "duration": 0,
    "start_time": "2023-07-09T14:01:02.609Z"
   },
   {
    "duration": 0,
    "start_time": "2023-07-09T14:01:02.610Z"
   },
   {
    "duration": 0,
    "start_time": "2023-07-09T14:01:02.611Z"
   },
   {
    "duration": 0,
    "start_time": "2023-07-09T14:01:02.612Z"
   },
   {
    "duration": 0,
    "start_time": "2023-07-09T14:01:02.613Z"
   },
   {
    "duration": 0,
    "start_time": "2023-07-09T14:01:02.614Z"
   },
   {
    "duration": 0,
    "start_time": "2023-07-09T14:01:02.615Z"
   },
   {
    "duration": 0,
    "start_time": "2023-07-09T14:01:02.632Z"
   },
   {
    "duration": 0,
    "start_time": "2023-07-09T14:01:02.633Z"
   },
   {
    "duration": 5,
    "start_time": "2023-07-09T14:14:10.155Z"
   },
   {
    "duration": 16,
    "start_time": "2023-07-09T14:14:48.440Z"
   },
   {
    "duration": 14,
    "start_time": "2023-07-09T14:14:51.294Z"
   },
   {
    "duration": 3,
    "start_time": "2023-07-09T14:17:36.201Z"
   },
   {
    "duration": 3,
    "start_time": "2023-07-09T14:17:38.731Z"
   },
   {
    "duration": 3,
    "start_time": "2023-07-09T14:18:15.614Z"
   },
   {
    "duration": 14,
    "start_time": "2023-07-09T14:19:31.935Z"
   },
   {
    "duration": 4,
    "start_time": "2023-07-09T14:20:17.987Z"
   },
   {
    "duration": 4,
    "start_time": "2023-07-09T14:20:21.260Z"
   },
   {
    "duration": 21,
    "start_time": "2023-07-09T14:20:24.091Z"
   },
   {
    "duration": 2,
    "start_time": "2023-07-09T14:20:36.934Z"
   },
   {
    "duration": 3,
    "start_time": "2023-07-09T14:20:39.122Z"
   },
   {
    "duration": 3,
    "start_time": "2023-07-09T14:21:13.898Z"
   },
   {
    "duration": 4,
    "start_time": "2023-07-09T14:21:15.939Z"
   },
   {
    "duration": 81370,
    "start_time": "2023-07-09T14:21:20.089Z"
   },
   {
    "duration": 6,
    "start_time": "2023-07-09T14:27:03.749Z"
   },
   {
    "duration": 4,
    "start_time": "2023-07-09T14:27:06.722Z"
   },
   {
    "duration": 4,
    "start_time": "2023-07-09T14:27:10.604Z"
   },
   {
    "duration": 13,
    "start_time": "2023-07-09T14:27:13.729Z"
   },
   {
    "duration": 98,
    "start_time": "2023-07-09T14:30:35.001Z"
   },
   {
    "duration": 15,
    "start_time": "2023-07-09T14:30:41.080Z"
   },
   {
    "duration": 10,
    "start_time": "2023-07-09T14:39:55.080Z"
   },
   {
    "duration": 10,
    "start_time": "2023-07-09T14:40:19.836Z"
   },
   {
    "duration": 4,
    "start_time": "2023-07-09T14:40:36.480Z"
   },
   {
    "duration": 3,
    "start_time": "2023-07-09T14:42:26.896Z"
   },
   {
    "duration": 4,
    "start_time": "2023-07-09T14:42:30.539Z"
   },
   {
    "duration": 9,
    "start_time": "2023-07-09T14:48:50.938Z"
   },
   {
    "duration": 3,
    "start_time": "2023-07-09T14:48:59.654Z"
   },
   {
    "duration": 17,
    "start_time": "2023-07-09T14:49:11.337Z"
   },
   {
    "duration": 13,
    "start_time": "2023-07-09T14:49:33.987Z"
   },
   {
    "duration": 4,
    "start_time": "2023-07-09T14:49:44.285Z"
   },
   {
    "duration": 1440,
    "start_time": "2023-07-09T14:58:44.690Z"
   },
   {
    "duration": 788,
    "start_time": "2023-07-09T14:58:46.132Z"
   },
   {
    "duration": 10,
    "start_time": "2023-07-09T14:58:46.922Z"
   },
   {
    "duration": 198,
    "start_time": "2023-07-09T14:58:46.933Z"
   },
   {
    "duration": 381,
    "start_time": "2023-07-09T14:58:47.134Z"
   },
   {
    "duration": 398,
    "start_time": "2023-07-09T14:58:47.516Z"
   },
   {
    "duration": 9,
    "start_time": "2023-07-09T14:58:47.915Z"
   },
   {
    "duration": 12,
    "start_time": "2023-07-09T14:58:47.931Z"
   },
   {
    "duration": 6,
    "start_time": "2023-07-09T14:58:47.945Z"
   },
   {
    "duration": 10,
    "start_time": "2023-07-09T14:58:47.952Z"
   },
   {
    "duration": 15,
    "start_time": "2023-07-09T14:58:47.964Z"
   },
   {
    "duration": 30,
    "start_time": "2023-07-09T14:58:47.981Z"
   },
   {
    "duration": 39,
    "start_time": "2023-07-09T14:58:48.014Z"
   },
   {
    "duration": 30,
    "start_time": "2023-07-09T14:58:48.057Z"
   },
   {
    "duration": 2,
    "start_time": "2023-07-09T14:58:48.088Z"
   },
   {
    "duration": 40,
    "start_time": "2023-07-09T14:58:48.092Z"
   },
   {
    "duration": 9,
    "start_time": "2023-07-09T14:58:48.134Z"
   },
   {
    "duration": 9,
    "start_time": "2023-07-09T14:58:48.145Z"
   },
   {
    "duration": 7,
    "start_time": "2023-07-09T14:58:48.155Z"
   },
   {
    "duration": 370,
    "start_time": "2023-07-09T14:58:48.164Z"
   },
   {
    "duration": 6,
    "start_time": "2023-07-09T14:58:48.536Z"
   },
   {
    "duration": 10,
    "start_time": "2023-07-09T14:58:48.544Z"
   },
   {
    "duration": 418,
    "start_time": "2023-07-09T14:58:48.555Z"
   },
   {
    "duration": 7,
    "start_time": "2023-07-09T14:58:48.975Z"
   },
   {
    "duration": 14,
    "start_time": "2023-07-09T14:58:48.984Z"
   },
   {
    "duration": 359,
    "start_time": "2023-07-09T14:58:49.000Z"
   },
   {
    "duration": 7,
    "start_time": "2023-07-09T14:58:49.361Z"
   },
   {
    "duration": 9,
    "start_time": "2023-07-09T14:58:49.370Z"
   },
   {
    "duration": 325,
    "start_time": "2023-07-09T14:58:49.380Z"
   },
   {
    "duration": 311,
    "start_time": "2023-07-09T14:58:49.707Z"
   },
   {
    "duration": 303,
    "start_time": "2023-07-09T14:58:50.020Z"
   },
   {
    "duration": 34,
    "start_time": "2023-07-09T14:58:50.325Z"
   },
   {
    "duration": 737,
    "start_time": "2023-07-09T14:58:50.360Z"
   },
   {
    "duration": 88,
    "start_time": "2023-07-09T14:58:51.099Z"
   },
   {
    "duration": 76,
    "start_time": "2023-07-09T14:58:51.189Z"
   },
   {
    "duration": 3,
    "start_time": "2023-07-09T14:58:51.267Z"
   },
   {
    "duration": 9,
    "start_time": "2023-07-09T14:58:51.272Z"
   },
   {
    "duration": 27,
    "start_time": "2023-07-09T14:58:51.283Z"
   },
   {
    "duration": 14,
    "start_time": "2023-07-09T14:58:51.311Z"
   },
   {
    "duration": 4,
    "start_time": "2023-07-09T14:58:51.327Z"
   },
   {
    "duration": 15,
    "start_time": "2023-07-09T14:58:51.335Z"
   },
   {
    "duration": 3,
    "start_time": "2023-07-09T14:58:51.352Z"
   },
   {
    "duration": 14,
    "start_time": "2023-07-09T14:58:51.357Z"
   },
   {
    "duration": 7,
    "start_time": "2023-07-09T14:58:51.373Z"
   },
   {
    "duration": 12,
    "start_time": "2023-07-09T14:58:51.381Z"
   },
   {
    "duration": 6,
    "start_time": "2023-07-09T14:58:51.395Z"
   },
   {
    "duration": 29,
    "start_time": "2023-07-09T14:58:51.403Z"
   },
   {
    "duration": 3,
    "start_time": "2023-07-09T14:58:51.434Z"
   },
   {
    "duration": 6,
    "start_time": "2023-07-09T14:58:51.438Z"
   },
   {
    "duration": 10,
    "start_time": "2023-07-09T14:58:51.446Z"
   },
   {
    "duration": 6,
    "start_time": "2023-07-09T14:58:51.458Z"
   },
   {
    "duration": 0,
    "start_time": "2023-07-09T15:25:06.565Z"
   },
   {
    "duration": 0,
    "start_time": "2023-07-09T15:25:06.566Z"
   },
   {
    "duration": 0,
    "start_time": "2023-07-09T15:25:06.568Z"
   },
   {
    "duration": 0,
    "start_time": "2023-07-09T15:25:06.570Z"
   },
   {
    "duration": 0,
    "start_time": "2023-07-09T15:25:06.573Z"
   },
   {
    "duration": 0,
    "start_time": "2023-07-09T15:25:06.574Z"
   },
   {
    "duration": 0,
    "start_time": "2023-07-09T15:25:06.576Z"
   },
   {
    "duration": 0,
    "start_time": "2023-07-09T15:25:06.577Z"
   },
   {
    "duration": 3,
    "start_time": "2023-07-09T15:28:18.679Z"
   },
   {
    "duration": 4,
    "start_time": "2023-07-09T15:28:22.287Z"
   },
   {
    "duration": 3,
    "start_time": "2023-07-09T15:28:26.514Z"
   },
   {
    "duration": 3,
    "start_time": "2023-07-09T15:28:34.071Z"
   },
   {
    "duration": 4,
    "start_time": "2023-07-09T15:28:58.171Z"
   },
   {
    "duration": 4,
    "start_time": "2023-07-09T15:28:58.805Z"
   },
   {
    "duration": 4,
    "start_time": "2023-07-09T15:35:54.665Z"
   },
   {
    "duration": 4,
    "start_time": "2023-07-09T15:35:57.860Z"
   },
   {
    "duration": 0,
    "start_time": "2023-07-09T15:40:27.293Z"
   },
   {
    "duration": 0,
    "start_time": "2023-07-09T15:40:27.294Z"
   },
   {
    "duration": 0,
    "start_time": "2023-07-09T15:40:27.295Z"
   },
   {
    "duration": 0,
    "start_time": "2023-07-09T15:40:27.296Z"
   },
   {
    "duration": 2,
    "start_time": "2023-07-09T15:41:03.610Z"
   },
   {
    "duration": 3,
    "start_time": "2023-07-09T15:41:15.788Z"
   },
   {
    "duration": 2,
    "start_time": "2023-07-09T15:41:17.510Z"
   },
   {
    "duration": 2,
    "start_time": "2023-07-09T15:41:21.196Z"
   },
   {
    "duration": 3,
    "start_time": "2023-07-09T15:41:24.791Z"
   },
   {
    "duration": 2,
    "start_time": "2023-07-09T15:41:37.326Z"
   },
   {
    "duration": 3,
    "start_time": "2023-07-09T15:41:39.945Z"
   },
   {
    "duration": 51,
    "start_time": "2023-07-09T15:42:56.072Z"
   },
   {
    "duration": 3,
    "start_time": "2023-07-09T15:43:29.725Z"
   },
   {
    "duration": 4,
    "start_time": "2023-07-09T15:43:34.452Z"
   },
   {
    "duration": 386,
    "start_time": "2023-07-09T15:44:44.960Z"
   },
   {
    "duration": 362,
    "start_time": "2023-07-09T15:45:11.391Z"
   },
   {
    "duration": 10,
    "start_time": "2023-07-09T15:45:44.200Z"
   },
   {
    "duration": 11,
    "start_time": "2023-07-09T15:48:03.946Z"
   },
   {
    "duration": 3,
    "start_time": "2023-07-09T15:48:28.158Z"
   },
   {
    "duration": 8,
    "start_time": "2023-07-09T15:48:41.069Z"
   },
   {
    "duration": 53,
    "start_time": "2023-07-09T15:49:47.573Z"
   },
   {
    "duration": 69,
    "start_time": "2023-07-09T15:50:17.709Z"
   },
   {
    "duration": 11,
    "start_time": "2023-07-09T15:50:23.676Z"
   },
   {
    "duration": 44,
    "start_time": "2023-07-09T15:54:55.718Z"
   },
   {
    "duration": 51,
    "start_time": "2023-07-09T15:55:22.542Z"
   },
   {
    "duration": 277,
    "start_time": "2023-07-09T15:55:43.104Z"
   },
   {
    "duration": 39,
    "start_time": "2023-07-09T15:55:54.146Z"
   },
   {
    "duration": 43,
    "start_time": "2023-07-09T15:56:11.909Z"
   },
   {
    "duration": 15,
    "start_time": "2023-07-09T15:57:43.092Z"
   },
   {
    "duration": 4,
    "start_time": "2023-07-09T15:57:51.695Z"
   },
   {
    "duration": 62018,
    "start_time": "2023-07-09T16:03:49.033Z"
   },
   {
    "duration": 0,
    "start_time": "2023-07-09T16:04:51.053Z"
   },
   {
    "duration": 0,
    "start_time": "2023-07-09T16:04:51.056Z"
   },
   {
    "duration": 7,
    "start_time": "2023-07-09T16:04:53.879Z"
   },
   {
    "duration": 8,
    "start_time": "2023-07-09T16:04:59.524Z"
   },
   {
    "duration": 9,
    "start_time": "2023-07-09T16:06:33.527Z"
   },
   {
    "duration": 3,
    "start_time": "2023-07-09T16:07:12.217Z"
   },
   {
    "duration": 2,
    "start_time": "2023-07-09T16:07:14.206Z"
   },
   {
    "duration": 4,
    "start_time": "2023-07-09T16:07:24.772Z"
   },
   {
    "duration": 363535,
    "start_time": "2023-07-09T16:07:27.397Z"
   },
   {
    "duration": 18,
    "start_time": "2023-07-09T16:15:59.055Z"
   },
   {
    "duration": 18,
    "start_time": "2023-07-09T16:16:04.584Z"
   },
   {
    "duration": 10,
    "start_time": "2023-07-09T16:17:31.606Z"
   },
   {
    "duration": 116,
    "start_time": "2023-07-09T16:18:22.655Z"
   },
   {
    "duration": 15,
    "start_time": "2023-07-09T16:18:52.465Z"
   },
   {
    "duration": 17650,
    "start_time": "2023-07-09T16:22:28.987Z"
   },
   {
    "duration": 12,
    "start_time": "2023-07-09T16:23:13.659Z"
   },
   {
    "duration": 26,
    "start_time": "2023-07-09T16:24:08.511Z"
   },
   {
    "duration": 35,
    "start_time": "2023-07-09T16:24:26.691Z"
   },
   {
    "duration": 31,
    "start_time": "2023-07-09T16:26:20.975Z"
   },
   {
    "duration": 38,
    "start_time": "2023-07-09T16:26:39.021Z"
   },
   {
    "duration": 31,
    "start_time": "2023-07-09T16:31:03.147Z"
   },
   {
    "duration": 12,
    "start_time": "2023-07-09T16:31:47.641Z"
   },
   {
    "duration": 71,
    "start_time": "2023-07-09T16:32:33.994Z"
   },
   {
    "duration": 53,
    "start_time": "2023-07-09T16:34:10.573Z"
   },
   {
    "duration": 65,
    "start_time": "2023-07-09T16:35:14.529Z"
   },
   {
    "duration": 44,
    "start_time": "2023-07-09T16:38:07.383Z"
   },
   {
    "duration": 37,
    "start_time": "2023-07-09T16:38:36.102Z"
   },
   {
    "duration": 36,
    "start_time": "2023-07-09T16:39:02.357Z"
   },
   {
    "duration": 58,
    "start_time": "2023-07-09T16:39:17.617Z"
   },
   {
    "duration": 99,
    "start_time": "2023-07-09T16:39:39.619Z"
   },
   {
    "duration": 3,
    "start_time": "2023-07-09T16:45:18.296Z"
   },
   {
    "duration": 14,
    "start_time": "2023-07-09T16:46:41.893Z"
   },
   {
    "duration": 14,
    "start_time": "2023-07-09T16:54:15.566Z"
   },
   {
    "duration": 14,
    "start_time": "2023-07-09T16:54:26.104Z"
   },
   {
    "duration": 18,
    "start_time": "2023-07-09T16:55:08.441Z"
   },
   {
    "duration": 151,
    "start_time": "2023-07-09T16:55:32.954Z"
   },
   {
    "duration": 15,
    "start_time": "2023-07-09T16:58:55.404Z"
   },
   {
    "duration": 12,
    "start_time": "2023-07-09T17:00:21.295Z"
   },
   {
    "duration": 14,
    "start_time": "2023-07-09T17:01:47.100Z"
   },
   {
    "duration": 11,
    "start_time": "2023-07-09T17:12:00.345Z"
   },
   {
    "duration": 11,
    "start_time": "2023-07-09T17:17:30.888Z"
   },
   {
    "duration": 184,
    "start_time": "2023-07-09T17:18:01.888Z"
   },
   {
    "duration": 13,
    "start_time": "2023-07-09T17:21:28.217Z"
   },
   {
    "duration": 21,
    "start_time": "2023-07-09T17:21:39.802Z"
   },
   {
    "duration": 16,
    "start_time": "2023-07-09T17:24:13.417Z"
   },
   {
    "duration": 34,
    "start_time": "2023-07-09T17:24:20.678Z"
   },
   {
    "duration": 5,
    "start_time": "2023-07-09T17:24:38.643Z"
   },
   {
    "duration": 7,
    "start_time": "2023-07-09T17:24:47.499Z"
   },
   {
    "duration": 3,
    "start_time": "2023-07-09T17:38:47.367Z"
   },
   {
    "duration": 4,
    "start_time": "2023-07-09T17:38:56.848Z"
   },
   {
    "duration": 3,
    "start_time": "2023-07-09T17:41:37.918Z"
   },
   {
    "duration": 6,
    "start_time": "2023-07-09T17:42:01.789Z"
   },
   {
    "duration": 6,
    "start_time": "2023-07-09T17:42:48.656Z"
   },
   {
    "duration": 22,
    "start_time": "2023-07-09T17:59:04.454Z"
   },
   {
    "duration": 13,
    "start_time": "2023-07-09T17:59:24.469Z"
   },
   {
    "duration": 2,
    "start_time": "2023-07-09T18:03:05.392Z"
   },
   {
    "duration": 4,
    "start_time": "2023-07-09T18:03:05.955Z"
   },
   {
    "duration": 4,
    "start_time": "2023-07-09T18:03:06.437Z"
   },
   {
    "duration": 4,
    "start_time": "2023-07-09T18:18:26.655Z"
   },
   {
    "duration": 150,
    "start_time": "2023-07-09T18:26:04.973Z"
   },
   {
    "duration": 164,
    "start_time": "2023-07-09T18:30:56.011Z"
   },
   {
    "duration": 5,
    "start_time": "2023-07-09T18:32:47.261Z"
   },
   {
    "duration": 12,
    "start_time": "2023-07-09T18:32:51.398Z"
   },
   {
    "duration": 15,
    "start_time": "2023-07-09T18:40:26.717Z"
   },
   {
    "duration": 21,
    "start_time": "2023-07-09T18:42:48.454Z"
   },
   {
    "duration": 19,
    "start_time": "2023-07-09T18:43:08.265Z"
   },
   {
    "duration": 156,
    "start_time": "2023-07-09T18:43:12.972Z"
   },
   {
    "duration": 62,
    "start_time": "2023-07-09T18:44:23.923Z"
   },
   {
    "duration": 42,
    "start_time": "2023-07-09T18:47:06.227Z"
   },
   {
    "duration": 30,
    "start_time": "2023-07-09T18:47:18.356Z"
   },
   {
    "duration": 49,
    "start_time": "2023-07-09T18:47:44.535Z"
   },
   {
    "duration": 46,
    "start_time": "2023-07-09T18:47:53.571Z"
   },
   {
    "duration": 1671,
    "start_time": "2023-07-09T18:49:13.024Z"
   },
   {
    "duration": 22,
    "start_time": "2023-07-09T18:50:05.899Z"
   },
   {
    "duration": 14,
    "start_time": "2023-07-09T18:50:25.831Z"
   },
   {
    "duration": 13,
    "start_time": "2023-07-09T19:07:49.197Z"
   },
   {
    "duration": 15,
    "start_time": "2023-07-09T19:08:15.000Z"
   },
   {
    "duration": 14,
    "start_time": "2023-07-09T19:08:28.488Z"
   },
   {
    "duration": 13,
    "start_time": "2023-07-09T19:09:46.657Z"
   },
   {
    "duration": 28,
    "start_time": "2023-07-09T19:10:06.954Z"
   },
   {
    "duration": 27,
    "start_time": "2023-07-09T19:10:20.198Z"
   },
   {
    "duration": 31,
    "start_time": "2023-07-09T19:15:50.742Z"
   },
   {
    "duration": 18,
    "start_time": "2023-07-09T19:16:25.030Z"
   },
   {
    "duration": 1498,
    "start_time": "2023-07-09T19:21:01.799Z"
   },
   {
    "duration": 872,
    "start_time": "2023-07-09T19:21:03.298Z"
   },
   {
    "duration": 4,
    "start_time": "2023-07-09T19:21:04.171Z"
   },
   {
    "duration": 206,
    "start_time": "2023-07-09T19:21:04.177Z"
   },
   {
    "duration": 417,
    "start_time": "2023-07-09T19:21:04.385Z"
   },
   {
    "duration": 424,
    "start_time": "2023-07-09T19:21:04.805Z"
   },
   {
    "duration": 17,
    "start_time": "2023-07-09T19:21:05.230Z"
   },
   {
    "duration": 37,
    "start_time": "2023-07-09T19:21:05.253Z"
   },
   {
    "duration": 19,
    "start_time": "2023-07-09T19:21:05.292Z"
   },
   {
    "duration": 7,
    "start_time": "2023-07-09T19:21:05.314Z"
   },
   {
    "duration": 89,
    "start_time": "2023-07-09T19:21:05.323Z"
   },
   {
    "duration": 48,
    "start_time": "2023-07-09T19:21:05.414Z"
   },
   {
    "duration": 24,
    "start_time": "2023-07-09T19:21:05.463Z"
   },
   {
    "duration": 2,
    "start_time": "2023-07-09T19:21:05.489Z"
   },
   {
    "duration": 51,
    "start_time": "2023-07-09T19:21:05.493Z"
   },
   {
    "duration": 63,
    "start_time": "2023-07-09T19:21:05.545Z"
   },
   {
    "duration": 11,
    "start_time": "2023-07-09T19:21:05.610Z"
   },
   {
    "duration": 49,
    "start_time": "2023-07-09T19:21:05.622Z"
   },
   {
    "duration": 37,
    "start_time": "2023-07-09T19:21:05.673Z"
   },
   {
    "duration": 405,
    "start_time": "2023-07-09T19:21:05.712Z"
   },
   {
    "duration": 18,
    "start_time": "2023-07-09T19:21:06.119Z"
   },
   {
    "duration": 41,
    "start_time": "2023-07-09T19:21:06.138Z"
   },
   {
    "duration": 441,
    "start_time": "2023-07-09T19:21:06.181Z"
   },
   {
    "duration": 36,
    "start_time": "2023-07-09T19:21:06.623Z"
   },
   {
    "duration": 6,
    "start_time": "2023-07-09T19:21:06.661Z"
   },
   {
    "duration": 369,
    "start_time": "2023-07-09T19:21:06.668Z"
   },
   {
    "duration": 13,
    "start_time": "2023-07-09T19:21:07.045Z"
   },
   {
    "duration": 6,
    "start_time": "2023-07-09T19:21:07.062Z"
   },
   {
    "duration": 309,
    "start_time": "2023-07-09T19:21:07.070Z"
   },
   {
    "duration": 344,
    "start_time": "2023-07-09T19:21:07.380Z"
   },
   {
    "duration": 332,
    "start_time": "2023-07-09T19:21:07.733Z"
   },
   {
    "duration": 29,
    "start_time": "2023-07-09T19:21:08.067Z"
   },
   {
    "duration": 793,
    "start_time": "2023-07-09T19:21:08.097Z"
   },
   {
    "duration": 97,
    "start_time": "2023-07-09T19:21:08.892Z"
   },
   {
    "duration": 82,
    "start_time": "2023-07-09T19:21:08.991Z"
   },
   {
    "duration": 3,
    "start_time": "2023-07-09T19:21:09.075Z"
   },
   {
    "duration": 15,
    "start_time": "2023-07-09T19:21:09.079Z"
   },
   {
    "duration": 7,
    "start_time": "2023-07-09T19:21:09.095Z"
   },
   {
    "duration": 15,
    "start_time": "2023-07-09T19:21:09.103Z"
   },
   {
    "duration": 36,
    "start_time": "2023-07-09T19:21:09.120Z"
   },
   {
    "duration": 14,
    "start_time": "2023-07-09T19:21:09.158Z"
   },
   {
    "duration": 15,
    "start_time": "2023-07-09T19:21:09.174Z"
   },
   {
    "duration": 23,
    "start_time": "2023-07-09T19:21:09.191Z"
   },
   {
    "duration": 14,
    "start_time": "2023-07-09T19:21:09.215Z"
   },
   {
    "duration": 35,
    "start_time": "2023-07-09T19:21:09.231Z"
   },
   {
    "duration": 6,
    "start_time": "2023-07-09T19:21:09.268Z"
   },
   {
    "duration": 8,
    "start_time": "2023-07-09T19:21:09.275Z"
   },
   {
    "duration": 6,
    "start_time": "2023-07-09T19:21:09.284Z"
   },
   {
    "duration": 7,
    "start_time": "2023-07-09T19:21:09.291Z"
   },
   {
    "duration": 10,
    "start_time": "2023-07-09T19:21:09.299Z"
   },
   {
    "duration": 12,
    "start_time": "2023-07-09T19:21:09.311Z"
   },
   {
    "duration": 46,
    "start_time": "2023-07-09T19:21:09.325Z"
   },
   {
    "duration": 33,
    "start_time": "2023-07-09T19:21:09.372Z"
   },
   {
    "duration": 48,
    "start_time": "2023-07-09T19:27:31.155Z"
   },
   {
    "duration": 68,
    "start_time": "2023-07-09T19:27:31.205Z"
   },
   {
    "duration": 166,
    "start_time": "2023-07-09T19:27:31.274Z"
   },
   {
    "duration": 0,
    "start_time": "2023-07-09T19:27:31.445Z"
   },
   {
    "duration": 0,
    "start_time": "2023-07-09T19:27:31.446Z"
   },
   {
    "duration": 0,
    "start_time": "2023-07-09T19:27:31.447Z"
   },
   {
    "duration": 0,
    "start_time": "2023-07-09T19:27:31.449Z"
   },
   {
    "duration": 0,
    "start_time": "2023-07-09T19:27:31.454Z"
   },
   {
    "duration": 0,
    "start_time": "2023-07-09T19:27:31.454Z"
   },
   {
    "duration": 0,
    "start_time": "2023-07-09T19:27:31.459Z"
   },
   {
    "duration": 0,
    "start_time": "2023-07-09T19:27:31.461Z"
   },
   {
    "duration": 15,
    "start_time": "2023-07-09T19:27:38.093Z"
   },
   {
    "duration": 16,
    "start_time": "2023-07-09T19:28:08.259Z"
   },
   {
    "duration": 18,
    "start_time": "2023-07-09T19:28:22.048Z"
   },
   {
    "duration": 15,
    "start_time": "2023-07-09T19:28:24.291Z"
   },
   {
    "duration": 25,
    "start_time": "2023-07-09T19:28:38.622Z"
   },
   {
    "duration": 11,
    "start_time": "2023-07-09T19:29:47.489Z"
   },
   {
    "duration": 10,
    "start_time": "2023-07-09T19:30:52.930Z"
   },
   {
    "duration": 5,
    "start_time": "2023-07-09T19:30:53.619Z"
   },
   {
    "duration": 384320,
    "start_time": "2023-07-09T19:30:54.327Z"
   },
   {
    "duration": 18,
    "start_time": "2023-07-09T19:37:38.017Z"
   },
   {
    "duration": 21,
    "start_time": "2023-07-09T19:38:13.434Z"
   },
   {
    "duration": 17,
    "start_time": "2023-07-09T19:38:31.672Z"
   },
   {
    "duration": 27,
    "start_time": "2023-07-09T19:39:03.592Z"
   },
   {
    "duration": 22,
    "start_time": "2023-07-09T19:40:03.235Z"
   },
   {
    "duration": 36,
    "start_time": "2023-07-09T19:40:47.754Z"
   },
   {
    "duration": 35,
    "start_time": "2023-07-09T19:40:54.023Z"
   },
   {
    "duration": 31,
    "start_time": "2023-07-09T19:40:56.554Z"
   },
   {
    "duration": 40,
    "start_time": "2023-07-09T19:40:59.317Z"
   },
   {
    "duration": 33,
    "start_time": "2023-07-09T19:41:01.721Z"
   },
   {
    "duration": 32,
    "start_time": "2023-07-09T19:41:07.659Z"
   },
   {
    "duration": 30,
    "start_time": "2023-07-09T19:41:12.893Z"
   },
   {
    "duration": 44,
    "start_time": "2023-07-09T19:41:21.628Z"
   },
   {
    "duration": 34,
    "start_time": "2023-07-09T19:41:26.483Z"
   },
   {
    "duration": 48,
    "start_time": "2023-07-09T19:41:29.329Z"
   },
   {
    "duration": 36,
    "start_time": "2023-07-09T19:41:31.985Z"
   },
   {
    "duration": 66,
    "start_time": "2023-07-09T19:43:41.474Z"
   },
   {
    "duration": 24,
    "start_time": "2023-07-09T19:44:30.015Z"
   },
   {
    "duration": 4,
    "start_time": "2023-07-09T19:44:42.717Z"
   },
   {
    "duration": 985,
    "start_time": "2023-07-09T19:44:43.794Z"
   },
   {
    "duration": 13,
    "start_time": "2023-07-09T19:44:44.782Z"
   },
   {
    "duration": 7,
    "start_time": "2023-07-09T19:44:48.857Z"
   },
   {
    "duration": 224,
    "start_time": "2023-07-09T19:44:51.381Z"
   },
   {
    "duration": 451,
    "start_time": "2023-07-09T19:45:04.656Z"
   },
   {
    "duration": 10,
    "start_time": "2023-07-09T19:45:15.997Z"
   },
   {
    "duration": 8,
    "start_time": "2023-07-09T19:45:20.356Z"
   },
   {
    "duration": 28,
    "start_time": "2023-07-09T19:45:28.258Z"
   },
   {
    "duration": 131,
    "start_time": "2023-07-09T19:49:43.527Z"
   },
   {
    "duration": 2296,
    "start_time": "2023-07-09T19:49:59.128Z"
   },
   {
    "duration": 2501,
    "start_time": "2023-07-09T19:50:17.917Z"
   },
   {
    "duration": 23,
    "start_time": "2023-07-09T19:50:29.099Z"
   },
   {
    "duration": 16,
    "start_time": "2023-07-09T19:58:42.659Z"
   },
   {
    "duration": 21,
    "start_time": "2023-07-09T20:00:03.588Z"
   },
   {
    "duration": 2790,
    "start_time": "2023-07-10T09:32:28.224Z"
   },
   {
    "duration": 716,
    "start_time": "2023-07-10T09:32:31.016Z"
   },
   {
    "duration": 4,
    "start_time": "2023-07-10T09:32:31.733Z"
   },
   {
    "duration": 199,
    "start_time": "2023-07-10T09:32:31.738Z"
   },
   {
    "duration": 381,
    "start_time": "2023-07-10T09:32:31.939Z"
   },
   {
    "duration": 383,
    "start_time": "2023-07-10T09:32:32.322Z"
   },
   {
    "duration": 9,
    "start_time": "2023-07-10T09:32:32.706Z"
   },
   {
    "duration": 56,
    "start_time": "2023-07-10T09:32:32.717Z"
   },
   {
    "duration": 27,
    "start_time": "2023-07-10T09:32:32.774Z"
   },
   {
    "duration": 106,
    "start_time": "2023-07-10T09:32:32.803Z"
   },
   {
    "duration": 109,
    "start_time": "2023-07-10T09:32:32.911Z"
   },
   {
    "duration": 103,
    "start_time": "2023-07-10T09:32:33.022Z"
   },
   {
    "duration": 318,
    "start_time": "2023-07-10T09:32:33.126Z"
   },
   {
    "duration": 126,
    "start_time": "2023-07-10T09:32:33.446Z"
   },
   {
    "duration": 100,
    "start_time": "2023-07-10T09:32:33.574Z"
   },
   {
    "duration": 25,
    "start_time": "2023-07-10T09:32:33.676Z"
   },
   {
    "duration": 48,
    "start_time": "2023-07-10T09:32:33.703Z"
   },
   {
    "duration": 14,
    "start_time": "2023-07-10T09:32:33.753Z"
   },
   {
    "duration": 365,
    "start_time": "2023-07-10T09:32:33.769Z"
   },
   {
    "duration": 6,
    "start_time": "2023-07-10T09:32:34.136Z"
   },
   {
    "duration": 8,
    "start_time": "2023-07-10T09:32:34.144Z"
   },
   {
    "duration": 401,
    "start_time": "2023-07-10T09:32:34.153Z"
   },
   {
    "duration": 8,
    "start_time": "2023-07-10T09:32:34.557Z"
   },
   {
    "duration": 15,
    "start_time": "2023-07-10T09:32:34.567Z"
   },
   {
    "duration": 385,
    "start_time": "2023-07-10T09:32:34.584Z"
   },
   {
    "duration": 7,
    "start_time": "2023-07-10T09:32:34.971Z"
   },
   {
    "duration": 8,
    "start_time": "2023-07-10T09:32:34.980Z"
   },
   {
    "duration": 314,
    "start_time": "2023-07-10T09:32:34.991Z"
   },
   {
    "duration": 310,
    "start_time": "2023-07-10T09:32:35.307Z"
   },
   {
    "duration": 311,
    "start_time": "2023-07-10T09:32:35.619Z"
   },
   {
    "duration": 29,
    "start_time": "2023-07-10T09:32:35.931Z"
   },
   {
    "duration": 720,
    "start_time": "2023-07-10T09:32:35.962Z"
   },
   {
    "duration": 84,
    "start_time": "2023-07-10T09:32:36.684Z"
   },
   {
    "duration": 65,
    "start_time": "2023-07-10T09:32:36.770Z"
   },
   {
    "duration": 3,
    "start_time": "2023-07-10T09:32:36.837Z"
   },
   {
    "duration": 8,
    "start_time": "2023-07-10T09:32:36.841Z"
   },
   {
    "duration": 5,
    "start_time": "2023-07-10T09:32:36.851Z"
   },
   {
    "duration": 5,
    "start_time": "2023-07-10T09:32:36.858Z"
   },
   {
    "duration": 9,
    "start_time": "2023-07-10T09:32:36.865Z"
   },
   {
    "duration": 8,
    "start_time": "2023-07-10T09:32:36.875Z"
   },
   {
    "duration": 6,
    "start_time": "2023-07-10T09:32:36.884Z"
   },
   {
    "duration": 10,
    "start_time": "2023-07-10T09:32:36.891Z"
   },
   {
    "duration": 9,
    "start_time": "2023-07-10T09:32:36.903Z"
   },
   {
    "duration": 14,
    "start_time": "2023-07-10T09:32:36.913Z"
   },
   {
    "duration": 5,
    "start_time": "2023-07-10T09:32:36.928Z"
   },
   {
    "duration": 7,
    "start_time": "2023-07-10T09:32:36.935Z"
   },
   {
    "duration": 4,
    "start_time": "2023-07-10T09:32:36.943Z"
   },
   {
    "duration": 107,
    "start_time": "2023-07-10T09:32:36.949Z"
   },
   {
    "duration": 7,
    "start_time": "2023-07-10T09:33:15.516Z"
   },
   {
    "duration": 3,
    "start_time": "2023-07-10T09:33:20.815Z"
   },
   {
    "duration": 9,
    "start_time": "2023-07-10T09:33:24.232Z"
   },
   {
    "duration": 8,
    "start_time": "2023-07-10T09:33:43.327Z"
   },
   {
    "duration": 12,
    "start_time": "2023-07-10T09:33:46.716Z"
   },
   {
    "duration": 16,
    "start_time": "2023-07-10T09:35:37.139Z"
   },
   {
    "duration": 11,
    "start_time": "2023-07-10T09:36:30.819Z"
   },
   {
    "duration": 20,
    "start_time": "2023-07-10T09:37:39.473Z"
   },
   {
    "duration": 17,
    "start_time": "2023-07-10T09:50:03.910Z"
   },
   {
    "duration": 65,
    "start_time": "2023-07-10T18:24:51.999Z"
   },
   {
    "duration": 17,
    "start_time": "2023-07-10T18:24:58.024Z"
   },
   {
    "duration": 1842,
    "start_time": "2023-07-10T18:25:04.786Z"
   },
   {
    "duration": 2938,
    "start_time": "2023-07-10T18:25:06.630Z"
   },
   {
    "duration": 4,
    "start_time": "2023-07-10T18:25:09.569Z"
   },
   {
    "duration": 167,
    "start_time": "2023-07-10T18:25:09.574Z"
   },
   {
    "duration": 394,
    "start_time": "2023-07-10T18:25:09.743Z"
   },
   {
    "duration": 376,
    "start_time": "2023-07-10T18:25:10.140Z"
   },
   {
    "duration": 21,
    "start_time": "2023-07-10T18:25:10.520Z"
   },
   {
    "duration": 16,
    "start_time": "2023-07-10T18:25:10.542Z"
   },
   {
    "duration": 5,
    "start_time": "2023-07-10T18:25:10.559Z"
   },
   {
    "duration": 4,
    "start_time": "2023-07-10T18:25:10.566Z"
   },
   {
    "duration": 8,
    "start_time": "2023-07-10T18:25:10.571Z"
   },
   {
    "duration": 3,
    "start_time": "2023-07-10T18:25:10.580Z"
   },
   {
    "duration": 37,
    "start_time": "2023-07-10T18:25:10.584Z"
   },
   {
    "duration": 34,
    "start_time": "2023-07-10T18:25:10.635Z"
   },
   {
    "duration": 24,
    "start_time": "2023-07-10T18:25:10.670Z"
   },
   {
    "duration": 25,
    "start_time": "2023-07-10T18:25:10.696Z"
   },
   {
    "duration": 30,
    "start_time": "2023-07-10T18:25:10.722Z"
   },
   {
    "duration": 5,
    "start_time": "2023-07-10T18:25:10.754Z"
   },
   {
    "duration": 347,
    "start_time": "2023-07-10T18:25:10.760Z"
   },
   {
    "duration": 7,
    "start_time": "2023-07-10T18:25:11.108Z"
   },
   {
    "duration": 7,
    "start_time": "2023-07-10T18:25:11.116Z"
   },
   {
    "duration": 466,
    "start_time": "2023-07-10T18:25:11.124Z"
   },
   {
    "duration": 38,
    "start_time": "2023-07-10T18:25:11.591Z"
   },
   {
    "duration": 16,
    "start_time": "2023-07-10T18:25:11.637Z"
   },
   {
    "duration": 344,
    "start_time": "2023-07-10T18:25:11.655Z"
   },
   {
    "duration": 6,
    "start_time": "2023-07-10T18:25:12.000Z"
   },
   {
    "duration": 7,
    "start_time": "2023-07-10T18:25:12.007Z"
   },
   {
    "duration": 310,
    "start_time": "2023-07-10T18:25:12.015Z"
   },
   {
    "duration": 319,
    "start_time": "2023-07-10T18:25:12.326Z"
   },
   {
    "duration": 303,
    "start_time": "2023-07-10T18:25:12.649Z"
   },
   {
    "duration": 26,
    "start_time": "2023-07-10T18:25:12.954Z"
   },
   {
    "duration": 710,
    "start_time": "2023-07-10T18:25:12.981Z"
   },
   {
    "duration": 95,
    "start_time": "2023-07-10T18:25:13.693Z"
   },
   {
    "duration": 75,
    "start_time": "2023-07-10T18:25:13.790Z"
   },
   {
    "duration": 3,
    "start_time": "2023-07-10T18:25:13.867Z"
   },
   {
    "duration": 5,
    "start_time": "2023-07-10T18:25:13.871Z"
   },
   {
    "duration": 5,
    "start_time": "2023-07-10T18:25:13.877Z"
   },
   {
    "duration": 4,
    "start_time": "2023-07-10T18:25:13.883Z"
   },
   {
    "duration": 6,
    "start_time": "2023-07-10T18:25:13.888Z"
   },
   {
    "duration": 46,
    "start_time": "2023-07-10T18:25:13.897Z"
   },
   {
    "duration": 2,
    "start_time": "2023-07-10T18:25:13.948Z"
   },
   {
    "duration": 13,
    "start_time": "2023-07-10T18:25:13.952Z"
   },
   {
    "duration": 12,
    "start_time": "2023-07-10T18:25:13.966Z"
   },
   {
    "duration": 4,
    "start_time": "2023-07-10T18:25:13.980Z"
   },
   {
    "duration": 6,
    "start_time": "2023-07-10T18:25:13.986Z"
   },
   {
    "duration": 25,
    "start_time": "2023-07-10T18:25:13.994Z"
   },
   {
    "duration": 27,
    "start_time": "2023-07-10T18:25:14.020Z"
   },
   {
    "duration": 5,
    "start_time": "2023-07-10T18:25:14.048Z"
   },
   {
    "duration": 11,
    "start_time": "2023-07-10T18:25:14.054Z"
   },
   {
    "duration": 5,
    "start_time": "2023-07-10T18:25:14.066Z"
   },
   {
    "duration": 5,
    "start_time": "2023-07-10T18:25:14.073Z"
   },
   {
    "duration": 139472,
    "start_time": "2023-07-10T18:25:14.079Z"
   },
   {
    "duration": 0,
    "start_time": "2023-07-10T18:27:33.553Z"
   },
   {
    "duration": 0,
    "start_time": "2023-07-10T18:27:33.553Z"
   },
   {
    "duration": 0,
    "start_time": "2023-07-10T18:27:33.555Z"
   },
   {
    "duration": 0,
    "start_time": "2023-07-10T18:27:33.556Z"
   },
   {
    "duration": 0,
    "start_time": "2023-07-10T18:27:33.557Z"
   },
   {
    "duration": 0,
    "start_time": "2023-07-10T18:27:33.558Z"
   },
   {
    "duration": 0,
    "start_time": "2023-07-10T18:27:33.559Z"
   },
   {
    "duration": 0,
    "start_time": "2023-07-10T18:27:33.560Z"
   },
   {
    "duration": 28,
    "start_time": "2023-07-10T18:27:35.736Z"
   },
   {
    "duration": 25,
    "start_time": "2023-07-10T18:29:02.038Z"
   },
   {
    "duration": 16,
    "start_time": "2023-07-10T18:34:09.939Z"
   },
   {
    "duration": 15,
    "start_time": "2023-07-10T18:34:42.219Z"
   },
   {
    "duration": 13,
    "start_time": "2023-07-10T18:35:29.459Z"
   },
   {
    "duration": 9,
    "start_time": "2023-07-10T18:40:28.653Z"
   },
   {
    "duration": 8,
    "start_time": "2023-07-10T18:40:42.334Z"
   },
   {
    "duration": 8,
    "start_time": "2023-07-10T18:41:25.409Z"
   },
   {
    "duration": 8,
    "start_time": "2023-07-10T18:41:52.746Z"
   },
   {
    "duration": 11,
    "start_time": "2023-07-10T18:42:04.260Z"
   },
   {
    "duration": 10,
    "start_time": "2023-07-10T18:47:52.514Z"
   },
   {
    "duration": 8,
    "start_time": "2023-07-10T18:48:07.665Z"
   },
   {
    "duration": 4,
    "start_time": "2023-07-10T18:49:11.085Z"
   },
   {
    "duration": 11,
    "start_time": "2023-07-10T18:49:22.355Z"
   },
   {
    "duration": 30,
    "start_time": "2023-07-10T18:51:02.926Z"
   },
   {
    "duration": 33,
    "start_time": "2023-07-10T18:51:25.487Z"
   },
   {
    "duration": 20,
    "start_time": "2023-07-10T18:52:33.823Z"
   },
   {
    "duration": 12,
    "start_time": "2023-07-10T18:52:53.729Z"
   },
   {
    "duration": 11,
    "start_time": "2023-07-10T18:53:03.236Z"
   },
   {
    "duration": 16,
    "start_time": "2023-07-10T18:53:12.270Z"
   },
   {
    "duration": 17,
    "start_time": "2023-07-10T18:53:30.265Z"
   },
   {
    "duration": 13,
    "start_time": "2023-07-10T18:54:30.866Z"
   },
   {
    "duration": 1374,
    "start_time": "2023-07-10T18:54:42.196Z"
   },
   {
    "duration": 824,
    "start_time": "2023-07-10T18:54:43.572Z"
   },
   {
    "duration": 16,
    "start_time": "2023-07-10T18:54:44.397Z"
   },
   {
    "duration": 208,
    "start_time": "2023-07-10T18:54:44.426Z"
   },
   {
    "duration": 362,
    "start_time": "2023-07-10T18:54:44.647Z"
   },
   {
    "duration": 389,
    "start_time": "2023-07-10T18:54:45.010Z"
   },
   {
    "duration": 40,
    "start_time": "2023-07-10T18:54:45.401Z"
   },
   {
    "duration": 19,
    "start_time": "2023-07-10T18:54:45.444Z"
   },
   {
    "duration": 7,
    "start_time": "2023-07-10T18:54:45.465Z"
   },
   {
    "duration": 3,
    "start_time": "2023-07-10T18:54:45.473Z"
   },
   {
    "duration": 13,
    "start_time": "2023-07-10T18:54:45.477Z"
   },
   {
    "duration": 5,
    "start_time": "2023-07-10T18:54:45.491Z"
   },
   {
    "duration": 68,
    "start_time": "2023-07-10T18:54:45.497Z"
   },
   {
    "duration": 25,
    "start_time": "2023-07-10T18:54:45.568Z"
   },
   {
    "duration": 42,
    "start_time": "2023-07-10T18:54:45.594Z"
   },
   {
    "duration": 24,
    "start_time": "2023-07-10T18:54:45.639Z"
   },
   {
    "duration": 7,
    "start_time": "2023-07-10T18:54:45.664Z"
   },
   {
    "duration": 4,
    "start_time": "2023-07-10T18:54:45.673Z"
   },
   {
    "duration": 356,
    "start_time": "2023-07-10T18:54:45.678Z"
   },
   {
    "duration": 9,
    "start_time": "2023-07-10T18:54:46.036Z"
   },
   {
    "duration": 15,
    "start_time": "2023-07-10T18:54:46.047Z"
   },
   {
    "duration": 446,
    "start_time": "2023-07-10T18:54:46.063Z"
   },
   {
    "duration": 29,
    "start_time": "2023-07-10T18:54:46.510Z"
   },
   {
    "duration": 15,
    "start_time": "2023-07-10T18:54:46.547Z"
   },
   {
    "duration": 402,
    "start_time": "2023-07-10T18:54:46.563Z"
   },
   {
    "duration": 6,
    "start_time": "2023-07-10T18:54:46.966Z"
   },
   {
    "duration": 8,
    "start_time": "2023-07-10T18:54:46.974Z"
   },
   {
    "duration": 336,
    "start_time": "2023-07-10T18:54:46.984Z"
   },
   {
    "duration": 318,
    "start_time": "2023-07-10T18:54:47.321Z"
   },
   {
    "duration": 292,
    "start_time": "2023-07-10T18:54:47.640Z"
   },
   {
    "duration": 28,
    "start_time": "2023-07-10T18:54:47.934Z"
   },
   {
    "duration": 792,
    "start_time": "2023-07-10T18:54:47.964Z"
   },
   {
    "duration": 250,
    "start_time": "2023-07-10T18:54:48.759Z"
   },
   {
    "duration": 144,
    "start_time": "2023-07-10T18:54:49.011Z"
   },
   {
    "duration": 11,
    "start_time": "2023-07-10T18:54:49.203Z"
   },
   {
    "duration": 51,
    "start_time": "2023-07-10T18:54:49.216Z"
   },
   {
    "duration": 7,
    "start_time": "2023-07-10T18:54:49.268Z"
   },
   {
    "duration": 6,
    "start_time": "2023-07-10T18:54:49.277Z"
   },
   {
    "duration": 32,
    "start_time": "2023-07-10T18:54:49.285Z"
   },
   {
    "duration": 31,
    "start_time": "2023-07-10T18:54:49.324Z"
   },
   {
    "duration": 16,
    "start_time": "2023-07-10T18:54:49.359Z"
   },
   {
    "duration": 30,
    "start_time": "2023-07-10T18:54:49.376Z"
   },
   {
    "duration": 69,
    "start_time": "2023-07-10T18:54:49.408Z"
   },
   {
    "duration": 35,
    "start_time": "2023-07-10T18:54:49.478Z"
   },
   {
    "duration": 49,
    "start_time": "2023-07-10T18:54:49.514Z"
   },
   {
    "duration": 11,
    "start_time": "2023-07-10T18:54:49.565Z"
   },
   {
    "duration": 39,
    "start_time": "2023-07-10T18:54:49.578Z"
   },
   {
    "duration": 5,
    "start_time": "2023-07-10T18:54:49.618Z"
   },
   {
    "duration": 39,
    "start_time": "2023-07-10T18:54:49.624Z"
   },
   {
    "duration": 4,
    "start_time": "2023-07-10T18:54:49.665Z"
   },
   {
    "duration": 30,
    "start_time": "2023-07-10T18:54:49.671Z"
   },
   {
    "duration": 436945,
    "start_time": "2023-07-10T18:54:49.702Z"
   },
   {
    "duration": 80,
    "start_time": "2023-07-10T19:02:06.653Z"
   },
   {
    "duration": 34,
    "start_time": "2023-07-10T19:02:06.734Z"
   },
   {
    "duration": 70,
    "start_time": "2023-07-10T19:02:06.770Z"
   },
   {
    "duration": 32,
    "start_time": "2023-07-10T19:02:06.842Z"
   },
   {
    "duration": 29,
    "start_time": "2023-07-10T19:02:06.876Z"
   },
   {
    "duration": 8,
    "start_time": "2023-07-10T19:02:06.909Z"
   },
   {
    "duration": 385,
    "start_time": "2023-07-10T19:02:06.918Z"
   },
   {
    "duration": 0,
    "start_time": "2023-07-10T19:02:07.306Z"
   },
   {
    "duration": 14,
    "start_time": "2023-07-10T19:03:06.256Z"
   },
   {
    "duration": 16,
    "start_time": "2023-07-10T19:03:09.842Z"
   },
   {
    "duration": 25,
    "start_time": "2023-07-10T19:07:35.019Z"
   },
   {
    "duration": 26,
    "start_time": "2023-07-10T19:07:37.991Z"
   },
   {
    "duration": 15,
    "start_time": "2023-07-10T19:10:18.652Z"
   },
   {
    "duration": 11,
    "start_time": "2023-07-10T19:10:41.570Z"
   },
   {
    "duration": 6,
    "start_time": "2023-07-10T19:10:50.848Z"
   },
   {
    "duration": 4,
    "start_time": "2023-07-10T19:11:17.347Z"
   },
   {
    "duration": 19,
    "start_time": "2023-07-10T19:11:50.733Z"
   },
   {
    "duration": 10,
    "start_time": "2023-07-10T19:13:02.623Z"
   },
   {
    "duration": 16,
    "start_time": "2023-07-10T19:13:27.121Z"
   },
   {
    "duration": 5,
    "start_time": "2023-07-10T19:13:28.733Z"
   },
   {
    "duration": 51,
    "start_time": "2023-07-10T19:14:25.990Z"
   },
   {
    "duration": 19,
    "start_time": "2023-07-10T19:14:35.298Z"
   },
   {
    "duration": 3,
    "start_time": "2023-07-10T19:14:41.160Z"
   },
   {
    "duration": 15,
    "start_time": "2023-07-10T19:14:45.361Z"
   },
   {
    "duration": 139,
    "start_time": "2023-07-10T19:15:41.066Z"
   },
   {
    "duration": 104,
    "start_time": "2023-07-10T19:16:30.325Z"
   },
   {
    "duration": 109,
    "start_time": "2023-07-10T19:16:59.433Z"
   },
   {
    "duration": 15,
    "start_time": "2023-07-10T19:17:45.216Z"
   },
   {
    "duration": 4,
    "start_time": "2023-07-10T19:18:01.060Z"
   },
   {
    "duration": 13,
    "start_time": "2023-07-10T19:18:17.256Z"
   },
   {
    "duration": 9,
    "start_time": "2023-07-10T19:18:19.525Z"
   },
   {
    "duration": 4,
    "start_time": "2023-07-10T19:18:21.858Z"
   },
   {
    "duration": 4,
    "start_time": "2023-07-10T19:21:54.355Z"
   },
   {
    "duration": 12,
    "start_time": "2023-07-10T19:22:00.867Z"
   },
   {
    "duration": 4,
    "start_time": "2023-07-10T19:22:03.241Z"
   },
   {
    "duration": 5,
    "start_time": "2023-07-10T19:22:32.233Z"
   },
   {
    "duration": 11,
    "start_time": "2023-07-10T19:22:45.622Z"
   },
   {
    "duration": 15,
    "start_time": "2023-07-10T19:22:57.265Z"
   },
   {
    "duration": 11,
    "start_time": "2023-07-10T19:26:45.139Z"
   },
   {
    "duration": 69,
    "start_time": "2023-07-10T19:27:14.627Z"
   },
   {
    "duration": 89,
    "start_time": "2023-07-10T19:28:08.677Z"
   },
   {
    "duration": 77,
    "start_time": "2023-07-10T19:28:25.338Z"
   },
   {
    "duration": 97,
    "start_time": "2023-07-10T19:28:37.357Z"
   },
   {
    "duration": 11,
    "start_time": "2023-07-10T19:29:33.428Z"
   },
   {
    "duration": 4,
    "start_time": "2023-07-10T19:29:36.672Z"
   },
   {
    "duration": 72,
    "start_time": "2023-07-10T19:29:45.962Z"
   },
   {
    "duration": 81,
    "start_time": "2023-07-10T19:29:54.854Z"
   },
   {
    "duration": 12,
    "start_time": "2023-07-10T19:33:52.626Z"
   },
   {
    "duration": 5,
    "start_time": "2023-07-10T19:34:34.722Z"
   },
   {
    "duration": 10,
    "start_time": "2023-07-10T19:34:54.365Z"
   },
   {
    "duration": 4,
    "start_time": "2023-07-10T19:56:50.385Z"
   },
   {
    "duration": 4,
    "start_time": "2023-07-10T19:56:52.361Z"
   },
   {
    "duration": 3,
    "start_time": "2023-07-10T19:57:00.273Z"
   },
   {
    "duration": 4,
    "start_time": "2023-07-10T19:57:10.962Z"
   },
   {
    "duration": 3,
    "start_time": "2023-07-10T19:57:18.031Z"
   },
   {
    "duration": 3,
    "start_time": "2023-07-10T19:57:21.679Z"
   },
   {
    "duration": 3,
    "start_time": "2023-07-10T19:57:21.753Z"
   },
   {
    "duration": 51,
    "start_time": "2023-07-10T20:02:59.024Z"
   },
   {
    "duration": 16,
    "start_time": "2023-07-10T20:03:06.178Z"
   },
   {
    "duration": 11,
    "start_time": "2023-07-10T20:03:08.378Z"
   },
   {
    "duration": 50,
    "start_time": "2023-07-10T20:03:12.544Z"
   },
   {
    "duration": 54,
    "start_time": "2023-07-10T20:03:17.624Z"
   },
   {
    "duration": 10,
    "start_time": "2023-07-10T20:04:12.923Z"
   },
   {
    "duration": 15,
    "start_time": "2023-07-10T20:04:28.127Z"
   },
   {
    "duration": 50,
    "start_time": "2023-07-10T20:05:44.221Z"
   },
   {
    "duration": 99,
    "start_time": "2023-07-10T20:08:05.327Z"
   },
   {
    "duration": 50,
    "start_time": "2023-07-10T20:08:08.230Z"
   },
   {
    "duration": 4,
    "start_time": "2023-07-10T20:08:36.226Z"
   },
   {
    "duration": 4,
    "start_time": "2023-07-10T20:08:37.939Z"
   },
   {
    "duration": 12,
    "start_time": "2023-07-10T20:08:50.171Z"
   },
   {
    "duration": 16,
    "start_time": "2023-07-10T20:08:54.266Z"
   },
   {
    "duration": 3,
    "start_time": "2023-07-10T20:12:37.750Z"
   },
   {
    "duration": 3,
    "start_time": "2023-07-10T20:12:42.347Z"
   },
   {
    "duration": 6,
    "start_time": "2023-07-10T20:13:11.718Z"
   },
   {
    "duration": 7,
    "start_time": "2023-07-10T20:13:13.717Z"
   },
   {
    "duration": 10,
    "start_time": "2023-07-10T20:13:16.799Z"
   },
   {
    "duration": 4,
    "start_time": "2023-07-10T20:13:23.025Z"
   },
   {
    "duration": 66,
    "start_time": "2023-07-10T20:13:31.347Z"
   },
   {
    "duration": 50,
    "start_time": "2023-07-10T20:13:37.442Z"
   },
   {
    "duration": 45,
    "start_time": "2023-07-10T20:16:45.846Z"
   },
   {
    "duration": 47,
    "start_time": "2023-07-10T20:19:31.323Z"
   },
   {
    "duration": 48,
    "start_time": "2023-07-10T20:20:04.122Z"
   },
   {
    "duration": 45,
    "start_time": "2023-07-10T20:21:31.850Z"
   },
   {
    "duration": 10,
    "start_time": "2023-07-10T20:21:36.851Z"
   },
   {
    "duration": 12,
    "start_time": "2023-07-10T20:23:27.130Z"
   },
   {
    "duration": 10,
    "start_time": "2023-07-10T20:24:01.126Z"
   },
   {
    "duration": 14,
    "start_time": "2023-07-10T20:24:23.912Z"
   },
   {
    "duration": 11,
    "start_time": "2023-07-10T20:25:44.342Z"
   },
   {
    "duration": 15,
    "start_time": "2023-07-10T20:25:53.445Z"
   },
   {
    "duration": 49,
    "start_time": "2023-07-10T20:26:22.127Z"
   },
   {
    "duration": 13,
    "start_time": "2023-07-10T20:26:26.256Z"
   },
   {
    "duration": 31,
    "start_time": "2023-07-10T20:26:29.198Z"
   },
   {
    "duration": 9,
    "start_time": "2023-07-10T20:27:16.171Z"
   },
   {
    "duration": 7,
    "start_time": "2023-07-10T20:27:21.327Z"
   },
   {
    "duration": 4,
    "start_time": "2023-07-10T20:29:52.730Z"
   },
   {
    "duration": 171,
    "start_time": "2023-07-10T20:29:56.606Z"
   },
   {
    "duration": 98,
    "start_time": "2023-07-10T20:32:25.143Z"
   },
   {
    "duration": 65,
    "start_time": "2023-07-10T20:36:40.452Z"
   },
   {
    "duration": 92,
    "start_time": "2023-07-10T20:38:26.898Z"
   }
  ],
  "kernelspec": {
   "display_name": "Python 3 (ipykernel)",
   "language": "python",
   "name": "python3"
  },
  "language_info": {
   "codemirror_mode": {
    "name": "ipython",
    "version": 3
   },
   "file_extension": ".py",
   "mimetype": "text/x-python",
   "name": "python",
   "nbconvert_exporter": "python",
   "pygments_lexer": "ipython3",
   "version": "3.9.5"
  },
  "toc": {
   "base_numbering": 1,
   "nav_menu": {},
   "number_sections": true,
   "sideBar": true,
   "skip_h1_title": true,
   "title_cell": "Содержание",
   "title_sidebar": "Contents",
   "toc_cell": true,
   "toc_position": {
    "height": "calc(100% - 180px)",
    "left": "10px",
    "top": "150px",
    "width": "165px"
   },
   "toc_section_display": true,
   "toc_window_display": true
  }
 },
 "nbformat": 4,
 "nbformat_minor": 2
}
